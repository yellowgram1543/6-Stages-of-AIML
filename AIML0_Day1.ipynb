{
  "nbformat": 4,
  "nbformat_minor": 0,
  "metadata": {
    "colab": {
      "provenance": [],
      "authorship_tag": "ABX9TyO8S21Y+0ed40bMJWQB4KBa",
      "include_colab_link": true
    },
    "kernelspec": {
      "name": "python3",
      "display_name": "Python 3"
    },
    "language_info": {
      "name": "python"
    }
  },
  "cells": [
    {
      "cell_type": "markdown",
      "metadata": {
        "id": "view-in-github",
        "colab_type": "text"
      },
      "source": [
        "<a href=\"https://colab.research.google.com/github/yellowgram1543/6-Stages-of-AIML/blob/main/AIML0_Day1.ipynb\" target=\"_parent\"><img src=\"https://colab.research.google.com/assets/colab-badge.svg\" alt=\"Open In Colab\"/></a>"
      ]
    },
    {
      "cell_type": "markdown",
      "source": [],
      "metadata": {
        "id": "mXYR1Tm_xQAn"
      }
    },
    {
      "cell_type": "markdown",
      "source": [
        "# NumPy — Concept (AI/ML Focus)\n",
        "\n",
        "### What is NumPy?\n",
        "\n",
        "* **NumPy (Numerical Python)** is the **foundation library** for scientific computing in Python.\n",
        "* In AI/ML, almost all libraries (Pandas, TensorFlow, PyTorch, Scikit-learn) internally use **NumPy arrays**.\n",
        "\n",
        "---\n",
        "\n",
        "### Why not just Python lists?\n",
        "\n",
        "* Python lists are **slow** for large datasets.\n",
        "* NumPy arrays are:\n",
        "\n",
        "  * **Faster** (written in C under the hood).\n",
        "  * **Memory efficient** (store data in a compact form).\n",
        "  * **Vectorized** (you can apply operations on entire arrays without loops).\n",
        "\n",
        "---\n",
        "\n",
        "### Core Idea\n",
        "\n",
        "* A **NumPy array (ndarray)** is like a **grid of numbers**, all of the **same type** (int, float, etc.), arranged in **1D, 2D, or higher dimensions**.\n",
        "* This makes them perfect for representing:\n",
        "\n",
        "  * **Vectors** (1D array)\n",
        "  * **Matrices** (2D array)\n",
        "  * **Tensors** (3D+ arrays, heavily used in Deep Learning)\n",
        "\n",
        "---\n",
        "\n",
        "### Example in AI/ML Context\n",
        "\n",
        "* A **dataset** can be stored as a 2D NumPy array (rows = samples, columns = features).\n",
        "* An **image** is often stored as a 3D NumPy array (height × width × channels).\n",
        "* Matrix operations (dot products, multiplications) are core to ML algorithms — NumPy makes them super easy."
      ],
      "metadata": {
        "id": "b39Rixb5rtrG"
      }
    },
    {
      "cell_type": "code",
      "source": [
        "# importing\n",
        "import numpy as np"
      ],
      "metadata": {
        "id": "0QCsithHOQzD"
      },
      "execution_count": 6,
      "outputs": []
    },
    {
      "cell_type": "code",
      "source": [
        "arr = np.array([1, 2, 3, 4, 5])\n",
        "print(arr)"
      ],
      "metadata": {
        "colab": {
          "base_uri": "https://localhost:8080/"
        },
        "id": "drvZPqwBOVa5",
        "outputId": "7f95538d-a237-4c89-e6b2-5b82133023b5"
      },
      "execution_count": 7,
      "outputs": [
        {
          "output_type": "stream",
          "name": "stdout",
          "text": [
            "[1 2 3 4 5]\n"
          ]
        }
      ]
    },
    {
      "cell_type": "code",
      "source": [
        "b = arr * 2  # Multiply every element by 2 → [2 4 6 8 10]\n",
        "print(arr, b)"
      ],
      "metadata": {
        "colab": {
          "base_uri": "https://localhost:8080/"
        },
        "id": "V-VmNvzTOgoM",
        "outputId": "7ae8d071-1d31-4b20-d810-31a76509bcfb"
      },
      "execution_count": 8,
      "outputs": [
        {
          "output_type": "stream",
          "name": "stdout",
          "text": [
            "[1 2 3 4 5] [ 2  4  6  8 10]\n"
          ]
        }
      ]
    },
    {
      "cell_type": "code",
      "source": [
        "matrix = np.array([[1, 2, 3],\n",
        "                   [4, 5, 6]])\n",
        "print(matrix)"
      ],
      "metadata": {
        "colab": {
          "base_uri": "https://localhost:8080/"
        },
        "id": "vlt-UH5-OwwT",
        "outputId": "9db6bd60-5941-46e1-bdf7-b54aa0029c95"
      },
      "execution_count": 9,
      "outputs": [
        {
          "output_type": "stream",
          "name": "stdout",
          "text": [
            "[[1 2 3]\n",
            " [4 5 6]]\n"
          ]
        }
      ]
    },
    {
      "cell_type": "code",
      "source": [
        "m = matrix + 10\n",
        "print(matrix,\"\\n new array\",\"\\n\" , m)"
      ],
      "metadata": {
        "colab": {
          "base_uri": "https://localhost:8080/"
        },
        "id": "3VB5rG0POz3S",
        "outputId": "29a02eb8-f5af-4ba7-ce86-bba7c620f909"
      },
      "execution_count": 10,
      "outputs": [
        {
          "output_type": "stream",
          "name": "stdout",
          "text": [
            "[[1 2 3]\n",
            " [4 5 6]] \n",
            " new array \n",
            " [[11 12 13]\n",
            " [14 15 16]]\n"
          ]
        }
      ]
    },
    {
      "cell_type": "markdown",
      "source": [
        "### Core Attributes\n",
        "- **Number of Dimensions**: The number of dimensions is the array's `ndim` attribute. It tells you how many indices you need to specify to access a single element. A 1-D array has ndim=1, a 2-D array has ndim=2, and so on.\n",
        "- `ndarray.shape`: A tuple of integers that indicates the size of the array in each dimension. For example, a 2D array with 3 rows and 4 columns would have a shape of (3, 4).\n",
        "- `ndarray.size`: The total number of elements in the array. This is the product of the elements in the shape tuple.\n",
        "- `ndarray.dtype`: The data type of the elements in the array (e.g., int32, float64). All elements must have the same dtype\n",
        "- `ndarray.itemsize`: The size in bytes of each element.\n",
        "- `ndarray.data`: The buffer containing the actual elements of the array."
      ],
      "metadata": {
        "id": "oDgF0erTP6L3"
      }
    },
    {
      "cell_type": "code",
      "source": [
        "# array properties\n",
        "print(arr.shape)\n",
        "print(arr.dtype)\n",
        "print(matrix.shape)  # (2, 3) → 2 rows, 3 columns\n",
        "print(matrix.dtype)  # data type (int32, float64, etc.)"
      ],
      "metadata": {
        "colab": {
          "base_uri": "https://localhost:8080/"
        },
        "id": "7vdjtCduPX7j",
        "outputId": "6a1dc0c2-bf2b-4ee2-bb77-fcf1b7dfcb3c"
      },
      "execution_count": 11,
      "outputs": [
        {
          "output_type": "stream",
          "name": "stdout",
          "text": [
            "(5,)\n",
            "int64\n",
            "(2, 3)\n",
            "int64\n"
          ]
        }
      ]
    },
    {
      "cell_type": "code",
      "source": [
        "# array indexing and slicing\n",
        "print(matrix[0, 1])   # element in first row, second column → 2\n",
        "print(matrix[:, 2])   # all rows, third column → [3 6]"
      ],
      "metadata": {
        "colab": {
          "base_uri": "https://localhost:8080/"
        },
        "id": "0KdT9dRBPin-",
        "outputId": "b95c38bb-6798-4cfb-bb86-7216641208da"
      },
      "execution_count": 12,
      "outputs": [
        {
          "output_type": "stream",
          "name": "stdout",
          "text": [
            "2\n",
            "[3 6]\n"
          ]
        }
      ]
    },
    {
      "cell_type": "markdown",
      "source": [
        "### Indexing in detail"
      ],
      "metadata": {
        "id": "iuDIm2-eZSQT"
      }
    },
    {
      "cell_type": "code",
      "source": [
        "A = np.array([[1, 2, 3],\n",
        "              [4, 5, 6],\n",
        "              [7, 8, 9]])\n",
        "\n",
        "print(A.ndim, A.shape) #dimension and shape of the matrix\n",
        "\n",
        "print(\"\\n Access an element:\", A[1, 2])  # Output: 6\n",
        "\n",
        "print(\"\\n Row selection:\", A[0])  # Row Selection: To get the entire row, specify the row index.\n",
        "\n",
        "print(\"\\n Column Selection:\", A[:, 1])  # Column Selection: Use the colon (:) to select all rows, then specify the column index."
      ],
      "metadata": {
        "colab": {
          "base_uri": "https://localhost:8080/"
        },
        "id": "0DG_XBQxZQbL",
        "outputId": "7e384d02-1ac3-4083-bf37-acc189179ed8"
      },
      "execution_count": 13,
      "outputs": [
        {
          "output_type": "stream",
          "name": "stdout",
          "text": [
            "2 (3, 3)\n",
            "\n",
            " Access an element: 6\n",
            "\n",
            " Row selection: [1 2 3]\n",
            "\n",
            " Column Selection: [2 5 8]\n"
          ]
        }
      ]
    },
    {
      "cell_type": "markdown",
      "source": [
        "\n",
        "\n",
        "---\n",
        "\n",
        "\n",
        "**Negative indices** count from the end of the array. This is very useful for selecting the last or second-to-last element without knowing the array's size."
      ],
      "metadata": {
        "id": "O_CMmZiXbFk7"
      }
    },
    {
      "cell_type": "code",
      "source": [
        "a = np.array([1, 2, 3, 4, 5])\n",
        "print(a[-1])  # Output: 5 (last element)\n",
        "print(a[-2])  # Output: 4 (second-to-last element)"
      ],
      "metadata": {
        "colab": {
          "base_uri": "https://localhost:8080/"
        },
        "id": "MQWN4e6AbbNE",
        "outputId": "d79f632a-3988-4fb8-f46a-be93f45ccab5"
      },
      "execution_count": 14,
      "outputs": [
        {
          "output_type": "stream",
          "name": "stdout",
          "text": [
            "5\n",
            "4\n"
          ]
        }
      ]
    },
    {
      "cell_type": "markdown",
      "source": [
        "\n",
        "\n",
        "---\n",
        "\n",
        "\n",
        "**Ellipsis (...)**\n",
        "\n",
        "The ellipsis is a shorthand for selecting all remaining axes. It's especially useful for working with high-dimensional arrays, where you only want to specify a few axes and let NumPy handle the rest."
      ],
      "metadata": {
        "id": "rnsz6PIqbxHr"
      }
    },
    {
      "cell_type": "code",
      "source": [
        "B = np.arange(27).reshape(3, 3, 3) # A 3x3x3 tensor\n",
        "print(\"B: \\n\", B)\n",
        "print(\"\\n Ex \\n\", B[0, 1])\n",
        "print(\"\\n Ex2 \\n\", B[:, 1, :])\n",
        "print(\"\\n Ellipsis \\n\", B[..., 0])\n",
        "# the last index fixed at 0, keep everything else.\n",
        "# It is equivalent to B[:, :, 0]\n",
        "# Output:\n",
        "# [[ 0  3  6]\n",
        "#  [ 9 12 15]\n",
        "#  [18 21 24]]"
      ],
      "metadata": {
        "colab": {
          "base_uri": "https://localhost:8080/"
        },
        "id": "3rVcV2yib472",
        "outputId": "f440eeed-6929-4ad1-bd5d-266e5a1a9bba"
      },
      "execution_count": 15,
      "outputs": [
        {
          "output_type": "stream",
          "name": "stdout",
          "text": [
            "B: \n",
            " [[[ 0  1  2]\n",
            "  [ 3  4  5]\n",
            "  [ 6  7  8]]\n",
            "\n",
            " [[ 9 10 11]\n",
            "  [12 13 14]\n",
            "  [15 16 17]]\n",
            "\n",
            " [[18 19 20]\n",
            "  [21 22 23]\n",
            "  [24 25 26]]]\n",
            "\n",
            " Ex \n",
            " [3 4 5]\n",
            "\n",
            " Ex2 \n",
            " [[ 3  4  5]\n",
            " [12 13 14]\n",
            " [21 22 23]]\n",
            "\n",
            " Ellipsis \n",
            " [[ 0  3  6]\n",
            " [ 9 12 15]\n",
            " [18 21 24]]\n"
          ]
        }
      ]
    },
    {
      "cell_type": "code",
      "source": [
        "C = np.arange(24).reshape(2, 3, 4)\n",
        "print(\"\\n\", C)\n",
        "print(\"\\n\", C.shape)     # (2, 3, 4)\n",
        "\n",
        "#Dimension 0 → Depth (2 slices)\n",
        "#Dimension 1 → Rows (3 rows per slice)\n",
        "#Dimension 2 → Columns (4 columns per row)"
      ],
      "metadata": {
        "colab": {
          "base_uri": "https://localhost:8080/"
        },
        "id": "RAbG92gKtyxm",
        "outputId": "80d9186c-ff37-44cf-ef60-fc451c51c7bc"
      },
      "execution_count": 16,
      "outputs": [
        {
          "output_type": "stream",
          "name": "stdout",
          "text": [
            "\n",
            " [[[ 0  1  2  3]\n",
            "  [ 4  5  6  7]\n",
            "  [ 8  9 10 11]]\n",
            "\n",
            " [[12 13 14 15]\n",
            "  [16 17 18 19]\n",
            "  [20 21 22 23]]]\n",
            "\n",
            " (2, 3, 4)\n"
          ]
        }
      ]
    },
    {
      "cell_type": "markdown",
      "source": [
        "\n",
        "\n",
        "---\n",
        "\n",
        "\n",
        "**New Axis** (`None` / `np.newaxis`)\n",
        "\n",
        "This adds a new dimension of size 1 to an array. It's often used to make arrays compatible for broadcasting.\n",
        "\n",
        "`np.newaxis` is a convenient alias for `None` in NumPy. When used in array indexing, it adds a new axis (dimension) of size 1 to the array."
      ],
      "metadata": {
        "id": "vq7QM-dZwLuF"
      }
    },
    {
      "cell_type": "code",
      "source": [
        "print(np.newaxis is None)  # True"
      ],
      "metadata": {
        "colab": {
          "base_uri": "https://localhost:8080/"
        },
        "id": "MeuqNOCbwhM5",
        "outputId": "1283a9e3-2a2b-4d60-a231-88a6ce7fbd39"
      },
      "execution_count": 17,
      "outputs": [
        {
          "output_type": "stream",
          "name": "stdout",
          "text": [
            "True\n"
          ]
        }
      ]
    },
    {
      "cell_type": "markdown",
      "source": [
        "**Example 1: Turn a 1D array into a 2D row vector**"
      ],
      "metadata": {
        "id": "FHMB2hgaw2Xj"
      }
    },
    {
      "cell_type": "code",
      "source": [
        "a = np.array([1, 2, 3])\n",
        "print(\"Original shape:\", a.shape)  # (3,)\n",
        "\n",
        "# Add new axis at the beginning → becomes row vector (1, 3)\n",
        "b = a[np.newaxis, :]\n",
        "print(\"New shape:\", b.shape)       # (1, 3)\n",
        "print(b)\n",
        "# Output: [[1 2 3]]"
      ],
      "metadata": {
        "colab": {
          "base_uri": "https://localhost:8080/"
        },
        "id": "_O-uiwEMw4hN",
        "outputId": "9215fd21-8fc4-4015-e5f4-c42ac6531070"
      },
      "execution_count": 18,
      "outputs": [
        {
          "output_type": "stream",
          "name": "stdout",
          "text": [
            "Original shape: (3,)\n",
            "New shape: (1, 3)\n",
            "[[1 2 3]]\n"
          ]
        }
      ]
    },
    {
      "cell_type": "markdown",
      "source": [
        "**Example 2: Turn a 1D array into a 2D column vector**"
      ],
      "metadata": {
        "id": "NTPMJ5Vdxz1z"
      }
    },
    {
      "cell_type": "code",
      "source": [
        "x = np.array([1, 2, 3])\n",
        "print(f\"Original shape: {x.shape}\") # (3,)\n",
        "x_reshaped = x[:, np.newaxis]\n",
        "print(f\"Reshaped array:\\n{x_reshaped}\")\n",
        "print(f\"New shape: {x_reshaped.shape}\") # (3, 1)"
      ],
      "metadata": {
        "colab": {
          "base_uri": "https://localhost:8080/"
        },
        "id": "vVGZlWr-cMwS",
        "outputId": "1167c188-9484-4386-962b-06e6d8b62a20"
      },
      "execution_count": 19,
      "outputs": [
        {
          "output_type": "stream",
          "name": "stdout",
          "text": [
            "Original shape: (3,)\n",
            "Reshaped array:\n",
            "[[1]\n",
            " [2]\n",
            " [3]]\n",
            "New shape: (3, 1)\n"
          ]
        }
      ]
    },
    {
      "cell_type": "markdown",
      "source": [
        "**Example 3: Add Multiple New Axes**"
      ],
      "metadata": {
        "id": "u0zShcLpyoYJ"
      }
    },
    {
      "cell_type": "code",
      "source": [
        "a = np.array([1, 2, 3])\n",
        "\n",
        "# Make it shape (1, 3, 1)\n",
        "b = a[np.newaxis, :, np.newaxis]\n",
        "print(b.shape)   # (1, 3, 1)\n",
        "print(b)"
      ],
      "metadata": {
        "colab": {
          "base_uri": "https://localhost:8080/"
        },
        "id": "vEwCM-NnyrUv",
        "outputId": "cd1e6786-7627-49e9-83b4-9537c5b962a7"
      },
      "execution_count": 20,
      "outputs": [
        {
          "output_type": "stream",
          "name": "stdout",
          "text": [
            "(1, 3, 1)\n",
            "[[[1]\n",
            "  [2]\n",
            "  [3]]]\n"
          ]
        }
      ]
    },
    {
      "cell_type": "markdown",
      "source": [
        "\n",
        "\n",
        "---\n",
        "\n",
        "\n",
        "**Fancy Indexing**\n",
        "\n",
        "Fancy indexing means using arrays of integers (or boolean masks — though boolean is technically a separate category) to access elements in a NumPy array. Unlike basic slicing (:), fancy indexing allows you to pick arbitrary elements in any order, even repeating them.\n",
        "\n",
        "Fancy indexing always returns a copy of the data (not a view), unlike basic slicing which returns a view."
      ],
      "metadata": {
        "id": "ppFlkd7w3t0T"
      }
    },
    {
      "cell_type": "code",
      "source": [
        "arr = np.array([10, 20, 30, 40, 50])\n",
        "indices = np.array([1, 3, 0])\n",
        "\n",
        "result = arr[indices]\n",
        "print(result)  # [20 40 10]"
      ],
      "metadata": {
        "colab": {
          "base_uri": "https://localhost:8080/"
        },
        "id": "YMYvBvzo3teI",
        "outputId": "f044007d-6a55-4145-ba13-f1da2a73ed5e"
      },
      "execution_count": 21,
      "outputs": [
        {
          "output_type": "stream",
          "name": "stdout",
          "text": [
            "[20 40 10]\n"
          ]
        }
      ]
    },
    {
      "cell_type": "markdown",
      "source": [
        "**1D Fancy Indexing**"
      ],
      "metadata": {
        "id": "x5PxAFe_4j0Z"
      }
    },
    {
      "cell_type": "code",
      "source": [
        "arr = np.array([100, 200, 300, 400, 500])\n",
        "\n",
        "# Select specific indices\n",
        "print(arr[[0, 2, 4]])    # [100 300 500]\n",
        "\n",
        "# Repeating indices is allowed\n",
        "print(arr[[0, 0, 1, 1]]) # [100 100 200 200]\n",
        "\n",
        "# Negative indices work too\n",
        "print(arr[[-1, -2]])     # [500 400]\n",
        "\n",
        "# You can use a NumPy array or a Python list — both work\n",
        "idx = np.array([3, 1])\n",
        "print(arr[idx])          # [400 200]"
      ],
      "metadata": {
        "colab": {
          "base_uri": "https://localhost:8080/"
        },
        "id": "kVOWqeUC4cYh",
        "outputId": "c71aec01-b78a-40cc-e49b-cf4163176051"
      },
      "execution_count": 22,
      "outputs": [
        {
          "output_type": "stream",
          "name": "stdout",
          "text": [
            "[100 300 500]\n",
            "[100 100 200 200]\n",
            "[500 400]\n",
            "[400 200]\n"
          ]
        }
      ]
    },
    {
      "cell_type": "markdown",
      "source": [
        "**2D Fancy Indexing**"
      ],
      "metadata": {
        "id": "phzgPAs14g5b"
      }
    },
    {
      "cell_type": "code",
      "source": [
        "A = np.array([[ 1,  2,  3],\n",
        "              [ 4,  5,  6],\n",
        "              [ 7,  8,  9],\n",
        "              [10, 11, 12]])\n",
        "\n",
        "rows = np.array([0, 2, 1])\n",
        "cols = np.array([1, 2, 0])\n",
        "\n",
        "print(A[rows, cols])"
      ],
      "metadata": {
        "colab": {
          "base_uri": "https://localhost:8080/"
        },
        "id": "sJN9XtPd4wiP",
        "outputId": "6979b909-7e94-497c-904f-d4de66a305b8"
      },
      "execution_count": 23,
      "outputs": [
        {
          "output_type": "stream",
          "name": "stdout",
          "text": [
            "[2 9 4]\n"
          ]
        }
      ]
    },
    {
      "cell_type": "markdown",
      "source": [
        "**Fancy Indexing + Slicing**"
      ],
      "metadata": {
        "id": "r5R7tkw_5Bip"
      }
    },
    {
      "cell_type": "code",
      "source": [
        "A = np.array([[ 1,  2,  3,  4],\n",
        "              [ 5,  6,  7,  8],\n",
        "              [ 9, 10, 11, 12]])\n",
        "\n",
        "rows = [0, 2]\n",
        "print(A[rows, :])  # Select entire rows 0 and 2\n",
        "# Output:\n",
        "# [[ 1  2  3  4]\n",
        "#  [ 9 10 11 12]]\n",
        "\n",
        "cols = [1, 3]\n",
        "print(A[:, cols])  # Select columns 1 and 3 from all rows\n",
        "# Output:\n",
        "# [[ 2  4]\n",
        "#  [ 6  8]\n",
        "#  [10 12]]"
      ],
      "metadata": {
        "colab": {
          "base_uri": "https://localhost:8080/"
        },
        "id": "SDk-1K744-10",
        "outputId": "9ba7455e-5d86-4523-a32e-753eeced6f35"
      },
      "execution_count": 24,
      "outputs": [
        {
          "output_type": "stream",
          "name": "stdout",
          "text": [
            "[[ 1  2  3  4]\n",
            " [ 9 10 11 12]]\n",
            "[[ 2  4]\n",
            " [ 6  8]\n",
            " [10 12]]\n"
          ]
        }
      ]
    },
    {
      "cell_type": "markdown",
      "source": [
        "**Modifying Arrays with Fancy Indexing**"
      ],
      "metadata": {
        "id": "FEugYjK45G0j"
      }
    },
    {
      "cell_type": "code",
      "source": [
        "arr = np.array([10, 20, 30, 40, 50])\n",
        "arr[[1, 3]] = 999\n",
        "print(arr)  # [ 10 999  30 999  50]\n",
        "\n",
        "# You can assign different values too\n",
        "arr[[0, 2, 4]] = [1, 2, 3]\n",
        "print(arr)"
      ],
      "metadata": {
        "colab": {
          "base_uri": "https://localhost:8080/"
        },
        "id": "dPQHviCb5IUO",
        "outputId": "0860c0cb-10ed-472f-d929-3fbd201ddce1"
      },
      "execution_count": 25,
      "outputs": [
        {
          "output_type": "stream",
          "name": "stdout",
          "text": [
            "[ 10 999  30 999  50]\n",
            "[  1 999   2 999   3]\n"
          ]
        }
      ]
    },
    {
      "cell_type": "code",
      "source": [
        "A = np.zeros((3,3))\n",
        "print(A, \"\\n\")\n",
        "rows = [0, 1, 2]\n",
        "cols = [0, 1, 2]\n",
        "A[rows, cols] = [1, 2, 3]  # Set diagonal\n",
        "print(A)"
      ],
      "metadata": {
        "colab": {
          "base_uri": "https://localhost:8080/"
        },
        "id": "8jGsbegD5Lwa",
        "outputId": "dee8e27f-b326-4e59-9882-19fad890bc6e"
      },
      "execution_count": 26,
      "outputs": [
        {
          "output_type": "stream",
          "name": "stdout",
          "text": [
            "[[0. 0. 0.]\n",
            " [0. 0. 0.]\n",
            " [0. 0. 0.]] \n",
            "\n",
            "[[1. 0. 0.]\n",
            " [0. 2. 0.]\n",
            " [0. 0. 3.]]\n"
          ]
        }
      ]
    },
    {
      "cell_type": "markdown",
      "source": [
        "**Shuffling or Reordering Data**"
      ],
      "metadata": {
        "id": "riUaB_lt5_OA"
      }
    },
    {
      "cell_type": "code",
      "source": [
        "data = np.array([100, 200, 300, 400])\n",
        "order = [3, 0, 2, 1]\n",
        "shuffled = data[order]\n",
        "print(shuffled)  # [400 100 300 200]"
      ],
      "metadata": {
        "colab": {
          "base_uri": "https://localhost:8080/"
        },
        "id": "_cF4rY6h6BWu",
        "outputId": "541fa8d1-6034-4240-c1b9-2318a357ea94"
      },
      "execution_count": 27,
      "outputs": [
        {
          "output_type": "stream",
          "name": "stdout",
          "text": [
            "[400 100 300 200]\n"
          ]
        }
      ]
    },
    {
      "cell_type": "markdown",
      "source": [
        "**Fancy indexing returns a COPY**"
      ],
      "metadata": {
        "id": "E6maZUkZ6lu1"
      }
    },
    {
      "cell_type": "code",
      "source": [
        "arr = np.array([1, 2, 3, 4])\n",
        "subset = arr[[0, 2]]   # subset is a COPY\n",
        "subset[0] = 999\n",
        "print(arr)             # unchanged → [1 2 3 4]"
      ],
      "metadata": {
        "colab": {
          "base_uri": "https://localhost:8080/"
        },
        "id": "_PV62tIx6nOm",
        "outputId": "aceeac7c-6dc2-4ec8-9f3d-765cafa4001e"
      },
      "execution_count": 28,
      "outputs": [
        {
          "output_type": "stream",
          "name": "stdout",
          "text": [
            "[1 2 3 4]\n"
          ]
        }
      ]
    },
    {
      "cell_type": "markdown",
      "source": [
        "\n",
        "\n",
        "---\n",
        "\n",
        "**Boolean (Mask) Indexing**\n",
        "\n",
        "This is a powerful technique for filtering arrays based on a condition. You create a boolean array (or \"mask\") and use it to select elements from the original array where the mask is `True`."
      ],
      "metadata": {
        "id": "KOrRyeHZ7y0x"
      }
    },
    {
      "cell_type": "code",
      "source": [
        "arr = np.array([10, 20, 30, 40, 50])\n",
        "mask = np.array([True, False, True, False, True])\n",
        "\n",
        "result = arr[mask]\n",
        "print(result)  # [10 30 50]"
      ],
      "metadata": {
        "colab": {
          "base_uri": "https://localhost:8080/"
        },
        "id": "DjGsiVqi72o1",
        "outputId": "7f864df3-063f-4d6d-e78a-637c9690f7d4"
      },
      "execution_count": 29,
      "outputs": [
        {
          "output_type": "stream",
          "name": "stdout",
          "text": [
            "[10 30 50]\n"
          ]
        }
      ]
    },
    {
      "cell_type": "code",
      "source": [
        "arr = np.array([1, 5, 3, 9, 2, 8])\n",
        "\n",
        "# Create mask: elements greater than 4\n",
        "mask = arr > 4\n",
        "print(mask)  # [False  True False  True False  True]\n",
        "\n",
        "# Use mask to select those elements\n",
        "selected = arr[mask]\n",
        "print(selected)  # [5 9 8]"
      ],
      "metadata": {
        "colab": {
          "base_uri": "https://localhost:8080/"
        },
        "id": "2uosRJsD7_e2",
        "outputId": "bca4ebb9-e877-439a-ff24-d7ff1b8229d7"
      },
      "execution_count": 30,
      "outputs": [
        {
          "output_type": "stream",
          "name": "stdout",
          "text": [
            "[False  True False  True False  True]\n",
            "[5 9 8]\n"
          ]
        }
      ]
    },
    {
      "cell_type": "markdown",
      "source": [
        "Use parentheses around conditions!\n",
        "\n",
        "`arr > 3 & arr < 8` → ❌ Wrong (operator precedence)\n",
        "\n",
        "`(arr > 3) & (arr < 8)` → ✅ Correct"
      ],
      "metadata": {
        "id": "2QR_pjJN8Q1A"
      }
    },
    {
      "cell_type": "code",
      "source": [
        "# Select elements between 3 and 8 (inclusive)\n",
        "mask = (arr >= 3) & (arr <= 8)\n",
        "print(arr[mask])  # [5 3 8]\n",
        "\n",
        "# NOT less than 5\n",
        "mask = ~(arr < 5)\n",
        "print(arr[mask])  # [5 9 8]"
      ],
      "metadata": {
        "colab": {
          "base_uri": "https://localhost:8080/"
        },
        "id": "tcuakcbO8ERN",
        "outputId": "4dbe1c6f-69c0-4486-efda-61b950624667"
      },
      "execution_count": 31,
      "outputs": [
        {
          "output_type": "stream",
          "name": "stdout",
          "text": [
            "[5 3 8]\n",
            "[5 9 8]\n"
          ]
        }
      ]
    },
    {
      "cell_type": "code",
      "source": [
        "A = np.array([[1, 2, 3],\n",
        "              [4, 5, 6],\n",
        "              [7, 8, 9]])\n",
        "\n",
        "mask = A > 5\n",
        "print(mask, \"\\n\")\n",
        "print(A[mask])"
      ],
      "metadata": {
        "colab": {
          "base_uri": "https://localhost:8080/"
        },
        "id": "POTACmmN8aMD",
        "outputId": "8f151bba-3178-4803-d917-21a335b8dc08"
      },
      "execution_count": 32,
      "outputs": [
        {
          "output_type": "stream",
          "name": "stdout",
          "text": [
            "[[False False False]\n",
            " [False False  True]\n",
            " [ True  True  True]] \n",
            "\n",
            "[6 7 8 9]\n"
          ]
        }
      ]
    },
    {
      "cell_type": "markdown",
      "source": [
        "**Shape Behavior**\n",
        "\n",
        "- Boolean indexing flattens the result to 1D by default (it selects elements matching True, regardless of original shape).\n",
        "- To preserve structure, combine with slicing or use `np.where` or advanced techniques."
      ],
      "metadata": {
        "id": "XEeQxDoU8lAo"
      }
    },
    {
      "cell_type": "code",
      "source": [
        "arr = np.array([1, 5, 3, 9, 2])\n",
        "mask = arr > 4\n",
        "indices = np.where(mask)  # Returns tuple of arrays (for each axis)\n",
        "\n",
        "print(indices)     # (array([1, 3]),)\n",
        "print(arr[indices]) # [5 9] — same as arr[mask]\n",
        "\n",
        "result = np.where(arr > 4, 't', 'f')\n",
        "print(result)"
      ],
      "metadata": {
        "colab": {
          "base_uri": "https://localhost:8080/"
        },
        "id": "hMbK2d_z9Z0D",
        "outputId": "2a1786b2-ce58-4a8e-9dc8-780033bdc4e3"
      },
      "execution_count": 33,
      "outputs": [
        {
          "output_type": "stream",
          "name": "stdout",
          "text": [
            "(array([1, 3]),)\n",
            "[5 9]\n",
            "['f' 't' 'f' 't' 'f']\n"
          ]
        }
      ]
    },
    {
      "cell_type": "markdown",
      "source": [
        "You can also assign values using boolean masks — extremely useful for cleaning or transforming data."
      ],
      "metadata": {
        "id": "NQdj_-0__ii_"
      }
    },
    {
      "cell_type": "code",
      "source": [
        "arr = np.array([1, -2, 3, -4, 5])\n",
        "\n",
        "# Replace negative values with 0\n",
        "arr[arr < 0] = 0\n",
        "print(arr)\n",
        "\n",
        "# Double values greater than 2\n",
        "arr[arr > 2] *= 2\n",
        "print(arr)"
      ],
      "metadata": {
        "colab": {
          "base_uri": "https://localhost:8080/"
        },
        "id": "HIp80YnM8pNY",
        "outputId": "90bb1c82-df6c-4c26-d01e-999c37e9e555"
      },
      "execution_count": 34,
      "outputs": [
        {
          "output_type": "stream",
          "name": "stdout",
          "text": [
            "[1 0 3 0 5]\n",
            "[ 1  0  6  0 10]\n"
          ]
        }
      ]
    },
    {
      "cell_type": "markdown",
      "source": [
        "**Combining Boolean Indexing with Fancy or Slicing**"
      ],
      "metadata": {
        "id": "_UD_a5hk_tCt"
      }
    },
    {
      "cell_type": "code",
      "source": [
        "A = np.array([[1, 2, 3],   # sum=6 → True\n",
        "              [0, 1, 1],   # sum=2 → False\n",
        "              [2, 2, 3]])  # sum=7 → True\n",
        "\n",
        "row_mask = A.sum(axis=1) > 5\n",
        "col_mask = A.sum(axis=0) > 5\n",
        "\n",
        "print(row_mask)\n",
        "print(col_mask, \"\\n\")\n",
        "\n",
        "selected_cols = A[:, col_mask]\n",
        "print(selected_cols, \"\\n\")\n",
        "\n",
        "selected_rows = A[row_mask]   # Select entire rows where condition holds\n",
        "print(selected_rows)"
      ],
      "metadata": {
        "colab": {
          "base_uri": "https://localhost:8080/"
        },
        "id": "-JFd90-p_wlA",
        "outputId": "0dbd332b-fc46-4220-cceb-99cf6929f1e6"
      },
      "execution_count": 35,
      "outputs": [
        {
          "output_type": "stream",
          "name": "stdout",
          "text": [
            "[ True False  True]\n",
            "[False False  True] \n",
            "\n",
            "[[3]\n",
            " [1]\n",
            " [3]] \n",
            "\n",
            "[[1 2 3]\n",
            " [2 2 3]]\n"
          ]
        }
      ]
    },
    {
      "cell_type": "markdown",
      "source": [
        "`axis=0`: This refers to the rows. When you perform an operation along axis=0, you are applying the operation down the columns.\n",
        "\n",
        "`axis=1`: This refers to the columns. When you perform an operation along axis=1, you are applying the operation across the rows."
      ],
      "metadata": {
        "id": "JdMUtoUiAr92"
      }
    },
    {
      "cell_type": "markdown",
      "source": [
        "**Real-World Use Cases**\n",
        "1. Data Cleaning — Replace Outliers or Invalid Values\n",
        "2. Filtering Datasets\n",
        "3. Image Processing — Thresholding\n",
        "4. Machine Learning — Select Samples by Label or Score"
      ],
      "metadata": {
        "id": "cwoRJhUcXizo"
      }
    },
    {
      "cell_type": "markdown",
      "source": [
        "> Boolean indexing returns a COPY"
      ],
      "metadata": {
        "id": "nPFtJnfGX5Qp"
      }
    },
    {
      "cell_type": "code",
      "source": [
        "arr = np.array([1, 2, 3, 4])\n",
        "subset = arr[arr > 2]  # COPY\n",
        "subset[0] = 999\n",
        "print(arr)"
      ],
      "metadata": {
        "colab": {
          "base_uri": "https://localhost:8080/"
        },
        "id": "V0EXi_K1X7RM",
        "outputId": "b0a48400-2fcc-4949-d15d-275e63aebcd1"
      },
      "execution_count": 36,
      "outputs": [
        {
          "output_type": "stream",
          "name": "stdout",
          "text": [
            "[1 2 3 4]\n"
          ]
        }
      ]
    },
    {
      "cell_type": "markdown",
      "source": [
        "\n",
        "\n",
        "> Mask must be same shape (or broadcastable) as array being indexed\n",
        "\n"
      ],
      "metadata": {
        "id": "Uh_0neNbYIS8"
      }
    },
    {
      "cell_type": "code",
      "source": [
        "arr = np.array([1, 2, 3, 4])\n",
        "# mask = np.array([True, False])  # ❌ ValueError — shape mismatch\n",
        "\n",
        "mask = np.array([True, False, True, False])\n",
        "print(arr[mask])"
      ],
      "metadata": {
        "colab": {
          "base_uri": "https://localhost:8080/"
        },
        "id": "PqWYrP_pYKcq",
        "outputId": "58d8d9a5-e008-4898-8382-052306a357af"
      },
      "execution_count": 40,
      "outputs": [
        {
          "output_type": "stream",
          "name": "stdout",
          "text": [
            "[1 3]\n"
          ]
        }
      ]
    },
    {
      "cell_type": "markdown",
      "source": [
        "\n",
        "\n",
        "> Use .any() or .all() with masks for logic\n",
        "\n"
      ],
      "metadata": {
        "id": "JoxlwvmxYNlK"
      }
    },
    {
      "cell_type": "code",
      "source": [
        "A = np.array([[1, 2],\n",
        "              [3, 4]])\n",
        "\n",
        "# Are any elements > 3?\n",
        "print((A > 3).any())   # True\n",
        "\n",
        "# Are all elements > 0?\n",
        "print((A > 0).all())   # True"
      ],
      "metadata": {
        "colab": {
          "base_uri": "https://localhost:8080/"
        },
        "id": "gciXSmtVY08J",
        "outputId": "4b997fd1-3f47-4ae5-8bf8-8b321712a91d"
      },
      "execution_count": 41,
      "outputs": [
        {
          "output_type": "stream",
          "name": "stdout",
          "text": [
            "True\n",
            "True\n"
          ]
        }
      ]
    },
    {
      "cell_type": "markdown",
      "source": [
        "### Slicing in detail"
      ],
      "metadata": {
        "id": "cQOrZJQiZrqL"
      }
    },
    {
      "cell_type": "markdown",
      "source": [
        "**Basic Slice Syntax**\n",
        "\n",
        "Slicing is a powerful way to select a subset of an array. The basic syntax a`[start:stop:step] `allows you to extract elements without changing the original array's structure or data type.\n",
        "\n",
        "`start`: The index where the slice begins (inclusive). If omitted, it defaults to the beginning of the axis (index 0).\n",
        "\n",
        "`stop`: The index where the slice ends (exclusive). The element at this index is not included. If omitted, it defaults to the end of the axis.\n",
        "\n",
        "`step`: The interval between elements. A positive step moves forward, and a negative step moves backward. The default step is 1."
      ],
      "metadata": {
        "id": "AyR_M4ZvZ0d5"
      }
    },
    {
      "cell_type": "code",
      "source": [
        "import numpy as np\n",
        "arr = np.array([0, 10, 20, 30, 40, 50, 60, 70, 80, 90])\n",
        "# Select elements from index 2 up to (but not including) index 6\n",
        "print(arr[2:6]) # Output: [20 30 40 50]"
      ],
      "metadata": {
        "colab": {
          "base_uri": "https://localhost:8080/"
        },
        "id": "Zy9T88tEaQis",
        "outputId": "0ffd3faf-9879-4ea4-d4a8-8fa0c3bc19b9"
      },
      "execution_count": 42,
      "outputs": [
        {
          "output_type": "stream",
          "name": "stdout",
          "text": [
            "[20 30 40 50]\n"
          ]
        }
      ]
    },
    {
      "cell_type": "markdown",
      "source": [
        "\n",
        "\n",
        "---\n",
        "\n",
        "\n",
        "**Multi-Axis Slicing**\n",
        "\n",
        "For multi-dimensional arrays, you can apply slicing to each axis by separating the slice specifications with a comma.\n",
        "\n",
        "\n",
        "\n",
        "```\n",
        " Syntax: arr[axis0_slice, axis1_slice, axis2_slice, ...]\n",
        "```\n",
        "\n"
      ],
      "metadata": {
        "id": "lsXCkRlFbY6f"
      }
    },
    {
      "cell_type": "code",
      "source": [
        "A = np.array([[ 1,  2,  3,  4],\n",
        "              [ 5,  6,  7,  8],\n",
        "              [ 9, 10, 11, 12],\n",
        "              [13, 14, 15, 16]])\n",
        "\n",
        "print(A.shape)  # (4, 4) → 4 rows, 4 columns"
      ],
      "metadata": {
        "colab": {
          "base_uri": "https://localhost:8080/"
        },
        "id": "ERjR9dm7bTi7",
        "outputId": "cfe332db-5466-4237-b99a-f333fc391fe7"
      },
      "execution_count": 43,
      "outputs": [
        {
          "output_type": "stream",
          "name": "stdout",
          "text": [
            "(4, 4)\n"
          ]
        }
      ]
    },
    {
      "cell_type": "code",
      "source": [
        "B = A[1:3, 0:2]  # Rows 1-2 (inclusive start, exclusive stop), columns 0-1\n",
        "print(B)"
      ],
      "metadata": {
        "colab": {
          "base_uri": "https://localhost:8080/"
        },
        "id": "jl9WmsJQcoE3",
        "outputId": "7abd68f2-a1c8-41ce-acc2-2cf40263b1d1"
      },
      "execution_count": 44,
      "outputs": [
        {
          "output_type": "stream",
          "name": "stdout",
          "text": [
            "[[ 5  6]\n",
            " [ 9 10]]\n"
          ]
        }
      ]
    },
    {
      "cell_type": "markdown",
      "source": [
        "First index → axis 0 (rows)\n",
        "\n",
        "Second index → axis 1 (columns)"
      ],
      "metadata": {
        "id": "hOX_fhUPczDZ"
      }
    },
    {
      "cell_type": "code",
      "source": [
        "# Create a 3x3x3 array\n",
        "C = np.arange(27).reshape(3, 3, 3)\n",
        "print(C, \"\\n\")\n",
        "print(C.shape)\n",
        "\n",
        "# Visualize as 3 layers of 3x3 matrices:\n",
        "# Layer 0: C[0, :, :]\n",
        "# Layer 1: C[1, :, :]\n",
        "# Layer 2: C[2, :, :]"
      ],
      "metadata": {
        "colab": {
          "base_uri": "https://localhost:8080/"
        },
        "id": "7lFZtHJyc5PO",
        "outputId": "5071ee5f-a043-4166-e8ff-da7fb8243910"
      },
      "execution_count": 46,
      "outputs": [
        {
          "output_type": "stream",
          "name": "stdout",
          "text": [
            "[[[ 0  1  2]\n",
            "  [ 3  4  5]\n",
            "  [ 6  7  8]]\n",
            "\n",
            " [[ 9 10 11]\n",
            "  [12 13 14]\n",
            "  [15 16 17]]\n",
            "\n",
            " [[18 19 20]\n",
            "  [21 22 23]\n",
            "  [24 25 26]]] \n",
            "\n",
            "(3, 3, 3)\n"
          ]
        }
      ]
    },
    {
      "cell_type": "code",
      "source": [
        "D = C[1, 0:2, 1:3]\n",
        "print(D)"
      ],
      "metadata": {
        "colab": {
          "base_uri": "https://localhost:8080/"
        },
        "id": "omNsuYUSdZor",
        "outputId": "314d5bf4-580d-4476-dd15-e31ad2beca71"
      },
      "execution_count": 47,
      "outputs": [
        {
          "output_type": "stream",
          "name": "stdout",
          "text": [
            "[[10 11]\n",
            " [13 14]]\n"
          ]
        }
      ]
    },
    {
      "cell_type": "markdown",
      "source": [
        "1 → selects layer 1 (axis 0)\n",
        "\n",
        "0:2 → selects first 2 rows (axis 1)\n",
        "\n",
        "1:3 → selects columns 1 and 2 (axis 2)"
      ],
      "metadata": {
        "id": "SXGsT3wgdjnt"
      }
    },
    {
      "cell_type": "code",
      "source": [
        "print(A[:, 1], \"\\n\")     # All rows, column 1 → shape (4,)\n",
        "print(A[2, :], \"\\n\")     # Row 2, all columns → shape (4,)\n",
        "print(A[:, :])   # Everything → same as A"
      ],
      "metadata": {
        "colab": {
          "base_uri": "https://localhost:8080/"
        },
        "id": "Ve7roeDfeINk",
        "outputId": "ece01751-7fc9-4048-dc6b-3c424af2ae5a"
      },
      "execution_count": 49,
      "outputs": [
        {
          "output_type": "stream",
          "name": "stdout",
          "text": [
            "[ 2  6 10 14] \n",
            "\n",
            "[ 9 10 11 12] \n",
            "\n",
            "[[ 1  2  3  4]\n",
            " [ 5  6  7  8]\n",
            " [ 9 10 11 12]\n",
            " [13 14 15 16]]\n"
          ]
        }
      ]
    },
    {
      "cell_type": "markdown",
      "source": [
        "\n",
        "\n",
        "---\n",
        "\n",
        "\n",
        "**Step Slicing Across Axes**"
      ],
      "metadata": {
        "id": "nV-VP7yjevId"
      }
    },
    {
      "cell_type": "code",
      "source": [
        "A = np.array([[ 1,  2,  3,  4],\n",
        "              [ 5,  6,  7,  8],\n",
        "              [ 9, 10, 11, 12],\n",
        "              [13, 14, 15, 16]])\n",
        "\n",
        "# Every other row, every other column\n",
        "E = A[::2, ::2]\n",
        "print(E)"
      ],
      "metadata": {
        "colab": {
          "base_uri": "https://localhost:8080/"
        },
        "id": "n8Gm0dTee2qC",
        "outputId": "cd50250e-3f97-4671-9c31-00ce41f2a489"
      },
      "execution_count": 50,
      "outputs": [
        {
          "output_type": "stream",
          "name": "stdout",
          "text": [
            "[[ 1  3]\n",
            " [ 9 11]]\n"
          ]
        }
      ]
    },
    {
      "cell_type": "code",
      "source": [
        "F = A[::-1, :]    # Reverse rows\n",
        "print(F, \"\\n\")\n",
        "\n",
        "G = A[:, ::-1]    # Reverse columns\n",
        "print(G)"
      ],
      "metadata": {
        "colab": {
          "base_uri": "https://localhost:8080/"
        },
        "id": "Ei53FUsxe_bv",
        "outputId": "5adbb923-35d1-443d-cd7f-7e045aa8477e"
      },
      "execution_count": 51,
      "outputs": [
        {
          "output_type": "stream",
          "name": "stdout",
          "text": [
            "[[13 14 15 16]\n",
            " [ 9 10 11 12]\n",
            " [ 5  6  7  8]\n",
            " [ 1  2  3  4]] \n",
            "\n",
            "[[ 4  3  2  1]\n",
            " [ 8  7  6  5]\n",
            " [12 11 10  9]\n",
            " [16 15 14 13]]\n"
          ]
        }
      ]
    },
    {
      "cell_type": "code",
      "source": [
        "# Slice + Integer Index\n",
        "A[1:3, 2]  # Rows 1-2, column 2 → shape (2,)\n",
        "\n",
        "# Slice + Boolean Mask\n",
        "mask = np.array([True, False, True, False])\n",
        "A[mask, 1:3]  # Rows where mask is True, columns 1-2\n",
        "# Row 0: [2, 3]\n",
        "# Row 2: [10, 11]"
      ],
      "metadata": {
        "id": "evBmsXedfmX9"
      },
      "execution_count": null,
      "outputs": []
    },
    {
      "cell_type": "markdown",
      "source": [
        "**Slices are Views**: When you create a slice using basic slicing, NumPy does not create a new array in memory. Instead, it creates a \"view\" that points to a specific part of the original array's data buffer. This is incredibly memory-efficient, especially for large datasets. Any modification to the view will directly affect the original array."
      ],
      "metadata": {
        "id": "_KiN5ZTuh21D"
      }
    },
    {
      "cell_type": "code",
      "source": [
        "original_array = np.array([10, 20, 30, 40, 50])\n",
        "# Create a view of the original array\n",
        "my_view = original_array[1:4]\n",
        "print(f\"Before modification: {original_array}\")\n",
        "\n",
        "# Modify an element in the view\n",
        "my_view[0] = 99\n",
        "\n",
        "print(f\"After modification: {original_array}\")"
      ],
      "metadata": {
        "colab": {
          "base_uri": "https://localhost:8080/"
        },
        "id": "Y2_-G2xxh-wC",
        "outputId": "317bcac0-0065-4775-82d7-71c6412f7673"
      },
      "execution_count": 52,
      "outputs": [
        {
          "output_type": "stream",
          "name": "stdout",
          "text": [
            "Before modification: [10 20 30 40 50]\n",
            "After modification: [10 99 30 40 50]\n"
          ]
        }
      ]
    },
    {
      "cell_type": "markdown",
      "source": [
        "**Fancy Indexing Returns a Copy**: In contrast, when you use fancy indexing (using a list or array of integers as indices), NumPy returns a copy of the selected data. The new array occupies its own memory space, so changes to the copy will not affect the original array."
      ],
      "metadata": {
        "id": "aFKVf5xCjM0s"
      }
    },
    {
      "cell_type": "code",
      "source": [
        "original_array = np.array([10, 20, 30, 40, 50])\n",
        "# Create a copy using fancy indexing\n",
        "my_copy = original_array[[1, 2, 3]]\n",
        "\n",
        "# Modify an element in the copy\n",
        "my_copy[0] = 99\n",
        "\n",
        "print(f\"After modification: {original_array}\")"
      ],
      "metadata": {
        "colab": {
          "base_uri": "https://localhost:8080/"
        },
        "id": "qJo6MlAJjOcW",
        "outputId": "1cb9a88f-9e7a-45bc-e2a0-06a38cf52008"
      },
      "execution_count": 53,
      "outputs": [
        {
          "output_type": "stream",
          "name": "stdout",
          "text": [
            "After modification: [10 20 30 40 50]\n"
          ]
        }
      ]
    },
    {
      "cell_type": "markdown",
      "source": [
        "### Vectorized operations"
      ],
      "metadata": {
        "id": "UTLfRKiymT2v"
      }
    },
    {
      "cell_type": "markdown",
      "source": [
        "Vectorized operations are operations that are applied element-wise to entire arrays (vectors, matrices, tensors) without explicit Python loops."
      ],
      "metadata": {
        "id": "hlKMm4GXo7Z8"
      }
    },
    {
      "cell_type": "markdown",
      "source": [
        "**Non-Vectorized (Slow — Python loop)**"
      ],
      "metadata": {
        "id": "_7ztpakwpBJl"
      }
    },
    {
      "cell_type": "code",
      "source": [
        "a = np.array([1, 2, 3, 4])\n",
        "b = np.array([5, 6, 7, 8])\n",
        "result = np.empty(4)"
      ],
      "metadata": {
        "id": "umBEM7bAmV-Z"
      },
      "execution_count": 55,
      "outputs": []
    },
    {
      "cell_type": "code",
      "source": [
        "# NON-VECTORIZED\n",
        "for i in range(len(a)):\n",
        "    result[i] = a[i] + b[i]\n",
        "\n",
        "print(result)  # [6. 8. 10. 12.]"
      ],
      "metadata": {
        "colab": {
          "base_uri": "https://localhost:8080/"
        },
        "id": "fV81lCWXpRVQ",
        "outputId": "5626e7b8-1a9b-4582-f23b-8c23afe733b3"
      },
      "execution_count": 56,
      "outputs": [
        {
          "output_type": "stream",
          "name": "stdout",
          "text": [
            "[ 6.  8. 10. 12.]\n"
          ]
        }
      ]
    },
    {
      "cell_type": "code",
      "source": [
        "# VECTORIZED\n",
        "result = a + b\n",
        "print(result)  # [6 8 10 12]"
      ],
      "metadata": {
        "colab": {
          "base_uri": "https://localhost:8080/"
        },
        "id": "W-YNTT6zpJNs",
        "outputId": "159d5ce9-5b99-4c8f-d0c9-97f6ec7c6341"
      },
      "execution_count": 57,
      "outputs": [
        {
          "output_type": "stream",
          "name": "stdout",
          "text": [
            "[ 6  8 10 12]\n"
          ]
        }
      ]
    },
    {
      "cell_type": "markdown",
      "source": [
        "**Operations Are Vectorized in NumPy**"
      ],
      "metadata": {
        "id": "C-rvsa9Ap7ph"
      }
    },
    {
      "cell_type": "code",
      "source": [
        "# Arithmetic\n",
        "\n",
        "a = np.array([1, 2, 3])\n",
        "b = np.array([4, 5, 6])\n",
        "\n",
        "a + b   # [5 7 9]\n",
        "a * b   # [4 10 18]\n",
        "a ** 2  # [1 4 9]\n",
        "a / b   # [0.25 0.4 0.5]"
      ],
      "metadata": {
        "id": "PuNbjTorpeiV"
      },
      "execution_count": null,
      "outputs": []
    },
    {
      "cell_type": "code",
      "source": [
        "# Mathematical Functions\n",
        "\n",
        "np.sin(a)      # [sin(1), sin(2), sin(3)]\n",
        "np.exp(a)      # [e^1, e^2, e^3]\n",
        "np.log(a)      # [ln(1), ln(2), ln(3)]\n",
        "np.sqrt(a)     # [1, √2, √3]"
      ],
      "metadata": {
        "colab": {
          "base_uri": "https://localhost:8080/"
        },
        "id": "XVh7xfKVplPd",
        "outputId": "ad533faf-1899-477f-b51d-f04a429a79a4"
      },
      "execution_count": 61,
      "outputs": [
        {
          "output_type": "execute_result",
          "data": {
            "text/plain": [
              "array([1.        , 1.41421356, 1.73205081, 2.        ])"
            ]
          },
          "metadata": {},
          "execution_count": 61
        }
      ]
    },
    {
      "cell_type": "code",
      "source": [
        "# Comparison Operations\n",
        "\n",
        "a > 2          # [False False True]\n",
        "a == b         # [False False False]"
      ],
      "metadata": {
        "colab": {
          "base_uri": "https://localhost:8080/"
        },
        "id": "02AAf31bpp5G",
        "outputId": "684ad0e7-39de-47c7-a97f-4ba8de304a4c"
      },
      "execution_count": 60,
      "outputs": [
        {
          "output_type": "execute_result",
          "data": {
            "text/plain": [
              "array([False, False, False, False])"
            ]
          },
          "metadata": {},
          "execution_count": 60
        }
      ]
    },
    {
      "cell_type": "code",
      "source": [
        "# Aggregations (Reduce along axes)\n",
        "\n",
        "np.sum(a)      # 6\n",
        "np.mean(a)     # 2.0\n",
        "np.max(a)      # 3\n",
        "np.std(a)      # standard deviation"
      ],
      "metadata": {
        "colab": {
          "base_uri": "https://localhost:8080/"
        },
        "id": "UKLM3c_IpuLC",
        "outputId": "bfa7e7f4-b510-425c-b83d-6a1842691b55"
      },
      "execution_count": 59,
      "outputs": [
        {
          "output_type": "execute_result",
          "data": {
            "text/plain": [
              "np.float64(1.118033988749895)"
            ]
          },
          "metadata": {},
          "execution_count": 59
        }
      ]
    },
    {
      "cell_type": "code",
      "source": [
        "result = np.where(a > 0, np.sqrt(a), 0)\n",
        "# OR\n",
        "result = np.sqrt(a) * (a > 0)  # since False=0, True=1"
      ],
      "metadata": {
        "id": "J2gqmh72r7-A"
      },
      "execution_count": 58,
      "outputs": []
    },
    {
      "cell_type": "markdown",
      "source": [
        "**Advanced Vectorization Techniques**\n",
        "1. np.where — Vectorized Conditional\n",
        "2. np.select — Multiple Conditions\n",
        "3. np.clip — Bound Values\n"
      ],
      "metadata": {
        "id": "5EDccmTetSrv"
      }
    },
    {
      "cell_type": "code",
      "source": [
        "a = np.array([-1, 2, -3, 4])\n",
        "# np.where applies the conditional logic element-wise across the array.\n",
        "# This is a form of vectorization, avoiding explicit Python loops.\n",
        "result = np.where(a > 2, a, -a)  # absolute value\n",
        "print(result, \"\\n\")  # [1 2 3 4]\n",
        "result1 = np.where(a > 2, -a, a)\n",
        "print(result1)"
      ],
      "metadata": {
        "colab": {
          "base_uri": "https://localhost:8080/"
        },
        "id": "IDGOW9kUttuw",
        "outputId": "c444a77f-aa0a-42e5-ffb9-330a558d5e39"
      },
      "execution_count": 79,
      "outputs": [
        {
          "output_type": "stream",
          "name": "stdout",
          "text": [
            "[ 1 -2  3  4] \n",
            "\n",
            "[-1  2 -3 -4]\n"
          ]
        }
      ]
    },
    {
      "cell_type": "code",
      "source": [
        "x = np.arange(10)\n",
        "conditions = [x < 3, x > 7, (x >= 3) & (x <= 7)]\n",
        "choices = [1, 100, x**2]\n",
        "result = np.select(conditions, choices, default=np.nan)\n",
        "print(result)\n",
        "# [  0   0   0   9  16  25  36  49 100 100]"
      ],
      "metadata": {
        "colab": {
          "base_uri": "https://localhost:8080/"
        },
        "id": "yJ3T7LTYv-6E",
        "outputId": "99be187c-0e22-4613-813a-ddce98d2bb76"
      },
      "execution_count": 76,
      "outputs": [
        {
          "output_type": "stream",
          "name": "stdout",
          "text": [
            "[  1.   1.   1.   9.  16.  25.  36.  49. 100. 100.]\n"
          ]
        }
      ]
    },
    {
      "cell_type": "code",
      "source": [
        "a = np.array([-5, 1, 10, 3])\n",
        "clipped = np.clip(a, 0, 5)  # [0 1 5 3]\n",
        "print(clipped)"
      ],
      "metadata": {
        "colab": {
          "base_uri": "https://localhost:8080/"
        },
        "id": "w0SqLYLVy7W7",
        "outputId": "b1f9f98b-97e0-4ed4-f93a-86cd9423d16c"
      },
      "execution_count": 77,
      "outputs": [
        {
          "output_type": "stream",
          "name": "stdout",
          "text": [
            "[0 1 5 3]\n"
          ]
        }
      ]
    },
    {
      "cell_type": "code",
      "source": [
        "x = np.arange(1,5)          # Create a 1D NumPy array with elements from 1 up to (but not including) 5.\n",
        "print(\"x:\", x)\n",
        "\n",
        "y = x * 2                   # Perform element-wise multiplication: each element in x is multiplied by 2.\n",
        "print(\"y:\", y)\n",
        "\n",
        "z = np.sin(x)               # Apply the sine function element-wise to each element in x (a universal function or ufunc).\n",
        "print(\"z:\", z)\n",
        "\n",
        "S = np.arange(12).reshape(3,4) # Create a 1D array from 0 to 11 and reshape it into a 2D array (3 rows, 4 columns).\n",
        "print(\"S:\\n\", S)\n",
        "\n",
        "col_sum = S.sum(axis=0)     # Calculate the sum of elements along axis 0 (down the columns).\n",
        "print(\"col_sum:\", col_sum)\n",
        "\n",
        "dot = x.dot(x)              # Calculate the dot product of vector x with itself.\n",
        "print(\"dot:\", dot)\n",
        "\n",
        "x += 1                      # Perform in-place element-wise addition: add 1 to each element of x and update x directly.\n",
        "print(\"x after += 1:\", x)\n",
        "\n",
        "mask = S % 2 == 0           # Create a boolean mask: True where elements in S are even, False otherwise.\n",
        "print(\"mask:\\n\", mask)\n",
        "\n",
        "S[mask] = -1                # Use the boolean mask to set all even elements in S to -1.\n",
        "print(\"S after masking:\\n\", S)"
      ],
      "metadata": {
        "id": "ZIPNRYsy52Iu"
      },
      "execution_count": null,
      "outputs": []
    },
    {
      "cell_type": "markdown",
      "source": [
        "### Reshaping"
      ],
      "metadata": {
        "id": "ylEZNIrj9hCX"
      }
    },
    {
      "cell_type": "markdown",
      "source": [
        "`a.reshape(new_shape)` returns a new array with the specified shape. Importantly, it attempts to return a view of the original array whenever possible. This means the new array shares memory with the original. If modifications are made to the new array, they will also be reflected in the original. If the new shape requires a different memory layout, `reshape()` will return a copy."
      ],
      "metadata": {
        "id": "WIXARLjd9636"
      }
    },
    {
      "cell_type": "code",
      "source": [
        "a = np.arange(6)  # Creates array [0 1 2 3 4 5] with shape (6,)\n",
        "b = a.reshape(2, 3) # Reshapes into a 2x3 matrix\n",
        "print(f\"Original array 'a':\\n{a}\")\n",
        "print(f\"Reshaped array 'b':\\n{b}\")\n",
        "\n",
        "# Both 'a' and 'b' share the same data.\n",
        "print(f\"Are 'a' and 'b' sharing memory? {np.may_share_memory(a, b)}\") # Output: True\n",
        "\n",
        "# Modifying 'b' also modifies 'a'\n",
        "b[0, 0] = 99\n",
        "print(f\"Array 'a' after modifying 'b':\\n{a}\") # Output: [99  1  2  3  4  5]"
      ],
      "metadata": {
        "colab": {
          "base_uri": "https://localhost:8080/"
        },
        "id": "dw8HTfub9msG",
        "outputId": "a3becec2-af44-4825-d7a8-2a9f3cbf5b9d"
      },
      "execution_count": 81,
      "outputs": [
        {
          "output_type": "stream",
          "name": "stdout",
          "text": [
            "Original array 'a':\n",
            "[0 1 2 3 4 5]\n",
            "Reshaped array 'b':\n",
            "[[0 1 2]\n",
            " [3 4 5]]\n",
            "Are 'a' and 'b' sharing memory? True\n",
            "Array 'a' after modifying 'b':\n",
            "[99  1  2  3  4  5]\n"
          ]
        }
      ]
    },
    {
      "cell_type": "markdown",
      "source": [
        "**The -1 Trick**\n",
        "\n",
        "NumPy can automatically calculate one of the dimensions for you. By passing `-1` as a dimension in the` reshape()` method, you are telling NumPy to figure out what that dimension's size should be based on the other dimensions and the total number of elements. This is a very common and convenient shortcut."
      ],
      "metadata": {
        "id": "gGwsWHWd-d-Y"
      }
    },
    {
      "cell_type": "code",
      "source": [
        "a = np.arange(12)  # Shape (12,)\n",
        "b = a.reshape(3, -1)   # The new shape is (3, 4) because 3 * 4 = 12\n",
        "print(f\"Reshaped with (3, -1):\\n{b}\")\n",
        "\n",
        "c = a.reshape(-1, 6)\n",
        "print(\"\\n\" ,c)"
      ],
      "metadata": {
        "colab": {
          "base_uri": "https://localhost:8080/"
        },
        "id": "axWHrwxr-lNj",
        "outputId": "6202cf67-c079-4d6a-c834-e3ee4bb42fc0"
      },
      "execution_count": 87,
      "outputs": [
        {
          "output_type": "stream",
          "name": "stdout",
          "text": [
            "Reshaped with (3, -1):\n",
            "[[ 0  1  2  3]\n",
            " [ 4  5  6  7]\n",
            " [ 8  9 10 11]]\n",
            "\n",
            " [[ 0  1  2  3  4  5]\n",
            " [ 6  7  8  9 10 11]]\n"
          ]
        }
      ]
    },
    {
      "cell_type": "markdown",
      "source": [
        "**Flattening vs. Raveling**\n",
        "\n",
        "Both `flatten()` and `ravel()` are methods for converting a multi-dimensional array into a 1D array. However, they differ in how they handle memory.\n",
        "\n",
        "`a.flatten()`: This method always returns a copy of the array. The new 1D array is independent of the original. This is safer if you want to avoid modifying the original array but is less memory-efficient.\n",
        "\n",
        "`a.ravel()`: This method always returns a view of the original array whenever possible. It's generally faster and more memory-efficient as it doesn't create a new data buffer. Changes made to the raveled array will be reflected in the original."
      ],
      "metadata": {
        "id": "-lZiHIthAVfH"
      }
    },
    {
      "cell_type": "code",
      "source": [
        "A = np.array([[1, 2], [3, 4]])\n",
        "\n",
        "# Using ravel (returns a view)\n",
        "raveled_view = A.ravel()\n",
        "raveled_view[0] = 99\n",
        "print(f\"Array after raveling and modifying:\\n{A}\") # Output: [[99  2] [ 3  4]]\n",
        "\n",
        "# Using flatten (returns a copy)\n",
        "flattened_copy = A.flatten()\n",
        "flattened_copy[0] = 1\n",
        "print(f\"Original array after flattening and modifying:\\n{A}\") # Output: [[99  2] [ 3  4]]"
      ],
      "metadata": {
        "colab": {
          "base_uri": "https://localhost:8080/"
        },
        "id": "PJhMoXfnAf73",
        "outputId": "c5d28d35-2db2-4cf1-d5d3-3c6c43e52c99"
      },
      "execution_count": 88,
      "outputs": [
        {
          "output_type": "stream",
          "name": "stdout",
          "text": [
            "Array after raveling and modifying:\n",
            "[[99  2]\n",
            " [ 3  4]]\n",
            "Original array after flattening and modifying:\n",
            "[[99  2]\n",
            " [ 3  4]]\n"
          ]
        }
      ]
    },
    {
      "cell_type": "markdown",
      "source": [
        "**Resize vs. Reshape**\n",
        "\n",
        "While they might sound similar, resize() and reshape() are fundamentally different in their purpose and behavior.\n",
        "\n",
        "`reshape()`: Creates a new array (view or copy) with a new shape. The total number of elements must be the same.\n",
        "\n",
        "`resize()`: Modifies the array in-place. It can increase or decrease the total number of elements. If the new shape is larger, the array is padded with zeros. If it's smaller, the array is truncated. This method changes the array object itself."
      ],
      "metadata": {
        "id": "idaV5054BH_q"
      }
    },
    {
      "cell_type": "code",
      "source": [
        "a = np.array([1, 2, 3])\n",
        "# resize() modifies 'a' in place\n",
        "a.resize((2, 4))\n",
        "print(f\"Resized array 'a':\\n{a}\")"
      ],
      "metadata": {
        "colab": {
          "base_uri": "https://localhost:8080/"
        },
        "id": "LAUwXYE8BbHf",
        "outputId": "d0df762c-724e-4634-d418-d079927116c0"
      },
      "execution_count": 89,
      "outputs": [
        {
          "output_type": "stream",
          "name": "stdout",
          "text": [
            "Resized array 'a':\n",
            "[[1 2 3 0]\n",
            " [0 0 0 0]]\n"
          ]
        }
      ]
    },
    {
      "cell_type": "markdown",
      "source": [
        "**Removing Dimensions `(squeeze())`**: The `squeeze()` method removes axes of length 1."
      ],
      "metadata": {
        "id": "bBDA8tnwJ4JG"
      }
    },
    {
      "cell_type": "code",
      "source": [
        "y = np.arange(10).reshape(1, 10, 1) # Shape is (1, 10, 1)\n",
        "squeezed_y = y.squeeze() # Removes the dimensions of size 1\n",
        "print(f\"Squeezed shape: {squeezed_y.shape}\") # Output: (10,)"
      ],
      "metadata": {
        "id": "OrLeGyyvJ-BJ"
      },
      "execution_count": null,
      "outputs": []
    },
    {
      "cell_type": "markdown",
      "source": [
        "- **Mismatch in Elements**: reshape() will raise a ValueError if the new shape is not compatible with the total number of elements in the original array.\n",
        "\n",
        "- **Views vs. Copies**: This is the most common source of bugs for new NumPy users. Always be aware if an operation returns a view or a copy, as modifying one can unexpectedly change the other.\n",
        "\n",
        "- **Checking for Views**: To programmatically check if an array is a view of another, you can check its .base attribute. If .base is None, the array is a standalone object (a copy). If it's not None, it's a view."
      ],
      "metadata": {
        "id": "Ysazrxy3EB0s"
      }
    },
    {
      "cell_type": "code",
      "source": [
        "a = np.arange(10)\n",
        "b = a[0:5] # b is a view\n",
        "print(b.base is a) # Output: True\n",
        "\n",
        "c = a.copy() # c is a copy\n",
        "print(c.base is None) # Output: True"
      ],
      "metadata": {
        "id": "PFwssTRNEc4N"
      },
      "execution_count": null,
      "outputs": []
    }
  ]
}