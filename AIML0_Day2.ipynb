{
  "nbformat": 4,
  "nbformat_minor": 0,
  "metadata": {
    "colab": {
      "provenance": [],
      "authorship_tag": "ABX9TyPWtj5RQS7bgZrrRJyIMi/j",
      "include_colab_link": true
    },
    "kernelspec": {
      "name": "python3",
      "display_name": "Python 3"
    },
    "language_info": {
      "name": "python"
    }
  },
  "cells": [
    {
      "cell_type": "markdown",
      "metadata": {
        "id": "view-in-github",
        "colab_type": "text"
      },
      "source": [
        "<a href=\"https://colab.research.google.com/github/yellowgram1543/6-Stages-of-AIML/blob/main/AIML0_Day2.ipynb\" target=\"_parent\"><img src=\"https://colab.research.google.com/assets/colab-badge.svg\" alt=\"Open In Colab\"/></a>"
      ]
    },
    {
      "cell_type": "code",
      "execution_count": null,
      "metadata": {
        "id": "icl3FnRsNxH1"
      },
      "outputs": [],
      "source": [
        "import numpy as np"
      ]
    },
    {
      "cell_type": "code",
      "source": [
        " arr = np.arange(15).reshape((3, 5))\n",
        " print(arr)"
      ],
      "metadata": {
        "colab": {
          "base_uri": "https://localhost:8080/"
        },
        "id": "jd3znhmWN6If",
        "outputId": "27e2946a-6938-45a9-a922-68bb1b8644a7"
      },
      "execution_count": null,
      "outputs": [
        {
          "output_type": "stream",
          "name": "stdout",
          "text": [
            "[[ 0  1  2  3  4]\n",
            " [ 5  6  7  8  9]\n",
            " [10 11 12 13 14]]\n"
          ]
        }
      ]
    },
    {
      "cell_type": "code",
      "source": [
        "arr.T"
      ],
      "metadata": {
        "colab": {
          "base_uri": "https://localhost:8080/"
        },
        "id": "Ooa4UBrJOTh3",
        "outputId": "14e03bd2-7bb5-4e8a-c493-9a9ccc1f6c34"
      },
      "execution_count": null,
      "outputs": [
        {
          "output_type": "execute_result",
          "data": {
            "text/plain": [
              "array([[ 0,  5, 10],\n",
              "       [ 1,  6, 11],\n",
              "       [ 2,  7, 12],\n",
              "       [ 3,  8, 13],\n",
              "       [ 4,  9, 14]])"
            ]
          },
          "metadata": {},
          "execution_count": 9
        }
      ]
    },
    {
      "cell_type": "code",
      "source": [
        " np.dot(arr.T, arr)"
      ],
      "metadata": {
        "colab": {
          "base_uri": "https://localhost:8080/"
        },
        "id": "0tA56QqfOY9I",
        "outputId": "58a020d9-3809-499a-97f0-8afa69eb9825"
      },
      "execution_count": null,
      "outputs": [
        {
          "output_type": "execute_result",
          "data": {
            "text/plain": [
              "array([[125, 140, 155, 170, 185],\n",
              "       [140, 158, 176, 194, 212],\n",
              "       [155, 176, 197, 218, 239],\n",
              "       [170, 194, 218, 242, 266],\n",
              "       [185, 212, 239, 266, 293]])"
            ]
          },
          "metadata": {},
          "execution_count": 10
        }
      ]
    },
    {
      "cell_type": "code",
      "source": [
        " arr.T @ arr   # @ infix operator is another way to do matrix multiplication"
      ],
      "metadata": {
        "colab": {
          "base_uri": "https://localhost:8080/"
        },
        "id": "_xzUbGaKOpZF",
        "outputId": "a38f67c8-c116-42f6-e171-bc7a6a818c1f"
      },
      "execution_count": null,
      "outputs": [
        {
          "output_type": "execute_result",
          "data": {
            "text/plain": [
              "array([[125, 140, 155, 170, 185],\n",
              "       [140, 158, 176, 194, 212],\n",
              "       [155, 176, 197, 218, 239],\n",
              "       [170, 194, 218, 242, 266],\n",
              "       [185, 212, 239, 266, 293]])"
            ]
          },
          "metadata": {},
          "execution_count": 11
        }
      ]
    },
    {
      "cell_type": "markdown",
      "source": [
        " Simple transposing with `.T` is a special case of swapping axes. `ndarray` has the method\n",
        " `swapaxes`, which takes a pair of axis numbers and switches the indicated axes to\n",
        " rearrange the data."
      ],
      "metadata": {
        "id": "vT01q5k6O_KU"
      }
    },
    {
      "cell_type": "code",
      "source": [
        " arr.swapaxes(0, 1)"
      ],
      "metadata": {
        "colab": {
          "base_uri": "https://localhost:8080/"
        },
        "id": "XGJ85WQqPHs4",
        "outputId": "3627198f-8ce3-479f-fa2c-287a867c9705"
      },
      "execution_count": null,
      "outputs": [
        {
          "output_type": "execute_result",
          "data": {
            "text/plain": [
              "array([[ 0,  5, 10],\n",
              "       [ 1,  6, 11],\n",
              "       [ 2,  7, 12],\n",
              "       [ 3,  8, 13],\n",
              "       [ 4,  9, 14]])"
            ]
          },
          "metadata": {},
          "execution_count": 14
        }
      ]
    },
    {
      "cell_type": "markdown",
      "source": [
        "You swap axis 0 and 1 → shape becomes (2, 2, 2) but elements rearrange differently."
      ],
      "metadata": {
        "id": "6T2nz8w2QiA-"
      }
    },
    {
      "cell_type": "code",
      "source": [
        "a = np.array([\n",
        "    [[1, 2],\n",
        "     [3, 4]],\n",
        "\n",
        "    [[5, 6],\n",
        "     [7, 8]]\n",
        "])\n",
        "\n",
        "a.swapaxes(0, 1)"
      ],
      "metadata": {
        "colab": {
          "base_uri": "https://localhost:8080/"
        },
        "id": "Z9z2FeKtQWog",
        "outputId": "5416b38e-251f-40e8-acb9-84b07c169599"
      },
      "execution_count": null,
      "outputs": [
        {
          "output_type": "execute_result",
          "data": {
            "text/plain": [
              "array([[[1, 2],\n",
              "        [5, 6]],\n",
              "\n",
              "       [[3, 4],\n",
              "        [7, 8]]])"
            ]
          },
          "metadata": {},
          "execution_count": 15
        }
      ]
    },
    {
      "cell_type": "markdown",
      "source": [
        " The `numpy.random` module supplements the built-in Python random module with\n",
        " functions for efficiently generating whole arrays of sample values from many kinds of\n",
        " probability distributions"
      ],
      "metadata": {
        "id": "tNCbdSlGQsQl"
      }
    },
    {
      "cell_type": "markdown",
      "source": [
        "> What is a “standard normal distribution”?\n",
        "\n",
        "It’s a **bell-shaped distribution** with:\n",
        "\n",
        "- Mean = 0\n",
        "\n",
        "- Standard deviation = 1\n",
        "\n",
        "So the values will be around 0, with some negative and some positive numbers."
      ],
      "metadata": {
        "id": "ai6SRoFwRGfM"
      }
    },
    {
      "cell_type": "code",
      "source": [
        "samples = np.random.standard_normal(size=(4, 4))\n",
        "samples"
      ],
      "metadata": {
        "colab": {
          "base_uri": "https://localhost:8080/"
        },
        "id": "x8qtbfUoQr_y",
        "outputId": "0f9b3582-acd7-48ff-9419-c5cefcc85dbd"
      },
      "execution_count": null,
      "outputs": [
        {
          "output_type": "execute_result",
          "data": {
            "text/plain": [
              "array([[-0.31685753, -0.03558304,  0.34336752,  0.59029483],\n",
              "       [-0.17759112, -0.97131801, -0.08347779,  1.14225938],\n",
              "       [ 0.32729511,  0.31355882, -2.07624795,  1.01169801],\n",
              "       [ 0.24824281, -0.25320795, -0.16341031,  0.29824473]])"
            ]
          },
          "metadata": {},
          "execution_count": 18
        }
      ]
    },
    {
      "cell_type": "markdown",
      "source": [
        "| Concept                 | Meaning                                          |\n",
        "| ----------------------- | ------------------------------------------------ |\n",
        "| Pseudorandom            | Generated using a deterministic algorithm        |\n",
        "| Seed                    | Starting point for number generation             |\n",
        "| `default_rng()`         | Creates an independent generator                 |\n",
        "| `rng.standard_normal()` | Generates random numbers using your generator    |\n",
        "| Isolated State          | Doesn’t interfere with global NumPy random calls |\n"
      ],
      "metadata": {
        "id": "E1Jf-IjBTy_Z"
      }
    },
    {
      "cell_type": "markdown",
      "source": [
        "**Generate Random Methods**\n",
        "| Method        | Description                                           |\n",
        "| ------------- | ----------------------------------------------------- |\n",
        "| `permutation` | Returns a **permuted version** of a sequence or range |\n",
        "| `shuffle`     | Randomly **shuffles a sequence in place**             |\n",
        "| `uniform`     | Draws samples from a **uniform distribution**         |\n",
        "| `integers`    | Generates random **integers** within a range          |"
      ],
      "metadata": {
        "id": "9DhyIT1DUFzg"
      }
    },
    {
      "cell_type": "markdown",
      "source": [
        "**Normal / Gaussian Distribution**\n",
        "| Method            | Description                                                                |\n",
        "| ----------------- | -------------------------------------------------------------------------- |\n",
        "| `standard_normal` | Samples from a **normal distribution** with mean `0` and std `1`           |\n",
        "| `normal`          | Samples from a normal (Gaussian) distribution with **custom mean and std** |\n"
      ],
      "metadata": {
        "id": "-VTnS9ZHUTI4"
      }
    },
    {
      "cell_type": "markdown",
      "source": [
        "**Other Statistical Distributions**\n",
        "| Method      | Description                                                     |\n",
        "| ----------- | --------------------------------------------------------------- |\n",
        "| `binomial`  | Draws samples from a **binomial distribution**                  |\n",
        "| `beta`      | Samples from a **beta distribution**                            |\n",
        "| `chisquare` | Samples from a **chi-square distribution**                      |\n",
        "| `gamma`     | Draws samples from a **gamma distribution**                     |\n",
        "| `uniform`   | Draws samples from a **uniform distribution** in range `[0, 1)` |"
      ],
      "metadata": {
        "id": "LsCklPktUXMR"
      }
    },
    {
      "cell_type": "code",
      "source": [
        "import numpy as np\n",
        "\n",
        "rng = np.random.default_rng(seed=123)\n",
        "\n",
        "# Examples:\n",
        "print(rng.integers(1, 10, size=5), \"\\n\")        # 5 random integers from 1 to 9\n",
        "print(rng.uniform(0, 5, size=3), \"\\n\")          # 3 random floats from 0 to 5\n",
        "print(rng.standard_normal(4), \"\\n\")             # 4 values from N(0, 1)\n",
        "print(rng.permutation([1, 2, 3, 4, 5]), \"\\n\")   # Returns a shuffled copy\n",
        "print(rng.beta(2, 5, size=4), \"\\n\")             # Beta distribution"
      ],
      "metadata": {
        "colab": {
          "base_uri": "https://localhost:8080/"
        },
        "id": "VgnyQK3TUj5U",
        "outputId": "b7487fef-037d-4dfe-99c7-2b623d322b3b"
      },
      "execution_count": null,
      "outputs": [
        {
          "output_type": "stream",
          "name": "stdout",
          "text": [
            "[1 7 6 1 9] \n",
            "\n",
            "[0.92185905 0.87952951 4.06047253] \n",
            "\n",
            "[-0.63646365  0.54195222 -0.31659545 -0.32238912] \n",
            "\n",
            "[4 3 1 2 5] \n",
            "\n",
            "[0.34183155 0.5295177  0.0147523  0.26173997] \n",
            "\n"
          ]
        }
      ]
    },
    {
      "cell_type": "code",
      "source": [
        "arr = rng.standard_normal((5, 4))\n",
        "m = arr.mean()\n",
        "print(m)\n",
        "print(arr.sum)\n",
        "print(arr.mean(axis=1))    #compute mean across the columns"
      ],
      "metadata": {
        "colab": {
          "base_uri": "https://localhost:8080/"
        },
        "id": "lUTwqq2udOMe",
        "outputId": "02f7eb90-29fc-4a02-8b63-24bb47a44bdf"
      },
      "execution_count": null,
      "outputs": [
        {
          "output_type": "stream",
          "name": "stdout",
          "text": [
            "0.11706547653316073\n",
            "<built-in method sum of numpy.ndarray object at 0x7dd877b0be10>\n",
            "[ 0.00276022  0.98188484 -0.25150744  0.40202465 -0.54983489]\n"
          ]
        }
      ]
    },
    {
      "cell_type": "markdown",
      "source": [
        "**NumPy Array Statistical Methods**\n",
        "\n",
        "| Method | Description                                                                    |\n",
        "| ------ | ------------------------------------------------------------------------------ |\n",
        "| `sum`  | Sum of all elements (or along a specific axis). Returns **0** for empty arrays |\n",
        "| `mean` | Arithmetic mean (average). Returns **NaN** for empty arrays                    |\n",
        "| `std`  | Standard deviation                                                             |\n",
        "| `var`  | Variance                                                                       |\n",
        "| Method   | Description                                     |\n",
        "| -------- | ----------------------------------------------- |\n",
        "| `min`    | Minimum element in the array (or along an axis) |\n",
        "| `max`    | Maximum element in the array (or along an axis) |\n",
        "| `argmin` | Index of minimum element                        |\n",
        "| `argmax` | Index of maximum element                        |\n",
        "| Method    | Description                                                  |\n",
        "| --------- | ------------------------------------------------------------ |\n",
        "| `cumsum`  | Cumulative sum of elements (like `[a, a+b, a+b+c, ...]`)     |\n",
        "| `cumprod` | Cumulative product of elements (like `[a, a*b, a*b*c, ...]`) |\n"
      ],
      "metadata": {
        "id": "_r4eDUYiUc68"
      }
    },
    {
      "cell_type": "code",
      "source": [
        "import numpy as np\n",
        "arr = np.array([1, 2, 3, 4])\n",
        "\n",
        "print(arr.sum())      # 10\n",
        "print(arr.mean())     # 2.5\n",
        "print(arr.std())      # 1.118...\n",
        "print(arr.min())      # 1\n",
        "print(arr.max())      # 4\n",
        "print(arr.argmin())   # 0\n",
        "print(arr.argmax())   # 3\n",
        "print(arr.cumsum())   # [1, 3, 6, 10]\n",
        "print(arr.cumprod())  # [1, 2, 6, 24]"
      ],
      "metadata": {
        "id": "DA9omhESeVRw"
      },
      "execution_count": null,
      "outputs": []
    },
    {
      "cell_type": "markdown",
      "source": [
        "**NumPy Array Set Operations**\n",
        "| Method      | Description                                         |\n",
        "| ----------- | --------------------------------------------------- |\n",
        "| `unique(x)` | Compute the **sorted unique elements** in array `x` |\n",
        "| Method              | Description                                             |\n",
        "| ------------------- | ------------------------------------------------------- |\n",
        "| `intersect1d(x, y)` | Compute the **sorted common elements** in `x` and `y`   |\n",
        "| `union1d(x, y)`     | Compute the **sorted union** of elements in `x` and `y` |\n",
        "| Method            | Description                                                                  |\n",
        "| ----------------- | ---------------------------------------------------------------------------- |\n",
        "| `in1d(x, y)`      | Boolean array indicating whether **each element of `x` is in `y`**           |\n",
        "| `setdiff1d(x, y)` | **Set difference:** elements in `x` that are **not in `y`**                  |\n",
        "| `setxor1d(x, y)`  | **Symmetric difference:** elements that are in **either array but not both** |\n"
      ],
      "metadata": {
        "id": "M8tBXwyOjhq-"
      }
    },
    {
      "cell_type": "code",
      "source": [
        "x = np.array([1, 2, 2, 3, 3, 3])\n",
        "print(np.unique(x), \"\\n\")\n",
        "# Output: array([1, 2, 3])\n",
        "a = np.array([1, 2, 3])\n",
        "b = np.array([2, 3, 4])\n",
        "print(np.intersect1d(a, b), \"\\n\")  # array([2, 3])\n",
        "print(np.union1d(a, b), \"\\n\")     # array([1, 2, 3, 4])\n",
        "\n",
        "x = np.array([1, 2, 3, 4])\n",
        "y = np.array([3, 4, 5, 6])\n",
        "\n",
        "print(np.isin(x, y),\"\\n\")     # array([False, False, True, True])\n",
        "print(np.setdiff1d(x, y), \"\\n\")  # array([1, 2])\n",
        "print(np.setxor1d(x, y), \"\\n\")   # array([1, 2, 5, 6])\n"
      ],
      "metadata": {
        "colab": {
          "base_uri": "https://localhost:8080/"
        },
        "id": "Y9Z3T8XNjsaW",
        "outputId": "65661254-5052-4c92-c089-5875751fea8c"
      },
      "execution_count": null,
      "outputs": [
        {
          "output_type": "stream",
          "name": "stdout",
          "text": [
            "[1 2 3] \n",
            "\n",
            "[2 3] \n",
            "\n",
            "[1 2 3 4] \n",
            "\n",
            "[False False  True  True] \n",
            "\n",
            "[1 2] \n",
            "\n",
            "[1 2 5 6] \n",
            "\n"
          ]
        }
      ]
    },
    {
      "cell_type": "code",
      "source": [
        "import random\n",
        "\n",
        "# Number of steps\n",
        "n_steps = 1000\n",
        "\n",
        "# Start at position 0\n",
        "position = 0\n",
        "\n",
        "# Keep track of all positions\n",
        "walk = [position]\n",
        "\n",
        "# Simulate 1000 steps\n",
        "for _ in range(n_steps):\n",
        "    step = random.choice([-1, 1])  # choose -1 or 1 randomly\n",
        "    position += step                # move\n",
        "    walk.append(position)           # store new position\n",
        "import matplotlib.pyplot as plt\n",
        "\n",
        "plt.plot(walk)\n",
        "plt.title(\"1D Random Walk\")\n",
        "plt.xlabel(\"Step\")\n",
        "plt.ylabel(\"Position\")\n",
        "plt.show()\n"
      ],
      "metadata": {
        "colab": {
          "base_uri": "https://localhost:8080/",
          "height": 472
        },
        "id": "e72bZEPhlubV",
        "outputId": "5f6fdcd3-9160-40b8-f657-f8131bdc5600"
      },
      "execution_count": null,
      "outputs": [
        {
          "output_type": "display_data",
          "data": {
            "text/plain": [
              "<Figure size 640x480 with 1 Axes>"
            ],
            "image/png": "[encoded data removed]"
          },
          "metadata": {}
        }
      ]
    }
  ]
}