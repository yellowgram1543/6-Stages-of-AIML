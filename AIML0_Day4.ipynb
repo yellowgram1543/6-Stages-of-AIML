{
  "nbformat": 4,
  "nbformat_minor": 0,
  "metadata": {
    "colab": {
      "provenance": [],
      "authorship_tag": "ABX9TyNLLpAVJC+p13VO/LaMJNfE",
      "include_colab_link": true
    },
    "kernelspec": {
      "name": "python3",
      "display_name": "Python 3"
    },
    "language_info": {
      "name": "python"
    }
  },
  "cells": [
    {
      "cell_type": "markdown",
      "metadata": {
        "id": "view-in-github",
        "colab_type": "text"
      },
      "source": [
        "<a href=\"https://colab.research.google.com/github/yellowgram1543/6-Stages-of-AIML/blob/main/AIML0_Day4.ipynb\" target=\"_parent\"><img src=\"https://colab.research.google.com/assets/colab-badge.svg\" alt=\"Open In Colab\"/></a>"
      ]
    },
    {
      "cell_type": "markdown",
      "source": [
        "**What are Index Objects?**\n",
        "\n",
        "Index objects in pandas are immutable array-like structures that provide the **axis labels** for pandas Series and DataFrames. They serve as the backbone for data alignment, selection, and organization in pandas."
      ],
      "metadata": {
        "id": "O8QM3HGIYaxY"
      }
    },
    {
      "cell_type": "code",
      "source": [
        "import pandas as pd\n",
        "import numpy as np\n",
        "\n",
        "# Create a basic Index\n",
        "idx1 = pd.Index(['apple', 'banana', 'cherry'])\n",
        "print(idx1)\n",
        "# Basic string index\n",
        "\n",
        "# Create Index from a list\n",
        "idx2 = pd.Index([1, 2, 3, 4, 5])\n",
        "# Numeric index from list\n",
        "\n",
        "# Create Index with custom name\n",
        "idx3 = pd.Index(['A', 'B', 'C'], name='letters')\n",
        "# Named index for better identification\n",
        "\n",
        "# Create Index from NumPy array\n",
        "arr = np.array(['x', 'y', 'z'])\n",
        "idx4 = pd.Index(arr)\n",
        "# Index created from NumPy array\n",
        "\n",
        "# RangeIndex (memory efficient for sequential integers)\n",
        "idx5 = pd.RangeIndex(start=0, stop=10, step=1)\n",
        "# Efficient index for sequential integers\n",
        "\n",
        "# Create Index with specific dtype\n",
        "idx6 = pd.Index([1.1, 2.2, 3.3], dtype='float64')\n",
        "# Index with explicit data type\n",
        "\n",
        "print(\"\\n\")"
      ],
      "metadata": {
        "colab": {
          "base_uri": "https://localhost:8080/"
        },
        "id": "YZcS4doiYaLA",
        "outputId": "d223bf64-5a5f-4bf5-c3cb-6988d1a3bce6"
      },
      "execution_count": 5,
      "outputs": [
        {
          "output_type": "stream",
          "name": "stdout",
          "text": [
            "Index(['apple', 'banana', 'cherry'], dtype='object')\n",
            "\n",
            "\n"
          ]
        }
      ]
    },
    {
      "cell_type": "markdown",
      "source": [
        "### Set Operations"
      ],
      "metadata": {
        "id": "NLeK_tScZWtP"
      }
    },
    {
      "cell_type": "code",
      "execution_count": null,
      "metadata": {
        "colab": {
          "base_uri": "https://localhost:8080/"
        },
        "id": "Ee07nnwnYGmA",
        "outputId": "a4366884-4687-4d91-af05-00733203f7f5"
      },
      "outputs": [
        {
          "output_type": "stream",
          "name": "stdout",
          "text": [
            "Union: Index(['a', 'b', 'c', 'd', 'e', 'f'], dtype='object')\n",
            "\n",
            "Intersection: Index(['c', 'd'], dtype='object')\n",
            "\n",
            "Difference (idx1 - idx2): Index(['a', 'b'], dtype='object')\n",
            "\n",
            "Symmetric Difference: Index(['a', 'b', 'e', 'f'], dtype='object')\n",
            "\n"
          ]
        }
      ],
      "source": [
        "idx1 = pd.Index(['a', 'b', 'c', 'd'])\n",
        "idx2 = pd.Index(['c', 'd', 'e', 'f'])\n",
        "\n",
        "# Union of two indexes\n",
        "union_idx = idx1.union(idx2)\n",
        "print(f\"Union: {union_idx}\\n\")\n",
        "# Combine all unique elements from both indexes\n",
        "\n",
        "# Intersection of two indexes\n",
        "intersection_idx = idx1.intersection(idx2)\n",
        "print(f\"Intersection: {intersection_idx}\\n\")\n",
        "# Get common elements between indexes\n",
        "\n",
        "# Difference between indexes\n",
        "difference_idx = idx1.difference(idx2)\n",
        "print(f\"Difference (idx1 - idx2): {difference_idx}\\n\")\n",
        "# Get elements in idx1 but not in idx2\n",
        "\n",
        "# Symmetric difference\n",
        "sym_diff = idx1.symmetric_difference(idx2)\n",
        "print(f\"Symmetric Difference: {sym_diff}\\n\")\n",
        "# Get elements in either index but not both"
      ]
    },
    {
      "cell_type": "markdown",
      "source": [
        "### **Membership and Comparison**"
      ],
      "metadata": {
        "id": "saKqV1huZvoS"
      }
    },
    {
      "cell_type": "code",
      "source": [
        "idx = pd.Index(['apple', 'banana', 'cherry'])\n",
        "\n",
        "# Check if element exists in index\n",
        "has_banana = 'banana' in idx\n",
        "print(f\"'banana' in idx: {has_banana}\\n\")\n",
        "\n",
        "\n",
        "# Check if all elements of another index are in this index\n",
        "other_idx = pd.Index(['apple', 'cherry'])\n",
        "is_subset = other_idx.isin(idx).all()\n",
        "print(f\"other_idx is subset of idx: {is_subset}\\n\")\n",
        "\n",
        "\n",
        "# Get positions of elements\n",
        "positions = idx.get_indexer(['banana', 'apple'])\n",
        "print(f\"Positions of ['banana', 'apple']: {positions}\\n\")\n",
        "\n",
        "\n",
        "# Check if index contains any of the specified elements\n",
        "contains_any = idx.isin(['banana', 'grape']).any()\n",
        "print(f\"idx contains any of ['banana', 'grape']: {contains_any}\\n\")"
      ],
      "metadata": {
        "colab": {
          "base_uri": "https://localhost:8080/"
        },
        "id": "6g_f_0sLZz5r",
        "outputId": "7c73a6c6-daa9-42ec-b04d-55ab9176f549"
      },
      "execution_count": null,
      "outputs": [
        {
          "output_type": "stream",
          "name": "stdout",
          "text": [
            "'banana' in idx: True\n",
            "\n",
            "other_idx is subset of idx: True\n",
            "\n",
            "Positions of ['banana', 'apple']: [1 0]\n",
            "\n",
            "idx contains any of ['banana', 'grape']: True\n",
            "\n"
          ]
        }
      ]
    },
    {
      "cell_type": "markdown",
      "source": [
        "### Specialized Index Types"
      ],
      "metadata": {
        "id": "-ni7zttJaokS"
      }
    },
    {
      "cell_type": "markdown",
      "source": [
        "**RangeIndex**"
      ],
      "metadata": {
        "id": "TCcmC3huaqmq"
      }
    },
    {
      "cell_type": "code",
      "source": [
        "# Create RangeIndex\n",
        "range_idx = pd.RangeIndex(0, 10, 2)\n",
        "print(f\"RangeIndex: {range_idx}\\n\")\n",
        "\n",
        "# Convert to regular Index\n",
        "regular_idx = pd.Index(range_idx.to_list())\n",
        "print(f\"Converted to regular Index: {regular_idx}\\n\")\n",
        "\n",
        "# Check if it's a RangeIndex\n",
        "is_range = isinstance(range_idx, pd.RangeIndex)\n",
        "print(f\"Is RangeIndex: {is_range}\\n\")"
      ],
      "metadata": {
        "colab": {
          "base_uri": "https://localhost:8080/"
        },
        "id": "yF67EsNuaxA4",
        "outputId": "69b1130d-b0f1-4784-945d-d44a5f9f4b29"
      },
      "execution_count": null,
      "outputs": [
        {
          "output_type": "stream",
          "name": "stdout",
          "text": [
            "RangeIndex: RangeIndex(start=0, stop=10, step=2)\n",
            "\n",
            "Converted to regular Index: Index([0, 2, 4, 6, 8], dtype='int64')\n",
            "\n",
            "Is RangeIndex: True\n",
            "\n"
          ]
        }
      ]
    },
    {
      "cell_type": "code",
      "source": [
        "# Create MultiIndex from arrays\n",
        "arrays = [['A', 'A', 'B', 'B'], [1, 2, 1, 2]]\n",
        "multi_idx = pd.MultiIndex.from_arrays(arrays, names=['first', 'second'])\n",
        "print(f\"MultiIndex from arrays: {multi_idx}\\n\")\n",
        "\n",
        "# Create MultiIndex from product\n",
        "levels = [['A', 'B'], [1, 2, 3]]\n",
        "multi_idx2 = pd.MultiIndex.from_product(levels, names=['letter', 'number'])\n",
        "print(f\"MultiIndex from product: {multi_idx2}\\n\")\n",
        "\n",
        "# Access levels\n",
        "level_0 = multi_idx.get_level_values(0)\n",
        "print(f\"Level 0 values: {level_0}\\n\")"
      ],
      "metadata": {
        "colab": {
          "base_uri": "https://localhost:8080/"
        },
        "id": "im1kMINnbQGt",
        "outputId": "06696f91-5203-43a2-c274-1f4d9ab8bc45"
      },
      "execution_count": null,
      "outputs": [
        {
          "output_type": "stream",
          "name": "stdout",
          "text": [
            "MultiIndex from arrays: MultiIndex([('A', 1),\n",
            "            ('A', 2),\n",
            "            ('B', 1),\n",
            "            ('B', 2)],\n",
            "           names=['first', 'second'])\n",
            "\n",
            "MultiIndex from product: MultiIndex([('A', 1),\n",
            "            ('A', 2),\n",
            "            ('A', 3),\n",
            "            ('B', 1),\n",
            "            ('B', 2),\n",
            "            ('B', 3)],\n",
            "           names=['letter', 'number'])\n",
            "\n",
            "Level 0 values: Index(['A', 'A', 'B', 'B'], dtype='object', name='first')\n",
            "\n"
          ]
        }
      ]
    },
    {
      "cell_type": "markdown",
      "source": [
        "**Reindexing and Alignment**"
      ],
      "metadata": {
        "id": "ENS5EZpEdRE_"
      }
    },
    {
      "cell_type": "markdown",
      "source": [
        "| Argument    | Description |\n",
        "|-------------|-------------|\n",
        "| **labels**  | New sequence to use as an index. Can be any sequence-like object. If an Index is provided, it is used as-is without copying. |\n",
        "| **index**   | New index (row labels) to use. Equivalent to `reindex(index=...)`. |\n",
        "| **columns** | New column labels to use. Equivalent to `reindex(columns=...)`. |\n",
        "| **axis**    | Axis to reindex: `\"index\"` (rows, default) or `\"columns\"`. |\n",
        "| **method**  | Fill strategy for missing labels: `\"ffill\"` (forward fill) or `\"bfill\"` (backward fill). |\n",
        "| **fill_value** | Value to insert for missing labels created during reindexing; defaults to `NaN` if not provided. |\n",
        "| **limit**   | When using forward/backward fill, the maximum number of items to fill. |\n",
        "| **tolerance** | When forward/backfilling with inexact matches, sets the max numeric distance allowed. |\n",
        "| **level**   | For MultiIndex: match on a specific index level or select subset. |\n",
        "| **copy**    | If `True`, always copy data even if index is unchanged; if `False`, avoid copying when possible. |\n"
      ],
      "metadata": {
        "id": "UBHuE_u4d5Pk"
      }
    },
    {
      "cell_type": "code",
      "source": [
        "original_idx = pd.Index(['a', 'b', 'c', 'd'])\n",
        "new_idx = pd.Index(['b', 'd', 'e', 'a'])\n",
        "\n",
        "# Reindex operation: Align index to new target index\n",
        "reindexed = original_idx.reindex(new_idx)\n",
        "print(f\"Reindexed Index: {reindexed}\\n\")\n",
        "\n",
        "# Get indexer for reindexing: Get positions for reindexing operation\n",
        "indexer = original_idx.get_indexer(new_idx)\n",
        "print(f\"Indexer for reindexing: {indexer}\\n\")"
      ],
      "metadata": {
        "colab": {
          "base_uri": "https://localhost:8080/"
        },
        "id": "mlQYFF0UdT5U",
        "outputId": "a616af3c-58bc-4878-8065-130f7bc3b3e6"
      },
      "execution_count": null,
      "outputs": [
        {
          "output_type": "stream",
          "name": "stdout",
          "text": [
            "Reindexed Index: (Index(['b', 'd', 'e', 'a'], dtype='object'), array([ 1,  3, -1,  0]))\n",
            "\n",
            "Indexer for reindexing: [ 1  3 -1  0]\n",
            "\n"
          ]
        }
      ]
    },
    {
      "cell_type": "markdown",
      "source": [
        "### **Filtering in Pandas**"
      ],
      "metadata": {
        "id": "bbiOrKwOeqN4"
      }
    },
    {
      "cell_type": "code",
      "source": [
        "import pandas as pd\n",
        "import numpy as np\n",
        "\n",
        "# Create sample DataFrame\n",
        "df = pd.DataFrame({\n",
        "    'name': ['Alice', 'Bob', 'Charlie', 'Diana', 'Eve'],\n",
        "    'age': [25, 30, 35, 28, 22],\n",
        "    'salary': [50000, 60000, 70000, 55000, 45000],\n",
        "    'department': ['IT', 'HR', 'IT', 'Finance', 'IT']\n",
        "})\n",
        "print(df)\n",
        "print(\"\\n\")\n",
        "\n",
        "# Filter rows where age is greater than 25\n",
        "filtered_df = df[df['age'] > 25]\n",
        "# Select rows where age column values exceed 25\n",
        "print(\"rows where age column values exceed 25 \\n\", filtered_df)\n",
        "print(\"\\n\")\n",
        "\n",
        "# Filter rows where department is 'IT'\n",
        "it_employees = df[df['department'] == 'IT']\n",
        "# Select all employees working in IT department\n",
        "print(\"all employees working in IT department \\n\", it_employees)\n",
        "print(\"\\n\")\n",
        "\n",
        "# Filter using multiple conditions with & (and)\n",
        "senior_it = df[(df['age'] > 25) & (df['department'] == 'IT')]\n",
        "# Select IT employees older than 25 using bitwise AND\n",
        "print(\"IT employees older than 25 \\n\", senior_it)\n",
        "print(\"\\n\")\n",
        "\n",
        "# Filter using multiple conditions with | (or)\n",
        "young_or_high_paid = df[(df['age'] < 25) | (df['salary'] > 60000)]\n",
        "# Select employees who are either young (<25) or highly paid (>60k)\n",
        "print(\"employees who are either young (<25) or highly paid (>60k) \\n\", young_or_high_paid)\n",
        "print(\"\\n\")"
      ],
      "metadata": {
        "colab": {
          "base_uri": "https://localhost:8080/"
        },
        "id": "0NIORo4feuAi",
        "outputId": "85a2200f-e1aa-4648-fd91-ad272839dabd"
      },
      "execution_count": null,
      "outputs": [
        {
          "output_type": "stream",
          "name": "stdout",
          "text": [
            "      name  age  salary department\n",
            "0    Alice   25   50000         IT\n",
            "1      Bob   30   60000         HR\n",
            "2  Charlie   35   70000         IT\n",
            "3    Diana   28   55000    Finance\n",
            "4      Eve   22   45000         IT\n",
            "\n",
            "\n",
            "rows where age column values exceed 25 \n",
            "       name  age  salary department\n",
            "1      Bob   30   60000         HR\n",
            "2  Charlie   35   70000         IT\n",
            "3    Diana   28   55000    Finance\n",
            "\n",
            "\n",
            "all employees working in IT department \n",
            "       name  age  salary department\n",
            "0    Alice   25   50000         IT\n",
            "2  Charlie   35   70000         IT\n",
            "4      Eve   22   45000         IT\n",
            "\n",
            "\n",
            "IT employees older than 25 \n",
            "       name  age  salary department\n",
            "2  Charlie   35   70000         IT\n",
            "\n",
            "\n",
            "employees who are either young (<25) or highly paid (>60k) \n",
            "       name  age  salary department\n",
            "2  Charlie   35   70000         IT\n",
            "4      Eve   22   45000         IT\n",
            "\n",
            "\n"
          ]
        }
      ]
    },
    {
      "cell_type": "markdown",
      "source": [
        "**Using isin() Method**"
      ],
      "metadata": {
        "id": "K32LftfLfa_3"
      }
    },
    {
      "cell_type": "code",
      "source": [
        "# Filter rows where department is in a list of values\n",
        "specific_deps = df[df['department'].isin(['IT', 'HR'])]\n",
        "# Select employees from IT or HR departments using isin()\n",
        "print(specific_deps)\n",
        "print(\"\\n\")\n",
        "\n",
        "# Filter rows where name is not in a list\n",
        "exclude_names = df[~df['name'].isin(['Alice', 'Bob'])]\n",
        "# Exclude specific names using negation operator with isin()\n",
        "print(exclude_names)\n",
        "print(\"\\n\")"
      ],
      "metadata": {
        "colab": {
          "base_uri": "https://localhost:8080/"
        },
        "id": "1pFdgYzQfasZ",
        "outputId": "3c39aefb-8a74-465b-98cb-5920cbd2a479"
      },
      "execution_count": null,
      "outputs": [
        {
          "output_type": "stream",
          "name": "stdout",
          "text": [
            "      name  age  salary department\n",
            "0    Alice   25   50000         IT\n",
            "1      Bob   30   60000         HR\n",
            "2  Charlie   35   70000         IT\n",
            "4      Eve   22   45000         IT\n",
            "\n",
            "\n",
            "      name  age  salary department\n",
            "2  Charlie   35   70000         IT\n",
            "3    Diana   28   55000    Finance\n",
            "4      Eve   22   45000         IT\n",
            "\n",
            "\n"
          ]
        }
      ]
    },
    {
      "cell_type": "markdown",
      "source": [
        "**String Filtering**"
      ],
      "metadata": {
        "id": "cZurKqw9fpWS"
      }
    },
    {
      "cell_type": "code",
      "source": [
        "# Create DataFrame with string data\n",
        "df_strings = pd.DataFrame({\n",
        "    'product': ['Laptop Pro', 'Phone Basic', 'Tablet Ultra', 'Watch Sport', 'Headphones Pro'],\n",
        "    'category': ['Electronics', 'Mobile', 'Electronics', 'Wearables', 'Audio']\n",
        "})\n",
        "print(df_strings)\n",
        "print(\"\\n\")\n",
        "\n",
        "# Filter rows where product contains 'Pro'\n",
        "pro_products = df_strings[df_strings['product'].str.contains('Pro')]\n",
        "# Select products with 'Pro' in their name using string contains\n",
        "print(pro_products)\n",
        "print(\"\\n\")\n",
        "\n",
        "# Filter rows where category starts with 'E'\n",
        "electronics = df_strings[df_strings['category'].str.startswith('E')]\n",
        "# Select categories starting with letter 'E'\n",
        "print(electronics)\n",
        "print(\"\\n\")\n",
        "\n",
        "# Filter with case-insensitive string matching\n",
        "case_insensitive = df_strings[df_strings['product'].str.contains('pro', case=False)]\n",
        "# Case-insensitive search for 'pro' in product names\n",
        "print(case_insensitive)\n",
        "print(\"\\n\")"
      ],
      "metadata": {
        "colab": {
          "base_uri": "https://localhost:8080/"
        },
        "id": "qY4R3xEWfs9U",
        "outputId": "31079726-bfec-4dad-8b39-4229fe825d6e"
      },
      "execution_count": null,
      "outputs": [
        {
          "output_type": "stream",
          "name": "stdout",
          "text": [
            "          product     category\n",
            "0      Laptop Pro  Electronics\n",
            "1     Phone Basic       Mobile\n",
            "2    Tablet Ultra  Electronics\n",
            "3     Watch Sport    Wearables\n",
            "4  Headphones Pro        Audio\n",
            "\n",
            "\n",
            "          product     category\n",
            "0      Laptop Pro  Electronics\n",
            "4  Headphones Pro        Audio\n",
            "\n",
            "\n",
            "        product     category\n",
            "0    Laptop Pro  Electronics\n",
            "2  Tablet Ultra  Electronics\n",
            "\n",
            "\n",
            "          product     category\n",
            "0      Laptop Pro  Electronics\n",
            "4  Headphones Pro        Audio\n",
            "\n",
            "\n"
          ]
        }
      ]
    },
    {
      "cell_type": "markdown",
      "source": [
        "**Using query() Method**"
      ],
      "metadata": {
        "id": "fhF6US4QgKuZ"
      }
    },
    {
      "cell_type": "code",
      "source": [
        "print(df)\n",
        "print(\"\\n\")\n",
        "\n",
        "# Filter using query method with column names as variables\n",
        "high_earners = df.query('salary > 55000')\n",
        "# Select employees earning more than 55k using query syntax\n",
        "print(high_earners)\n",
        "print(\"\\n\")\n",
        "\n",
        "# Filter with multiple conditions in query\n",
        "complex_query = df.query('age > 25 and department == \"IT\"')\n",
        "# Complex filtering using query with multiple conditions\n",
        "print(complex_query)\n",
        "print(\"\\n\")\n",
        "\n",
        "# Use variables in query with @ symbol\n",
        "min_age = 27\n",
        "age_filtered = df.query('age > @min_age')\n",
        "# Use external variable in query with @ prefix\n",
        "print(age_filtered)\n",
        "print(\"\\n\")"
      ],
      "metadata": {
        "colab": {
          "base_uri": "https://localhost:8080/"
        },
        "id": "gLEfFXcEgN07",
        "outputId": "18ddaff3-789a-4479-deb2-d9c7c17e9f5e"
      },
      "execution_count": null,
      "outputs": [
        {
          "output_type": "stream",
          "name": "stdout",
          "text": [
            "      name  age  salary department\n",
            "0    Alice   25   50000         IT\n",
            "1      Bob   30   60000         HR\n",
            "2  Charlie   35   70000         IT\n",
            "3    Diana   28   55000    Finance\n",
            "4      Eve   22   45000         IT\n",
            "\n",
            "\n",
            "      name  age  salary department\n",
            "1      Bob   30   60000         HR\n",
            "2  Charlie   35   70000         IT\n",
            "\n",
            "\n",
            "      name  age  salary department\n",
            "2  Charlie   35   70000         IT\n",
            "\n",
            "\n",
            "      name  age  salary department\n",
            "1      Bob   30   60000         HR\n",
            "2  Charlie   35   70000         IT\n",
            "3    Diana   28   55000    Finance\n",
            "\n",
            "\n"
          ]
        }
      ]
    },
    {
      "cell_type": "markdown",
      "source": [
        "**Advanced Filtering Techniques**"
      ],
      "metadata": {
        "id": "XbH0DLqog1F5"
      }
    },
    {
      "cell_type": "code",
      "source": [
        "# Create DataFrame for advanced examples\n",
        "df_advanced = pd.DataFrame({\n",
        "    'score': [85, 92, 78, 96, 88, 73, 91, 82],\n",
        "    'subject': ['Math', 'Science', 'Math', 'Science', 'Math', 'Science', 'Math', 'Science'],\n",
        "    'student_id': [1, 2, 3, 4, 5, 6, 7, 8]\n",
        "})\n",
        "print(df_advanced)\n",
        "print(\"\\n\")\n",
        "\n",
        "# Filter using between() method\n",
        "good_scores = df_advanced[df_advanced['score'].between(80, 90)]\n",
        "# Select scores between 80 and 90 inclusive\n",
        "print(good_scores)\n",
        "print(\"\\n\")\n",
        "\n",
        "# Filter using quantile-based conditions\n",
        "above_median = df_advanced[df_advanced['score'] > df_advanced['score'].quantile(0.5)]\n",
        "# Select scores above the median value\n",
        "print(above_median)\n",
        "print(\"\\n\")\n",
        "\n",
        "# Filter using custom function with apply\n",
        "def is_excellent(row):\n",
        "    return row['score'] > 90 and row['subject'] == 'Science'\n",
        "\n",
        "excellent_science = df_advanced[df_advanced.apply(is_excellent, axis=1)]\n",
        "# Apply custom function to filter rows based on multiple conditions\n",
        "print(excellent_science)\n",
        "print(\"\\n\")"
      ],
      "metadata": {
        "colab": {
          "base_uri": "https://localhost:8080/"
        },
        "id": "b1WTk2RHg2qm",
        "outputId": "07638325-1baf-4583-825c-7c704d8c46cc"
      },
      "execution_count": null,
      "outputs": [
        {
          "output_type": "stream",
          "name": "stdout",
          "text": [
            "   score  subject  student_id\n",
            "0     85     Math           1\n",
            "1     92  Science           2\n",
            "2     78     Math           3\n",
            "3     96  Science           4\n",
            "4     88     Math           5\n",
            "5     73  Science           6\n",
            "6     91     Math           7\n",
            "7     82  Science           8\n",
            "\n",
            "\n",
            "   score  subject  student_id\n",
            "0     85     Math           1\n",
            "4     88     Math           5\n",
            "7     82  Science           8\n",
            "\n",
            "\n",
            "   score  subject  student_id\n",
            "1     92  Science           2\n",
            "3     96  Science           4\n",
            "4     88     Math           5\n",
            "6     91     Math           7\n",
            "\n",
            "\n",
            "   score  subject  student_id\n",
            "1     92  Science           2\n",
            "3     96  Science           4\n",
            "\n",
            "\n"
          ]
        }
      ]
    },
    {
      "cell_type": "markdown",
      "source": [
        "**Filtering Categorical Data**"
      ],
      "metadata": {
        "id": "GvPplCMGhWWG"
      }
    },
    {
      "cell_type": "code",
      "source": [
        "# Create DataFrame with categorical data\n",
        "df_cat = pd.DataFrame({\n",
        "    'size': pd.Categorical(['Small', 'Medium', 'Large', 'Medium', 'Small'],\n",
        "                          categories=['Small', 'Medium', 'Large'], ordered=True),\n",
        "    'price': [10, 15, 20, 15, 10]\n",
        "})\n",
        "print(df_cat)\n",
        "print(\"\\n\")\n",
        "\n",
        "# Filter categorical data using category values\n",
        "medium_items = df_cat[df_cat['size'] == 'Medium']\n",
        "# Select items with Medium size category\n",
        "print(medium_items)\n",
        "print(\"\\n\")\n",
        "\n",
        "# Filter using categorical ordering\n",
        "large_or_bigger = df_cat[df_cat['size'] >= 'Medium']\n",
        "# Use ordered categorical comparison to get Medium and Large items\n",
        "print(large_or_bigger)\n",
        "print(\"\\n\")"
      ],
      "metadata": {
        "colab": {
          "base_uri": "https://localhost:8080/"
        },
        "id": "xvYYup5UhWJW",
        "outputId": "d5e29fdb-70bb-4858-b83e-82bb7af22b18"
      },
      "execution_count": null,
      "outputs": [
        {
          "output_type": "stream",
          "name": "stdout",
          "text": [
            "     size  price\n",
            "0   Small     10\n",
            "1  Medium     15\n",
            "2   Large     20\n",
            "3  Medium     15\n",
            "4   Small     10\n",
            "\n",
            "\n",
            "     size  price\n",
            "1  Medium     15\n",
            "3  Medium     15\n",
            "\n",
            "\n",
            "     size  price\n",
            "1  Medium     15\n",
            "2   Large     20\n",
            "3  Medium     15\n",
            "\n",
            "\n"
          ]
        }
      ]
    },
    {
      "cell_type": "markdown",
      "source": [
        "**Filtering with Duplicate Handling**"
      ],
      "metadata": {
        "id": "WMuIAVpDho_L"
      }
    },
    {
      "cell_type": "code",
      "source": [
        "# Create DataFrame with duplicates\n",
        "df_dupes = pd.DataFrame({\n",
        "    'id': [1, 2, 2, 3, 4, 4, 4],\n",
        "    'value': [10, 20, 20, 30, 40, 40, 50]\n",
        "})\n",
        "print(df_dupes)\n",
        "print(\"\\n\")\n",
        "\n",
        "# Filter to keep only duplicate rows\n",
        "only_duplicates = df_dupes[df_dupes.duplicated(keep=False)]\n",
        "# Keep all rows that have duplicates (including first occurrence)\n",
        "print(only_duplicates)\n",
        "print(\"\\n\")\n",
        "\n",
        "# Filter to keep only unique rows\n",
        "only_unique = df_dupes[~df_dupes.duplicated()]\n",
        "# Keep only the first occurrence of each duplicate group\n",
        "print(only_unique)\n",
        "print(\"\\n\")\n",
        "\n",
        "# Filter based on duplicate count\n",
        "value_counts = df_dupes['id'].value_counts()\n",
        "frequent_ids = df_dupes[df_dupes['id'].isin(value_counts[value_counts > 1].index)]\n",
        "# Select rows where id appears more than once\n",
        "print(frequent_ids)\n",
        "print(\"\\n\")"
      ],
      "metadata": {
        "colab": {
          "base_uri": "https://localhost:8080/"
        },
        "id": "kAKegyTchq0d",
        "outputId": "ea450584-420c-4ffd-fcb8-58eedb68a9a8"
      },
      "execution_count": null,
      "outputs": [
        {
          "output_type": "stream",
          "name": "stdout",
          "text": [
            "   id  value\n",
            "0   1     10\n",
            "1   2     20\n",
            "2   2     20\n",
            "3   3     30\n",
            "4   4     40\n",
            "5   4     40\n",
            "6   4     50\n",
            "\n",
            "\n",
            "   id  value\n",
            "1   2     20\n",
            "2   2     20\n",
            "4   4     40\n",
            "5   4     40\n",
            "\n",
            "\n",
            "   id  value\n",
            "0   1     10\n",
            "1   2     20\n",
            "3   3     30\n",
            "4   4     40\n",
            "6   4     50\n",
            "\n",
            "\n",
            "   id  value\n",
            "1   2     20\n",
            "2   2     20\n",
            "4   4     40\n",
            "5   4     40\n",
            "6   4     50\n",
            "\n",
            "\n"
          ]
        }
      ]
    },
    {
      "cell_type": "markdown",
      "source": [
        "**Operations between DataFrame and Series**"
      ],
      "metadata": {
        "id": "htSIkWRpiiQK"
      }
    },
    {
      "cell_type": "code",
      "source": [
        "arr = np.arange(12.).reshape((3, 4))\n",
        "print(arr)\n",
        "arr - arr[0]"
      ],
      "metadata": {
        "colab": {
          "base_uri": "https://localhost:8080/"
        },
        "id": "kk8p308wiiAN",
        "outputId": "edf8b4ac-46b1-4978-9f03-79d5d85f753c"
      },
      "execution_count": null,
      "outputs": [
        {
          "output_type": "stream",
          "name": "stdout",
          "text": [
            "[[ 0.  1.  2.  3.]\n",
            " [ 4.  5.  6.  7.]\n",
            " [ 8.  9. 10. 11.]]\n"
          ]
        },
        {
          "output_type": "execute_result",
          "data": {
            "text/plain": [
              "array([[0., 0., 0., 0.],\n",
              "       [4., 4., 4., 4.],\n",
              "       [8., 8., 8., 8.]])"
            ]
          },
          "metadata": {},
          "execution_count": 22
        }
      ]
    },
    {
      "cell_type": "markdown",
      "source": [
        "### Pandas Function Application and Mapping"
      ],
      "metadata": {
        "id": "PdbpnMYamEHk"
      }
    },
    {
      "cell_type": "code",
      "source": [
        "import pandas as pd\n",
        "import numpy as np\n",
        "\n",
        "# Create sample Series\n",
        "s = pd.Series([1, 2, 3, 4, 5])\n",
        "\n",
        "# Apply built-in NumPy function to Series\n",
        "s_squared = s.apply(np.square)\n",
        "# Square each element using NumPy square function\n",
        "print(s_squared)\n",
        "print(\"\\n\")\n",
        "\n",
        "# Apply custom lambda function to Series\n",
        "s_cubed = s.apply(lambda x: x ** 3)\n",
        "# Cube each element using lambda function\n",
        "print(s_cubed)\n",
        "print(\"\\n\")\n",
        "\n",
        "# Apply custom function with multiple operations\n",
        "def custom_transform(x):\n",
        "    return (x * 2) + 10\n",
        "\n",
        "s_transformed = s.apply(custom_transform)\n",
        "# Apply custom function that doubles and adds 10 to each element\n",
        "print(s_transformed)\n",
        "print(\"\\n\")"
      ],
      "metadata": {
        "colab": {
          "base_uri": "https://localhost:8080/"
        },
        "id": "VdO8SgkimDX_",
        "outputId": "e5988ecd-64cf-481f-c255-c96dec5f8d41"
      },
      "execution_count": null,
      "outputs": [
        {
          "output_type": "stream",
          "name": "stdout",
          "text": [
            "0     1\n",
            "1     4\n",
            "2     9\n",
            "3    16\n",
            "4    25\n",
            "dtype: int64\n",
            "\n",
            "\n",
            "0      1\n",
            "1      8\n",
            "2     27\n",
            "3     64\n",
            "4    125\n",
            "dtype: int64\n",
            "\n",
            "\n",
            "0    12\n",
            "1    14\n",
            "2    16\n",
            "3    18\n",
            "4    20\n",
            "dtype: int64\n",
            "\n",
            "\n"
          ]
        }
      ]
    },
    {
      "cell_type": "code",
      "source": [
        "# Create sample DataFrame\n",
        "df = pd.DataFrame({\n",
        "    'A': [1, 2, 3, 4],\n",
        "    'B': [10, 20, 30, 40],\n",
        "    'C': [100, 200, 300, 400]\n",
        "})\n",
        "print(df)\n",
        "print(\"\\n\")\n",
        "\n",
        "# Apply function to each column (default axis=0)\n",
        "column_means = df.apply(np.mean)\n",
        "# Calculate mean of each column using apply\n",
        "print(column_means)\n",
        "print(\"\\n\")\n",
        "\n",
        "# Apply function to each row (axis=1)\n",
        "row_sums = df.apply(np.sum, axis=1)\n",
        "# Calculate sum of each row by specifying axis=1\n",
        "print(row_sums)\n",
        "print(\"\\n\")\n",
        "\n",
        "# Apply different functions to different columns\n",
        "def apply_different_ops(col):\n",
        "    if col.name == 'A':\n",
        "        return col * 2\n",
        "    elif col.name == 'B':\n",
        "        return col / 10\n",
        "    else:\n",
        "        return col\n",
        "\n",
        "df_modified = df.apply(apply_different_ops)\n",
        "# Apply different operations based on column name\n",
        "print(df_modified)\n",
        "print(\"\\n\")"
      ],
      "metadata": {
        "colab": {
          "base_uri": "https://localhost:8080/"
        },
        "id": "ttzvB7wPmMJG",
        "outputId": "87c0d99d-4c18-469d-bea1-37150705d5d5"
      },
      "execution_count": null,
      "outputs": [
        {
          "output_type": "stream",
          "name": "stdout",
          "text": [
            "   A   B    C\n",
            "0  1  10  100\n",
            "1  2  20  200\n",
            "2  3  30  300\n",
            "3  4  40  400\n",
            "\n",
            "\n",
            "A      2.5\n",
            "B     25.0\n",
            "C    250.0\n",
            "dtype: float64\n",
            "\n",
            "\n",
            "0    111\n",
            "1    222\n",
            "2    333\n",
            "3    444\n",
            "dtype: int64\n",
            "\n",
            "\n",
            "   A    B    C\n",
            "0  2  1.0  100\n",
            "1  4  2.0  200\n",
            "2  6  3.0  300\n",
            "3  8  4.0  400\n",
            "\n",
            "\n"
          ]
        }
      ]
    },
    {
      "cell_type": "code",
      "source": [
        "# Create DataFrame with mixed data types\n",
        "df_numeric = pd.DataFrame({\n",
        "    'x': [1.1000, 2.452, 3.378, 4.674],\n",
        "    'y': [5.56, 6.636, 7.7787887, 8.7688]\n",
        "})\n",
        "print(df_numeric)\n",
        "print(\"\\n\")\n",
        "\n",
        "# Apply function element-wise using applymap (deprecated in newer versions)\n",
        "# Using apply with lambda for element-wise operations\n",
        "df_rounded = df_numeric.apply(lambda x: x.round(2))\n",
        "# Round all elements to 2 decimal place\n",
        "print(df_rounded)\n",
        "print(\"\\n\")\n",
        "\n",
        "# Apply mathematical function to all elements\n",
        "df_sqrt = df_numeric.apply(np.sqrt)\n",
        "# Calculate square root of all elements in DataFrame\n",
        "print(df_sqrt)\n",
        "print(\"\\n\")\n",
        "\n",
        "# Apply conditional function element-wise\n",
        "df_conditional = df_numeric.apply(lambda x: np.where(x > 3, x * 2, x))\n",
        "# Double values greater than 3, keep others unchanged\n",
        "print(df_conditional)\n",
        "print(\"\\n\")"
      ],
      "metadata": {
        "colab": {
          "base_uri": "https://localhost:8080/"
        },
        "id": "CWGyUOrgmbGq",
        "outputId": "a4aac96a-e904-439d-9945-7de3c4e4337a"
      },
      "execution_count": null,
      "outputs": [
        {
          "output_type": "stream",
          "name": "stdout",
          "text": [
            "       x         y\n",
            "0  1.100  5.560000\n",
            "1  2.452  6.636000\n",
            "2  3.378  7.778789\n",
            "3  4.674  8.768800\n",
            "\n",
            "\n",
            "      x     y\n",
            "0  1.10  5.56\n",
            "1  2.45  6.64\n",
            "2  3.38  7.78\n",
            "3  4.67  8.77\n",
            "\n",
            "\n",
            "          x         y\n",
            "0  1.048809  2.357965\n",
            "1  1.565886  2.576043\n",
            "2  1.837934  2.789048\n",
            "3  2.161944  2.961216\n",
            "\n",
            "\n",
            "       x          y\n",
            "0  1.100  11.120000\n",
            "1  2.452  13.272000\n",
            "2  6.756  15.557577\n",
            "3  9.348  17.537600\n",
            "\n",
            "\n"
          ]
        }
      ]
    },
    {
      "cell_type": "markdown",
      "source": [
        "**Using map() for Series**"
      ],
      "metadata": {
        "id": "xqcDUXY6nT8o"
      }
    },
    {
      "cell_type": "code",
      "source": [
        "# Create Series for mapping examples\n",
        "s_categories = pd.Series(['A', 'B', 'C', 'A', 'B'])\n",
        "print(s_categories)\n",
        "print(\"\\n\")\n",
        "\n",
        "# Map using dictionary\n",
        "category_map = {'A': 'High', 'B': 'Medium', 'C': 'Low'}\n",
        "s_mapped = s_categories.map(category_map)\n",
        "# Replace category codes with descriptive labels using dictionary mapping\n",
        "print(s_mapped)\n",
        "print(\"\\n\")\n",
        "\n",
        "# Map using function\n",
        "def grade_to_score(grade):\n",
        "    return {'A': 90, 'B': 80, 'C': 70}.get(grade, 0)\n",
        "\n",
        "s_scores = s_categories.map(grade_to_score)\n",
        "# Convert letter grades to numerical scores using function mapping\n",
        "print(s_scores)\n",
        "print(\"\\n\")\n",
        "\n",
        "# Map with default value for unmapped items\n",
        "s_with_default = s_categories.map({'A': 'Alpha', 'B': 'Beta'}, na_action=None)\n",
        "# Map with missing values becoming NaN for unmapped items\n",
        "print(s_with_default)\n",
        "print(\"\\n\")"
      ],
      "metadata": {
        "colab": {
          "base_uri": "https://localhost:8080/"
        },
        "id": "rA29aRyxnSaD",
        "outputId": "3b8caeae-f418-480b-8feb-66cdecb6b324"
      },
      "execution_count": null,
      "outputs": [
        {
          "output_type": "stream",
          "name": "stdout",
          "text": [
            "0    A\n",
            "1    B\n",
            "2    C\n",
            "3    A\n",
            "4    B\n",
            "dtype: object\n",
            "\n",
            "\n",
            "0      High\n",
            "1    Medium\n",
            "2       Low\n",
            "3      High\n",
            "4    Medium\n",
            "dtype: object\n",
            "\n",
            "\n",
            "0    90\n",
            "1    80\n",
            "2    70\n",
            "3    90\n",
            "4    80\n",
            "dtype: int64\n",
            "\n",
            "\n",
            "0    Alpha\n",
            "1     Beta\n",
            "2      NaN\n",
            "3    Alpha\n",
            "4     Beta\n",
            "dtype: object\n",
            "\n",
            "\n"
          ]
        }
      ]
    },
    {
      "cell_type": "markdown",
      "source": [
        "**Using replace() Method**"
      ],
      "metadata": {
        "id": "Sf2yr-TGnp0n"
      }
    },
    {
      "cell_type": "code",
      "source": [
        "# Create DataFrame with values to replace\n",
        "df_replace = pd.DataFrame({\n",
        "    'status': ['active', 'inactive', 'pending', 'active'],\n",
        "    'rating': [5, 3, 4, 5]\n",
        "})\n",
        "print(df_replace)\n",
        "print(\"\\n\")\n",
        "\n",
        "# Replace single value\n",
        "df_single_replace = df_replace.replace('inactive', 'blocked')\n",
        "# Replace single string value throughout DataFrame\n",
        "print(df_single_replace)\n",
        "print(\"\\n\")\n",
        "\n",
        "# Replace multiple values using dictionary\n",
        "df_multi_replace = df_replace.replace({\n",
        "    'status': {'active': 'enabled', 'inactive': 'disabled'},\n",
        "    'rating': {5: 'Excellent', 3: 'Poor', 4: 'Good'}\n",
        "})\n",
        "# Replace different values in different columns using nested dictionary\n",
        "print(df_multi_replace)\n",
        "print(\"\\n\")\n",
        "\n",
        "# Replace using regular expressions\n",
        "df_regex_replace = pd.DataFrame({'text': ['abc123', 'def456', 'ghi789']})\n",
        "df_regex_replace['cleaned'] = df_regex_replace['text'].replace(r'\\d+', 'NUM', regex=True)\n",
        "# Replace numeric patterns with 'NUM' using regex\n",
        "print(df_regex_replace)\n",
        "print(\"\\n\")"
      ],
      "metadata": {
        "colab": {
          "base_uri": "https://localhost:8080/"
        },
        "id": "vPIqyHmlnrQP",
        "outputId": "7da75494-bfcd-4bd4-fa8b-8e0b79ca5b18"
      },
      "execution_count": null,
      "outputs": [
        {
          "output_type": "stream",
          "name": "stdout",
          "text": [
            "     status  rating\n",
            "0    active       5\n",
            "1  inactive       3\n",
            "2   pending       4\n",
            "3    active       5\n",
            "\n",
            "\n",
            "    status  rating\n",
            "0   active       5\n",
            "1  blocked       3\n",
            "2  pending       4\n",
            "3   active       5\n",
            "\n",
            "\n",
            "     status     rating\n",
            "0   enabled  Excellent\n",
            "1  disabled       Poor\n",
            "2   pending       Good\n",
            "3   enabled  Excellent\n",
            "\n",
            "\n",
            "     text cleaned\n",
            "0  abc123  abcNUM\n",
            "1  def456  defNUM\n",
            "2  ghi789  ghiNUM\n",
            "\n",
            "\n"
          ]
        }
      ]
    },
    {
      "cell_type": "markdown",
      "source": [
        "**Advanced Function Application with agg()**"
      ],
      "metadata": {
        "id": "STS6l2Z4oJAf"
      }
    },
    {
      "cell_type": "code",
      "source": [
        "# Create DataFrame for aggregation examples\n",
        "df_sales = pd.DataFrame({\n",
        "    'product': ['A', 'B', 'A', 'B', 'A', 'B'],\n",
        "    'sales': [100, 150, 200, 120, 180, 90],\n",
        "    'profit': [20, 30, 40, 25, 35, 18]\n",
        "})\n",
        "print(df_sales)\n",
        "print(\"\\n\")\n",
        "\n",
        "# Apply multiple aggregation functions\n",
        "multi_agg = df_sales.agg({\n",
        "    'sales': ['sum', 'mean', 'std'],\n",
        "    'profit': ['min', 'max', 'count']\n",
        "})\n",
        "# Apply different aggregation functions to different columns\n",
        "print(multi_agg)\n",
        "print(\"\\n\")\n",
        "\n",
        "# Apply custom aggregation function\n",
        "def coefficient_of_variation(x):\n",
        "    return x.std() / x.mean() if x.mean() != 0 else 0\n",
        "\n",
        "cv_agg = df_sales.agg({\n",
        "    'sales': coefficient_of_variation,\n",
        "    'profit': coefficient_of_variation\n",
        "})\n",
        "# Apply custom coefficient of variation function to numeric columns\n",
        "print(cv_agg)\n",
        "print(\"\\n\")\n",
        "\n",
        "# Apply same function to all columns\n",
        "all_means = df_sales[['sales', 'profit']].agg('mean')\n",
        "# Calculate mean for all specified numeric columns\n",
        "print(all_means)\n",
        "print(\"\\n\")"
      ],
      "metadata": {
        "colab": {
          "base_uri": "https://localhost:8080/"
        },
        "id": "MugZTHrYoKe3",
        "outputId": "4a19c2c8-47c4-4865-8783-142af6b66601"
      },
      "execution_count": null,
      "outputs": [
        {
          "output_type": "stream",
          "name": "stdout",
          "text": [
            "  product  sales  profit\n",
            "0       A    100      20\n",
            "1       B    150      30\n",
            "2       A    200      40\n",
            "3       B    120      25\n",
            "4       A    180      35\n",
            "5       B     90      18\n",
            "\n",
            "\n",
            "            sales  profit\n",
            "sum    840.000000     NaN\n",
            "mean   140.000000     NaN\n",
            "std     44.271887     NaN\n",
            "min           NaN    18.0\n",
            "max           NaN    40.0\n",
            "count         NaN     6.0\n",
            "\n",
            "\n",
            "sales     0.316228\n",
            "profit    0.307226\n",
            "dtype: float64\n",
            "\n",
            "\n",
            "sales     140.0\n",
            "profit     28.0\n",
            "dtype: float64\n",
            "\n",
            "\n"
          ]
        }
      ]
    },
    {
      "cell_type": "markdown",
      "source": [
        "**Transform**"
      ],
      "metadata": {
        "id": "aaWuVl1wohTO"
      }
    },
    {
      "cell_type": "code",
      "source": [
        "# Create DataFrame for transform examples\n",
        "df_transform = pd.DataFrame({\n",
        "    'group': ['X', 'X', 'Y', 'Y', 'Z', 'Z'],\n",
        "    'value': [10, 20, 30, 40, 50, 60]\n",
        "})\n",
        "print(df_transform)\n",
        "print(\"\\n\")\n",
        "\n",
        "# Apply transform to get group-wise operations\n",
        "df_transform['group_mean'] = df_transform.groupby('group')['value'].transform('mean')\n",
        "# Add column with mean value for each group using transform\n",
        "print(df_transform)\n",
        "print(\"\\n\")\n",
        "\n",
        "# Apply custom transform function\n",
        "def demean(x):\n",
        "    return x - x.mean()\n",
        "\n",
        "df_transform['demeaned'] = df_transform.groupby('group')['value'].transform(demean)\n",
        "# Center values around group mean using custom transform function\n",
        "print(df_transform)\n",
        "print(\"\\n\")\n",
        "\n",
        "# Transform with multiple operations\n",
        "df_transform['normalized'] = df_transform.groupby('group')['value'].transform(\n",
        "    lambda x: (x - x.min()) / (x.max() - x.min()) if x.max() != x.min() else 0\n",
        ")\n",
        "# Normalize values within each group to 0-1 range\n",
        "print(df_transform)\n",
        "print(\"\\n\")"
      ],
      "metadata": {
        "colab": {
          "base_uri": "https://localhost:8080/"
        },
        "id": "DhuiP52uoj6B",
        "outputId": "117db964-74a1-4823-b200-6eb38216e580"
      },
      "execution_count": null,
      "outputs": [
        {
          "output_type": "stream",
          "name": "stdout",
          "text": [
            "  group  value\n",
            "0     X     10\n",
            "1     X     20\n",
            "2     Y     30\n",
            "3     Y     40\n",
            "4     Z     50\n",
            "5     Z     60\n",
            "\n",
            "\n",
            "  group  value  group_mean\n",
            "0     X     10        15.0\n",
            "1     X     20        15.0\n",
            "2     Y     30        35.0\n",
            "3     Y     40        35.0\n",
            "4     Z     50        55.0\n",
            "5     Z     60        55.0\n",
            "\n",
            "\n",
            "  group  value  group_mean  demeaned\n",
            "0     X     10        15.0      -5.0\n",
            "1     X     20        15.0       5.0\n",
            "2     Y     30        35.0      -5.0\n",
            "3     Y     40        35.0       5.0\n",
            "4     Z     50        55.0      -5.0\n",
            "5     Z     60        55.0       5.0\n",
            "\n",
            "\n",
            "  group  value  group_mean  demeaned  normalized\n",
            "0     X     10        15.0      -5.0         0.0\n",
            "1     X     20        15.0       5.0         1.0\n",
            "2     Y     30        35.0      -5.0         0.0\n",
            "3     Y     40        35.0       5.0         1.0\n",
            "4     Z     50        55.0      -5.0         0.0\n",
            "5     Z     60        55.0       5.0         1.0\n",
            "\n",
            "\n"
          ]
        }
      ]
    },
    {
      "cell_type": "markdown",
      "source": [
        "**Apply with Additional Arguments**"
      ],
      "metadata": {
        "id": "sJetRt1NeCXX"
      }
    },
    {
      "cell_type": "code",
      "source": [
        "# Create DataFrame for examples with additional arguments\n",
        "df_args = pd.DataFrame({\n",
        "    'price': [100, 200, 300, 400],\n",
        "    'quantity': [2, 3, 1, 4]\n",
        "})\n",
        "print(df_args)\n",
        "print(\"\\n\")\n",
        "\n",
        "# Apply function with additional positional arguments\n",
        "def calculate_total(price, quantity, tax_rate):\n",
        "    return price * quantity * (1 + tax_rate)\n",
        "\n",
        "\n",
        "#Case 1 — apply on DataFrame rows\n",
        "df_args['total_with_tax'] = df_args.apply(\n",
        "    lambda row: calculate_total(row['price'], row['quantity'], 0.1), axis=1\n",
        ")\n",
        "# Calculate total with tax using apply with additional argument\n",
        "print(df_args)\n",
        "print(\"\\n\")\n",
        "\n",
        "# Apply function with keyword arguments\n",
        "def discount_price(price, discount=0.1, min_price=50):\n",
        "    discounted = price * (1 - discount)\n",
        "    return max(discounted, min_price)\n",
        "\n",
        "#Case 2 — apply on a Series\n",
        "df_args['discounted'] = df_args['price'].apply(\n",
        "    discount_price, discount=0.15, min_price=80\n",
        ")\n",
        "\n",
        "# Apply discount function with keyword arguments\n",
        "print(df_args)\n",
        "print(\"\\n\")"
      ],
      "metadata": {
        "id": "pICLueJ2ou-P",
        "colab": {
          "base_uri": "https://localhost:8080/"
        },
        "outputId": "82867e15-954a-496c-f0e1-bb29f037a03d"
      },
      "execution_count": 6,
      "outputs": [
        {
          "output_type": "stream",
          "name": "stdout",
          "text": [
            "   price  quantity\n",
            "0    100         2\n",
            "1    200         3\n",
            "2    300         1\n",
            "3    400         4\n",
            "\n",
            "\n",
            "   price  quantity  total_with_tax\n",
            "0    100         2           220.0\n",
            "1    200         3           660.0\n",
            "2    300         1           330.0\n",
            "3    400         4          1760.0\n",
            "\n",
            "\n",
            "   price  quantity  total_with_tax  discounted\n",
            "0    100         2           220.0        85.0\n",
            "1    200         3           660.0       170.0\n",
            "2    300         1           330.0       255.0\n",
            "3    400         4          1760.0       340.0\n",
            "\n",
            "\n"
          ]
        }
      ]
    },
    {
      "cell_type": "markdown",
      "source": [
        "**Vectorized Operations vs Apply**"
      ],
      "metadata": {
        "id": "P2E_sbz1d-Er"
      }
    },
    {
      "cell_type": "code",
      "source": [
        "# Create large Series for performance comparison\n",
        "large_s = pd.Series(np.random.randn(10000))\n",
        "\n",
        "# Vectorized operation (fast)\n",
        "vectorized_result = large_s ** 2 + large_s * 3\n",
        "# Perform vectorized mathematical operation (much faster)\n",
        "print(f\"Vectorized operation completed on {len(large_s)} elements\")\n",
        "print(\"\\n\")\n",
        "\n",
        "# Apply with lambda (slower)\n",
        "apply_result = large_s.apply(lambda x: x ** 2 + x * 3)\n",
        "# Same operation using apply (slower but more flexible)\n",
        "print(f\"Apply operation completed on {len(large_s)} elements\")\n",
        "print(\"\\n\")\n",
        "\n",
        "# When to use apply: complex logic that can't be vectorized\n",
        "def complex_logic(x):\n",
        "    if x > 1:\n",
        "        return x ** 2\n",
        "    elif x < -1:\n",
        "        return x ** 3\n",
        "    else:\n",
        "        return x\n",
        "\n",
        "complex_result = large_s.apply(complex_logic)\n",
        "# Use apply when logic is too complex for vectorization\n",
        "print(f\"Complex logic applied to {len(large_s)} elements\")\n",
        "print(\"\\n\")"
      ],
      "metadata": {
        "id": "ITTJuAJeo0c1",
        "colab": {
          "base_uri": "https://localhost:8080/"
        },
        "outputId": "3073f169-cb2a-407d-c8a5-fb996143f894"
      },
      "execution_count": 7,
      "outputs": [
        {
          "output_type": "stream",
          "name": "stdout",
          "text": [
            "Vectorized operation completed on 10000 elements\n",
            "\n",
            "\n",
            "Apply operation completed on 10000 elements\n",
            "\n",
            "\n",
            "Complex logic applied to 10000 elements\n",
            "\n",
            "\n"
          ]
        }
      ]
    },
    {
      "cell_type": "markdown",
      "source": [
        "**Working with Missing Values in Function Application**"
      ],
      "metadata": {
        "id": "Fqm-ngFMd5b4"
      }
    },
    {
      "cell_type": "code",
      "source": [
        "# Create Series with missing values\n",
        "s_missing = pd.Series([1, 2, np.nan, 4, 5])\n",
        "print(s_missing)\n",
        "print(\"\\n\")\n",
        "\n",
        "# Drop missing values\n",
        "s_dropped = s_missing.dropna()\n",
        "# Remove NaN values\n",
        "print(s_dropped)\n",
        "print(\"\\n\")\n",
        "\n",
        "# Apply function that handles NaN\n",
        "def safe_log(x):\n",
        "    return np.log(x) if pd.notna(x) and x > 0 else np.nan\n",
        "\n",
        "s_logged = s_missing.apply(safe_log)\n",
        "# Apply logarithm function with NaN handling\n",
        "print(s_logged)\n",
        "print(\"\\n\")\n",
        "\n",
        "# Use skipna parameter in aggregation\n",
        "df_missing = pd.DataFrame({\n",
        "    'A': [1, 2, np.nan, 4],\n",
        "    'B': [5, np.nan, 7, 8]\n",
        "})\n",
        "\n",
        "print(df_missing)\n",
        "print(\"\\n\")\n",
        "\n",
        "# Calculate mean without NaN values using pandas .mean()\n",
        "mean_with_na = df_missing.mean(skipna=True)\n",
        "print(mean_with_na)\n",
        "print(\"\\n\")\n",
        "\n",
        "# Apply function only to non-null values\n",
        "s_non_null = s_missing.dropna().apply(lambda x: x * 10)\n",
        "# Apply function only after removing NaN values\n",
        "print(s_non_null)\n",
        "print(\"\\n\")"
      ],
      "metadata": {
        "id": "YiGYl4xuo2TT",
        "colab": {
          "base_uri": "https://localhost:8080/"
        },
        "outputId": "4a261a49-ac9b-4e35-cf01-ca14f42e3a7e"
      },
      "execution_count": 11,
      "outputs": [
        {
          "output_type": "stream",
          "name": "stdout",
          "text": [
            "0    1.0\n",
            "1    2.0\n",
            "2    NaN\n",
            "3    4.0\n",
            "4    5.0\n",
            "dtype: float64\n",
            "\n",
            "\n",
            "0    1.0\n",
            "1    2.0\n",
            "3    4.0\n",
            "4    5.0\n",
            "dtype: float64\n",
            "\n",
            "\n",
            "0    0.000000\n",
            "1    0.693147\n",
            "2         NaN\n",
            "3    1.386294\n",
            "4    1.609438\n",
            "dtype: float64\n",
            "\n",
            "\n",
            "     A    B\n",
            "0  1.0  5.0\n",
            "1  2.0  NaN\n",
            "2  NaN  7.0\n",
            "3  4.0  8.0\n",
            "\n",
            "\n",
            "A    2.333333\n",
            "B    6.666667\n",
            "dtype: float64\n",
            "\n",
            "\n",
            "0    10.0\n",
            "1    20.0\n",
            "3    40.0\n",
            "4    50.0\n",
            "dtype: float64\n",
            "\n",
            "\n"
          ]
        }
      ]
    },
    {
      "cell_type": "markdown",
      "source": [
        "**Function Application with GroupBy**"
      ],
      "metadata": {
        "id": "zTt51AeXd0m_"
      }
    },
    {
      "cell_type": "code",
      "source": [
        "# Create DataFrame for groupby function application\n",
        "df_groupby = pd.DataFrame({\n",
        "    'category': ['A', 'A', 'B', 'B', 'C', 'C'],\n",
        "    'value1': [10, 20, 30, 40, 50, 60],\n",
        "    'value2': [1, 2, 3, 4, 5, 6]\n",
        "})\n",
        "print(df_groupby)\n",
        "print(\"\\n\")\n",
        "\n",
        "# Apply function to each group\n",
        "def group_summary(group):\n",
        "    return pd.Series({\n",
        "        'sum_val1': group['value1'].sum(),\n",
        "        'mean_val2': group['value2'].mean(),\n",
        "        'count': len(group)\n",
        "    })\n",
        "\n",
        "group_results = df_groupby.groupby('category').apply(group_summary)\n",
        "# Apply custom summary function to each group\n",
        "print(group_results)\n",
        "print(\"\\n\")\n",
        "\n",
        "# Apply different functions to different columns per group\n",
        "group_agg = df_groupby.groupby('category').agg({\n",
        "    'value1': ['sum', 'max'],\n",
        "    'value2': 'mean'\n",
        "})\n",
        "# Apply multiple aggregation functions per group and column\n",
        "print(group_agg)\n",
        "print(\"\\n\")\n",
        "\n",
        "# Filter groups based on condition\n",
        "def filter_groups(group):\n",
        "    return group['value1'].sum() > 25\n",
        "\n",
        "filtered_groups = df_groupby.groupby('category').filter(filter_groups)\n",
        "# Keep only groups where sum of value1 exceeds 25\n",
        "print(filtered_groups)\n",
        "print(\"\\n\")"
      ],
      "metadata": {
        "id": "-pUn2B69o4Nw",
        "colab": {
          "base_uri": "https://localhost:8080/"
        },
        "outputId": "6aa0f1c4-9273-4317-ec68-42c859469564"
      },
      "execution_count": 12,
      "outputs": [
        {
          "output_type": "stream",
          "name": "stdout",
          "text": [
            "  category  value1  value2\n",
            "0        A      10       1\n",
            "1        A      20       2\n",
            "2        B      30       3\n",
            "3        B      40       4\n",
            "4        C      50       5\n",
            "5        C      60       6\n",
            "\n",
            "\n",
            "          sum_val1  mean_val2  count\n",
            "category                            \n",
            "A             30.0        1.5    2.0\n",
            "B             70.0        3.5    2.0\n",
            "C            110.0        5.5    2.0\n",
            "\n",
            "\n",
            "         value1     value2\n",
            "            sum max   mean\n",
            "category                  \n",
            "A            30  20    1.5\n",
            "B            70  40    3.5\n",
            "C           110  60    5.5\n",
            "\n",
            "\n",
            "  category  value1  value2\n",
            "0        A      10       1\n",
            "1        A      20       2\n",
            "2        B      30       3\n",
            "3        B      40       4\n",
            "4        C      50       5\n",
            "5        C      60       6\n",
            "\n",
            "\n"
          ]
        },
        {
          "output_type": "stream",
          "name": "stderr",
          "text": [
            "/tmp/ipython-input-3920929643.py:18: DeprecationWarning: DataFrameGroupBy.apply operated on the grouping columns. This behavior is deprecated, and in a future version of pandas the grouping columns will be excluded from the operation. Either pass `include_groups=False` to exclude the groupings or explicitly select the grouping columns after groupby to silence this warning.\n",
            "  group_results = df_groupby.groupby('category').apply(group_summary)\n"
          ]
        }
      ]
    }
  ]
}