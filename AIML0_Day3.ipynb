{
  "nbformat": 4,
  "nbformat_minor": 0,
  "metadata": {
    "colab": {
      "provenance": [],
      "authorship_tag": "ABX9TyPAit14i04+38f4dQGhPMqC",
      "include_colab_link": true
    },
    "kernelspec": {
      "name": "python3",
      "display_name": "Python 3"
    },
    "language_info": {
      "name": "python"
    }
  },
  "cells": [
    {
      "cell_type": "markdown",
      "metadata": {
        "id": "view-in-github",
        "colab_type": "text"
      },
      "source": [
        "<a href=\"https://colab.research.google.com/github/yellowgram1543/6-Stages-of-AIML/blob/main/AIML0_Day3.ipynb\" target=\"_parent\"><img src=\"https://colab.research.google.com/assets/colab-badge.svg\" alt=\"Open In Colab\"/></a>"
      ]
    },
    {
      "cell_type": "code",
      "execution_count": 1,
      "metadata": {
        "id": "_9NzTP-Qnv_R"
      },
      "outputs": [],
      "source": [
        "import numpy as np\n",
        "import pandas as pd"
      ]
    },
    {
      "cell_type": "markdown",
      "source": [
        "## **Series**"
      ],
      "metadata": {
        "id": "HMfCjjEZprto"
      }
    },
    {
      "cell_type": "markdown",
      "source": [
        "A **Series** is one of the two primary data structures in pandas (the other being DataFrame). It's a **one-dimensional labeled array** capable of holding data of any type (integers, strings, floating point numbers, Python objects, etc.). Think of it as a single column of data with an associated index.\n",
        "\n",
        "- One-dimensional: Contains a single column of data\n",
        "- Homogeneous data type: All elements typically have the same data type (though technically can hold mixed types)\n",
        "- Labeled index: Each element has an associated label (index)\n",
        "- Size-immutable: You cannot change the size of a Series after creation\n",
        "- Values are mutable: You can modify the values within the Series"
      ],
      "metadata": {
        "id": "bSfTGUH-oPwk"
      }
    },
    {
      "cell_type": "code",
      "source": [
        "import pandas as pd\n",
        "import numpy as np\n",
        "\n",
        "# 1. From a Python list\n",
        "s1 = pd.Series([1, 3, 5, np.nan, 6, 8])\n",
        "print(s1, \"\\n\")\n",
        "\n",
        "# 2. With custom index\n",
        "s2 = pd.Series([10, 20, 30, 40], index=['a', 'b', 'c', 'd'])\n",
        "print(s2, \"\\n\")\n",
        "\n",
        "# 3. From a dictionary\n",
        "data_dict = {'apple': 45, 'banana': 30, 'orange': 55}\n",
        "s3 = pd.Series(data_dict)\n",
        "print(s3, \"\\n\")\n",
        "\n",
        "# 4. From a scalar value (creates Series with repeated value)\n",
        "s4 = pd.Series(5, index=['x', 'y', 'z'])\n",
        "print(s4, \"\\n\")\n",
        "\n",
        "# 5. From NumPy array\n",
        "arr = np.array([1, 2, 3, 4])\n",
        "s5 = pd.Series(arr)\n",
        "print(s5)"
      ],
      "metadata": {
        "colab": {
          "base_uri": "https://localhost:8080/"
        },
        "id": "D3UFiVF_oObe",
        "outputId": "b2d65c2b-a520-447c-a912-4d7211181643"
      },
      "execution_count": 4,
      "outputs": [
        {
          "output_type": "stream",
          "name": "stdout",
          "text": [
            "0    1.0\n",
            "1    3.0\n",
            "2    5.0\n",
            "3    NaN\n",
            "4    6.0\n",
            "5    8.0\n",
            "dtype: float64 \n",
            "\n",
            "a    10\n",
            "b    20\n",
            "c    30\n",
            "d    40\n",
            "dtype: int64 \n",
            "\n",
            "apple     45\n",
            "banana    30\n",
            "orange    55\n",
            "dtype: int64 \n",
            "\n",
            "x    5\n",
            "y    5\n",
            "z    5\n",
            "dtype: int64 \n",
            "\n",
            "0    1\n",
            "1    2\n",
            "2    3\n",
            "3    4\n",
            "dtype: int64\n"
          ]
        }
      ]
    },
    {
      "cell_type": "markdown",
      "source": [
        "**Series Attributes**"
      ],
      "metadata": {
        "id": "fbm851-PpfsQ"
      }
    },
    {
      "cell_type": "code",
      "source": [
        "s = pd.Series([10, 20, 30, 40], index=['a', 'b', 'c', 'd'])\n",
        "\n",
        "# Access the underlying data as a NumPy array\n",
        "print(s.values, \"\\n\")\n",
        "\n",
        "# Access the index\n",
        "print(s.index, \"\\n\")\n",
        "\n",
        "# Get the data type\n",
        "print(s.dtype, \"\\n\")\n",
        "\n",
        "# Get the shape\n",
        "print(s.shape, \"\\n\")\n",
        "\n",
        "# Get the size (number of elements)\n",
        "print(s.size, \"\\n\")\n",
        "\n",
        "# Check if Series is empty\n",
        "print(s.empty)"
      ],
      "metadata": {
        "colab": {
          "base_uri": "https://localhost:8080/"
        },
        "id": "mqvqDnRgpxzp",
        "outputId": "a31a28f5-7cec-4aa5-96cc-aa8032612f2b"
      },
      "execution_count": 6,
      "outputs": [
        {
          "output_type": "stream",
          "name": "stdout",
          "text": [
            "[10 20 30 40] \n",
            "\n",
            "Index(['a', 'b', 'c', 'd'], dtype='object') \n",
            "\n",
            "int64 \n",
            "\n",
            "(4,) \n",
            "\n",
            "4 \n",
            "\n",
            "False\n"
          ]
        }
      ]
    },
    {
      "cell_type": "markdown",
      "source": [
        "**Indexing**"
      ],
      "metadata": {
        "id": "vHC3YwXOqoru"
      }
    },
    {
      "cell_type": "code",
      "source": [
        "s = pd.Series([10, 20, 30, 40], index=['a', 'b', 'c', 'd'])\n",
        "\n",
        "# Single label\n",
        "print(s['a'])        # 10\n",
        "\n",
        "# Multiple labels\n",
        "print(s[['a', 'c']])\n",
        "\n",
        "# Using .loc for explicit label-based access\n",
        "print(s.loc['b'], \"\\n\")    # 20\n",
        "print(s.loc[['b', 'd']], \"\\n\")\n",
        "\n",
        "print(s.iloc[0], \"\\n\")     # 10 (first element)\n",
        "print(s.iloc[1:3], \"\\n\")   # Elements at positions 1 and 2\n",
        "\n",
        "mask = s > 25\n",
        "print(mask)"
      ],
      "metadata": {
        "colab": {
          "base_uri": "https://localhost:8080/"
        },
        "id": "1cUCbX6uqs_X",
        "outputId": "8294f19b-2d9e-4f20-ea6a-1559711bb535"
      },
      "execution_count": 10,
      "outputs": [
        {
          "output_type": "stream",
          "name": "stdout",
          "text": [
            "10\n",
            "a    10\n",
            "c    30\n",
            "dtype: int64\n",
            "20 \n",
            "\n",
            "b    20\n",
            "d    40\n",
            "dtype: int64 \n",
            "\n",
            "10 \n",
            "\n",
            "b    20\n",
            "c    30\n",
            "dtype: int64\n"
          ]
        }
      ]
    },
    {
      "cell_type": "markdown",
      "source": [
        "**Series Operation**"
      ],
      "metadata": {
        "id": "bXy_T72NzK71"
      }
    },
    {
      "cell_type": "code",
      "source": [
        "s1 = pd.Series([1, 2, 3, 4], index=['a', 'b', 'c', 'd'])\n",
        "s2 = pd.Series([10, 20, 30, 40], index=['a', 'b', 'c', 'd'])\n",
        "\n",
        "# Element-wise operations\n",
        "print(s1 + s2)\n",
        "print(s2 / s1)"
      ],
      "metadata": {
        "id": "xDQTOOadzOHP"
      },
      "execution_count": null,
      "outputs": []
    },
    {
      "cell_type": "code",
      "source": [
        "s = pd.Series([1, np.nan, 3, np.nan, 5])\n",
        "\n",
        "# Check for missing values\n",
        "print(s.isnull())\n",
        "\n",
        "# Drop missing values\n",
        "print(s.dropna())\n",
        "\n",
        "# Fill missing values\n",
        "print(s.fillna(0))"
      ],
      "metadata": {
        "id": "ccVvlMxxzTZa"
      },
      "execution_count": null,
      "outputs": []
    },
    {
      "cell_type": "markdown",
      "source": [
        "**Statstical Methods**"
      ],
      "metadata": {
        "id": "eWoGhixa0Pvs"
      }
    },
    {
      "cell_type": "code",
      "source": [
        "s = pd.Series([1, 2, 3, 4, 5, 6, 7, 8, 9, 10])\n",
        "\n",
        "print(s.sum())      # 55\n",
        "print(s.mean())     # 5.5\n",
        "print(s.median())   # 5.5\n",
        "print(s.std())      # 3.0276503540974917\n",
        "print(s.min())      # 1\n",
        "print(s.max())      # 10\n",
        "print(s.count())    # 10 (counts non-null values)"
      ],
      "metadata": {
        "id": "jAFacWF10Wfa"
      },
      "execution_count": null,
      "outputs": []
    },
    {
      "cell_type": "markdown",
      "source": [
        "**Sorting**"
      ],
      "metadata": {
        "id": "nIh7lKAI0WFk"
      }
    },
    {
      "cell_type": "code",
      "source": [
        "s = pd.Series([3, 1, 4, 1, 5], index=['e', 'a', 'c', 'b', 'd'])\n",
        "\n",
        "# Sort by values\n",
        "print(s.sort_values())\n",
        "\n",
        "# Sort by index\n",
        "print(s.sort_index())"
      ],
      "metadata": {
        "id": "F6O9welV0fvi"
      },
      "execution_count": null,
      "outputs": []
    },
    {
      "cell_type": "markdown",
      "source": [
        "**String Operations**"
      ],
      "metadata": {
        "id": "GnnHFRRh1BGy"
      }
    },
    {
      "cell_type": "code",
      "source": [
        "s = pd.Series(['apple', 'banana', 'cherry'])\n",
        "\n",
        "print(s.str.upper())\n",
        "print(s.str.len())"
      ],
      "metadata": {
        "id": "H28A_2Hg1Eet"
      },
      "execution_count": null,
      "outputs": []
    },
    {
      "cell_type": "markdown",
      "source": [
        "**Alignment Feature**\n",
        "\n",
        "One of pandas' most powerful features is automatic alignment based on index labels"
      ],
      "metadata": {
        "id": "EQQoENQe1Kqw"
      }
    },
    {
      "cell_type": "code",
      "source": [
        "s1 = pd.Series([1, 2, 3], index=['a', 'b', 'c'])\n",
        "s2 = pd.Series([4, 5, 6], index=['b', 'c', 'd'])\n",
        "\n",
        "# When performing operations, pandas aligns by index\n",
        "result = s1 + s2\n",
        "print(result, \"\\n\")\n",
        "\n",
        "# To handle missing values in alignment\n",
        "result_filled = s1.add(s2, fill_value=0)\n",
        "print(result_filled)\n",
        "# a    1.0  (1+0)\n",
        "# b    6.0  (1+5)\n",
        "# c    8.0  (2+6)\n",
        "# d    6.0  (0+6)"
      ],
      "metadata": {
        "colab": {
          "base_uri": "https://localhost:8080/"
        },
        "id": "98wb2WQe1PxO",
        "outputId": "510de378-aa16-4eb9-b5e4-6e74a3dc984a"
      },
      "execution_count": 11,
      "outputs": [
        {
          "output_type": "stream",
          "name": "stdout",
          "text": [
            "a    NaN\n",
            "b    6.0\n",
            "c    8.0\n",
            "d    NaN\n",
            "dtype: float64 \n",
            "\n",
            "a    1.0\n",
            "b    6.0\n",
            "c    8.0\n",
            "d    6.0\n",
            "dtype: float64\n"
          ]
        }
      ]
    },
    {
      "cell_type": "markdown",
      "source": [
        "## Dataframes"
      ],
      "metadata": {
        "id": "emtHEBRj10o9"
      }
    },
    {
      "cell_type": "markdown",
      "source": [
        "A **DataFrame** is the primary data structure in pandas and represents a **two-dimensional, size-mutable, potentially heterogeneous tabular data structure** with **labeled axes** (rows and columns). Think of it as a spreadsheet or SQL table, where:\n",
        "\n",
        "- Rows represent observations or records\n",
        "- Columns represent variables or features\n",
        "- Each column can have a different data type (integers, floats, strings, booleans, etc.)\n",
        "- Both rows and columns have labels (indices)"
      ],
      "metadata": {
        "id": "8G67y7Ob2R7V"
      }
    },
    {
      "cell_type": "code",
      "source": [
        "import pandas as pd\n",
        "import numpy as np\n",
        "\n",
        "# 1. From a dictionary of lists/arrays\n",
        "data = {\n",
        "    'Name': ['Alice', 'Bob', 'Charlie', 'Diana'],\n",
        "    'Age': [25, 30, 35, 28],\n",
        "    'City': ['New York', 'London', 'Paris', 'Tokyo'],\n",
        "    'Salary': [50000, 60000, 70000, 55000]\n",
        "}\n",
        "df1 = pd.DataFrame(data)\n",
        "print(df1)"
      ],
      "metadata": {
        "colab": {
          "base_uri": "https://localhost:8080/"
        },
        "id": "y8xk78s_14Ql",
        "outputId": "933a3afa-cf2d-4446-ec93-43d36939d5ea"
      },
      "execution_count": 12,
      "outputs": [
        {
          "output_type": "stream",
          "name": "stdout",
          "text": [
            "      Name  Age      City  Salary\n",
            "0    Alice   25  New York   50000\n",
            "1      Bob   30    London   60000\n",
            "2  Charlie   35     Paris   70000\n",
            "3    Diana   28     Tokyo   55000\n"
          ]
        }
      ]
    },
    {
      "cell_type": "code",
      "source": [
        "# 2. From a list of dictionaries\n",
        "data_list = [\n",
        "    {'Name': 'Alice', 'Age': 25, 'City': 'New York'},\n",
        "    {'Name': 'Bob', 'Age': 30, 'City': 'London'},\n",
        "    {'Name': 'Charlie', 'Age': 35, 'City': 'Paris'}\n",
        "]\n",
        "df2 = pd.DataFrame(data_list)\n",
        "print(df2)"
      ],
      "metadata": {
        "id": "4yupkG2C24kT"
      },
      "execution_count": null,
      "outputs": []
    },
    {
      "cell_type": "code",
      "source": [
        "# 3. From a NumPy array\n",
        "arr = np.array([[1, 2, 3], [4, 5, 6], [7, 8, 9]])\n",
        "df3 = pd.DataFrame(arr, columns=['A', 'B', 'C'], index=['row1', 'row2', 'row3'])\n",
        "print(df3)"
      ],
      "metadata": {
        "colab": {
          "base_uri": "https://localhost:8080/"
        },
        "id": "s70weBtk26q_",
        "outputId": "931b1014-1223-435c-dc93-49f5ededc4f1"
      },
      "execution_count": 13,
      "outputs": [
        {
          "output_type": "stream",
          "name": "stdout",
          "text": [
            "      A  B  C\n",
            "row1  1  2  3\n",
            "row2  4  5  6\n",
            "row3  7  8  9\n"
          ]
        }
      ]
    },
    {
      "cell_type": "code",
      "source": [
        "# 4. From another DataFrame (copying)\n",
        "df4 = df1.copy()\n",
        "print(\"head \\n\", df4.head(), \"\\n\")\n",
        "\n",
        "# 5. From CSV file (common real-world scenario)\n",
        "# df5 = pd.read_csv('data.csv')\n",
        "\n",
        "# 6. From Excel file\n",
        "# df6 = pd.read_excel('data.xlsx')\n",
        "\n",
        "# 7. Creating empty DataFrame\n",
        "df_empty = pd.DataFrame()\n",
        "print(df_empty, \"\\n\")"
      ],
      "metadata": {
        "colab": {
          "base_uri": "https://localhost:8080/"
        },
        "id": "A1-u-HRP3K4m",
        "outputId": "f78721fb-d72f-4f3f-d580-1d91c02affc3"
      },
      "execution_count": 17,
      "outputs": [
        {
          "output_type": "stream",
          "name": "stdout",
          "text": [
            "head \n",
            "       Name  Age      City  Salary\n",
            "0    Alice   25  New York   50000\n",
            "1      Bob   30    London   60000\n",
            "2  Charlie   35     Paris   70000\n",
            "3    Diana   28     Tokyo   55000 \n",
            "\n",
            "Empty DataFrame\n",
            "Columns: []\n",
            "Index: [] \n",
            "\n"
          ]
        }
      ]
    },
    {
      "cell_type": "markdown",
      "source": [
        "**Specifying Index and Columns**"
      ],
      "metadata": {
        "id": "Fqe0YAyn4iPs"
      }
    },
    {
      "cell_type": "code",
      "source": [
        "# Custom index and columns\n",
        "data = [[1, 2, 3], [4, 5, 6]]\n",
        "df = pd.DataFrame(\n",
        "    data,\n",
        "    index=['first', 'second'],\n",
        "    columns=['col_A', 'col_B', 'col_C']\n",
        ")\n",
        "print(df)"
      ],
      "metadata": {
        "colab": {
          "base_uri": "https://localhost:8080/"
        },
        "id": "MUMZdmTN4hUw",
        "outputId": "8f3d3b28-cb3d-4fb9-dd37-d70adfaa3062"
      },
      "execution_count": 18,
      "outputs": [
        {
          "output_type": "stream",
          "name": "stdout",
          "text": [
            "        col_A  col_B  col_C\n",
            "first       1      2      3\n",
            "second      4      5      6\n"
          ]
        }
      ]
    },
    {
      "cell_type": "markdown",
      "source": [
        "**DataFrame Attributes**"
      ],
      "metadata": {
        "id": "QDt5UINP47iq"
      }
    },
    {
      "cell_type": "code",
      "source": [
        "df = pd.DataFrame({\n",
        "    'A': [1, 2, 3],\n",
        "    'B': [4.0, 5.0, 6.0],\n",
        "    'C': ['x', 'y', 'z']\n",
        "})\n",
        "\n",
        "# Shape (rows, columns)\n",
        "print(f\"Shape: {df.shape}\")  # Shape: (3, 3)\n",
        "\n",
        "# Number of dimensions\n",
        "print(f\"Dimensions: {df.ndim}\")  # Dimensions: 2\n",
        "\n",
        "# Total number of elements\n",
        "print(f\"Size: {df.size}\")  # Size: 9\n",
        "\n",
        "# Column names\n",
        "print(f\"Columns: {df.columns.tolist()}\")  # Columns: ['A', 'B', 'C']\n",
        "\n",
        "# Row index\n",
        "print(f\"Index: {df.index.tolist()}\")  # Index: [0, 1, 2]\n",
        "\n",
        "# Data types of each column\n",
        "print(f\"Data types:\\n{df.dtypes}\")\n",
        "\n",
        "# Check if DataFrame is empty\n",
        "print(f\"Empty: {df.empty}\")  # Empty: False\n",
        "\n",
        "# Underlying NumPy array (if homogeneous)\n",
        "print(f\"Values:\\n{df.values}\")"
      ],
      "metadata": {
        "id": "phkUMIPs43SY"
      },
      "execution_count": null,
      "outputs": []
    },
    {
      "cell_type": "markdown",
      "source": [
        "**Column Selection**"
      ],
      "metadata": {
        "id": "LjQoLuvE7DU0"
      }
    },
    {
      "cell_type": "code",
      "source": [
        "df = pd.DataFrame({\n",
        "    'Name': ['Alice', 'Bob', 'Charlie'],\n",
        "    'Age': [25, 30, 35],\n",
        "    'Salary': [50000, 60000, 70000]\n",
        "})\n",
        "\n",
        "# Single column (returns Series)\n",
        "print(df['Name'])\n",
        "# Output: Series with Name column\n",
        "\n",
        "# Multiple columns (returns DataFrame)\n",
        "print(df[['Name', 'Age']])\n",
        "\n",
        "# Using dot notation (only for valid Python identifiers)\n",
        "print(df.Name)  # Same as df['Name']"
      ],
      "metadata": {
        "colab": {
          "base_uri": "https://localhost:8080/"
        },
        "id": "9TEEIHqb7Cws",
        "outputId": "9bc1e53f-d869-454e-9ea0-d103228d547d"
      },
      "execution_count": 19,
      "outputs": [
        {
          "output_type": "stream",
          "name": "stdout",
          "text": [
            "0      Alice\n",
            "1        Bob\n",
            "2    Charlie\n",
            "Name: Name, dtype: object\n",
            "      Name  Age\n",
            "0    Alice   25\n",
            "1      Bob   30\n",
            "2  Charlie   35\n",
            "0      Alice\n",
            "1        Bob\n",
            "2    Charlie\n",
            "Name: Name, dtype: object\n"
          ]
        }
      ]
    },
    {
      "cell_type": "markdown",
      "source": [
        "**Row Selection**"
      ],
      "metadata": {
        "id": "aoW0teu37LmB"
      }
    },
    {
      "cell_type": "code",
      "source": [
        "# Using .loc (label-based)\n",
        "print(df.loc[0], \"\\n\")  # First row as Series\n",
        "print(df.loc[[0, 2]], \"\\n\")  # First and third rows as DataFrame\n",
        "\n",
        "# Using .iloc (position-based)\n",
        "print(df.iloc[0], \"\\n\")  # First row\n",
        "print(df.iloc[0:2], \"\\n\")  # First two rows (exclusive of end)\n",
        "\n",
        "# Boolean indexing\n",
        "print(df[df['Age'] > 25])  # Rows where Age > 25"
      ],
      "metadata": {
        "colab": {
          "base_uri": "https://localhost:8080/"
        },
        "id": "vAOefdw37RH4",
        "outputId": "e91c1647-568f-45c9-ee98-65474d5786c2"
      },
      "execution_count": 21,
      "outputs": [
        {
          "output_type": "stream",
          "name": "stdout",
          "text": [
            "Name      Alice\n",
            "Age          25\n",
            "Salary    50000\n",
            "Name: 0, dtype: object \n",
            "\n",
            "      Name  Age  Salary\n",
            "0    Alice   25   50000\n",
            "2  Charlie   35   70000 \n",
            "\n",
            "Name      Alice\n",
            "Age          25\n",
            "Salary    50000\n",
            "Name: 0, dtype: object \n",
            "\n",
            "    Name  Age  Salary\n",
            "0  Alice   25   50000\n",
            "1    Bob   30   60000 \n",
            "\n",
            "      Name  Age  Salary\n",
            "1      Bob   30   60000\n",
            "2  Charlie   35   70000\n"
          ]
        }
      ]
    },
    {
      "cell_type": "code",
      "source": [
        "# Select specific rows and columns\n",
        "print(df.loc[0:1, ['Name', 'Salary']])  # Rows 0-1, columns Name and Salary\n",
        "print(df.iloc[0:2, [0, 2]])  # First 2 rows, first and third columns\n",
        "\n",
        "# Using query method (string expression)\n",
        "print(df.query('Age > 25 and Salary < 70000'))"
      ],
      "metadata": {
        "colab": {
          "base_uri": "https://localhost:8080/"
        },
        "id": "JzCaRVWk7-vR",
        "outputId": "23a0b9d0-b9fe-48e2-8299-11ab44b323d6"
      },
      "execution_count": 24,
      "outputs": [
        {
          "output_type": "stream",
          "name": "stdout",
          "text": [
            "    Name  Salary\n",
            "0  Alice   50000\n",
            "1    Bob   60000\n",
            "    Name  Salary\n",
            "0  Alice   50000\n",
            "1    Bob   60000\n",
            "  Name  Age  Salary\n",
            "1  Bob   30   60000\n"
          ]
        }
      ]
    },
    {
      "cell_type": "markdown",
      "source": [
        "**Basic Operations**"
      ],
      "metadata": {
        "id": "rjJrMAQL8_R2"
      }
    },
    {
      "cell_type": "code",
      "source": [
        "df = pd.DataFrame({'A': [1, 2, 3], 'B': [4, 5, 6]})\n",
        "\n",
        "# Add new column\n",
        "df['C'] = [7, 8, 9]\n",
        "df['D'] = df['A'] + df['B']  # Calculated column\n",
        "print(\"df with D \\n\", df)\n",
        "\n",
        "# Remove columns\n",
        "df_dropped = df.drop('C', axis=1)  # axis=1 for columns\n",
        "df.drop('C', axis=1, inplace=True)  # Modify original\n",
        "print(df)\n",
        "\n",
        "# Add column using assign (returns new DataFrame)\n",
        "df_new = df.assign(E=df['A'] * 2)\n",
        "print(\"\\n df new\", df_new)\n",
        "\n",
        "# Rename columns\n",
        "df_renamed = df.rename(columns={'A': 'NewA', 'B': 'NewB'})\n",
        "print(\"\\n df renamed\", df_renamed)"
      ],
      "metadata": {
        "colab": {
          "base_uri": "https://localhost:8080/"
        },
        "id": "3fQXZzK689AK",
        "outputId": "39ce8fb7-029c-4a0f-dd91-791e127f7764"
      },
      "execution_count": 28,
      "outputs": [
        {
          "output_type": "stream",
          "name": "stdout",
          "text": [
            "df with D \n",
            "    A  B  C  D\n",
            "0  1  4  7  5\n",
            "1  2  5  8  7\n",
            "2  3  6  9  9\n",
            "   A  B  D\n",
            "0  1  4  5\n",
            "1  2  5  7\n",
            "2  3  6  9\n",
            "\n",
            " df new    A  B  D  E\n",
            "0  1  4  5  2\n",
            "1  2  5  7  4\n",
            "2  3  6  9  6\n",
            "\n",
            " df renamed    NewA  NewB  D\n",
            "0     1     4  5\n",
            "1     2     5  7\n",
            "2     3     6  9\n"
          ]
        }
      ]
    },
    {
      "cell_type": "code",
      "source": [
        "# Add row using concat (preferred method)\n",
        "new_row = pd.DataFrame({'A': [4], 'B': [7], 'D': [11], 'E': [8]})\n",
        "df_updated = pd.concat([df, new_row], ignore_index=True)\n",
        "print(df_updated)\n",
        "\n",
        "# Remove rows\n",
        "df_no_first = df.drop(0)  # Remove row with index 0\n",
        "print(df_no_first)\n",
        "df_filtered = df[df['A'] != 2]  # Remove rows where A equals 2\n",
        "print(df_filtered)"
      ],
      "metadata": {
        "colab": {
          "base_uri": "https://localhost:8080/"
        },
        "id": "bojIpHB89BXz",
        "outputId": "8f77cd17-8492-45de-e252-4e0d639d9796"
      },
      "execution_count": 30,
      "outputs": [
        {
          "output_type": "stream",
          "name": "stdout",
          "text": [
            "   A  B   D    E\n",
            "0  1  4   5  NaN\n",
            "1  2  5   7  NaN\n",
            "2  3  6   9  NaN\n",
            "3  4  7  11  8.0\n",
            "   A  B  D\n",
            "1  2  5  7\n",
            "2  3  6  9\n",
            "   A  B  D\n",
            "0  1  4  5\n",
            "2  3  6  9\n"
          ]
        }
      ]
    },
    {
      "cell_type": "markdown",
      "source": [
        "**Data Inspection and Summary**"
      ],
      "metadata": {
        "id": "NlTyS2zl-nX2"
      }
    },
    {
      "cell_type": "code",
      "source": [
        "df = pd.DataFrame({\n",
        "    'Name': ['Alice', 'Bob', 'Charlie', 'Diana'],\n",
        "    'Age': [25, 30, 35, 28],\n",
        "    'Salary': [50000, 60000, 70000, 55000],\n",
        "    'Department': ['IT', 'HR', 'IT', 'Finance']\n",
        "})\n",
        "\n",
        "# First few rows\n",
        "print(df.head(2))\n",
        "\n",
        "# Last few rows\n",
        "print(df.tail(2))\n",
        "\n",
        "# Summary statistics (numeric columns only)\n",
        "print(\"\\n describe \\n\", df.describe())\n",
        "\n",
        "# Information about DataFrame\n",
        "print(\"\\n info \\n\", df.info())\n",
        "\n",
        "# Check for missing values\n",
        "print(\"\\n missing values \\n\", df.isnull().sum())"
      ],
      "metadata": {
        "colab": {
          "base_uri": "https://localhost:8080/"
        },
        "id": "Tdo5CZbW-mYo",
        "outputId": "a2a8465f-83bc-4b09-996f-c2b12465ca67"
      },
      "execution_count": 35,
      "outputs": [
        {
          "output_type": "stream",
          "name": "stdout",
          "text": [
            "    Name  Age  Salary Department\n",
            "0  Alice   25   50000         IT\n",
            "1    Bob   30   60000         HR\n",
            "      Name  Age  Salary Department\n",
            "2  Charlie   35   70000         IT\n",
            "3    Diana   28   55000    Finance\n",
            "\n",
            " describe \n",
            "              Age        Salary\n",
            "count   4.000000      4.000000\n",
            "mean   29.500000  58750.000000\n",
            "std     4.203173   8539.125638\n",
            "min    25.000000  50000.000000\n",
            "25%    27.250000  53750.000000\n",
            "50%    29.000000  57500.000000\n",
            "75%    31.250000  62500.000000\n",
            "max    35.000000  70000.000000\n",
            "<class 'pandas.core.frame.DataFrame'>\n",
            "RangeIndex: 4 entries, 0 to 3\n",
            "Data columns (total 4 columns):\n",
            " #   Column      Non-Null Count  Dtype \n",
            "---  ------      --------------  ----- \n",
            " 0   Name        4 non-null      object\n",
            " 1   Age         4 non-null      int64 \n",
            " 2   Salary      4 non-null      int64 \n",
            " 3   Department  4 non-null      object\n",
            "dtypes: int64(2), object(2)\n",
            "memory usage: 260.0+ bytes\n",
            "\n",
            " info \n",
            " None\n",
            "\n",
            " missing values \n",
            " Name          0\n",
            "Age           0\n",
            "Salary        0\n",
            "Department    0\n",
            "dtype: int64\n"
          ]
        }
      ]
    },
    {
      "cell_type": "code",
      "source": [
        "# Count unique values in a column\n",
        "print(df['Department'].value_counts())\n",
        "\n",
        "# Get unique values\n",
        "print(df['Department'].unique())\n",
        "\n",
        "# Check if values are in a list\n",
        "print(df['Department'].isin(['IT', 'HR']))"
      ],
      "metadata": {
        "colab": {
          "base_uri": "https://localhost:8080/"
        },
        "id": "bamxN7-EAjhQ",
        "outputId": "94cdb402-fc18-444a-fe6d-e2e188349abc"
      },
      "execution_count": 36,
      "outputs": [
        {
          "output_type": "stream",
          "name": "stdout",
          "text": [
            "Department\n",
            "IT         2\n",
            "HR         1\n",
            "Finance    1\n",
            "Name: count, dtype: int64\n",
            "['IT' 'HR' 'Finance']\n",
            "0     True\n",
            "1     True\n",
            "2     True\n",
            "3    False\n",
            "Name: Department, dtype: bool\n"
          ]
        }
      ]
    },
    {
      "cell_type": "code",
      "source": [
        "df_with_nan = pd.DataFrame({\n",
        "    'A': [1, 2, np.nan, 4],\n",
        "    'B': [5, np.nan, np.nan, 8],\n",
        "    'C': [9, 10, 11, 12]\n",
        "})\n",
        "\n",
        "# Detect missing values\n",
        "print(df_with_nan.isnull())\n",
        "\n",
        "# Drop rows with any missing values\n",
        "df_dropped = df_with_nan.dropna()\n",
        "\n",
        "# Drop columns with any missing values\n",
        "df_dropped_cols = df_with_nan.dropna(axis=1)\n",
        "\n",
        "# Fill missing values\n",
        "df_filled = df_with_nan.fillna(0)\n",
        "df_filled_mean = df_with_nan.fillna(df_with_nan.mean())  # Fill with column mean\n",
        "\n",
        "# Forward fill or backward fill\n",
        "df_ffill = df_with_nan.fillna(method='ffill')\n",
        "df_bfill = df_with_nan.fillna(method='bfill')"
      ],
      "metadata": {
        "id": "1HcahbWjAyck"
      },
      "execution_count": null,
      "outputs": []
    },
    {
      "cell_type": "code",
      "source": [
        "df = pd.DataFrame({\n",
        "    'Name': ['Charlie', 'Alice', 'Bob'],\n",
        "    'Age': [35, 25, 30],\n",
        "    'Salary': [70000, 50000, 60000]\n",
        "})\n",
        "\n",
        "# Sort by single column\n",
        "df_sorted = df.sort_values('Age')\n",
        "print(df_sorted)\n",
        "\n",
        "# Sort by multiple columns\n",
        "df_sorted_multi = df.sort_values(['Age', 'Name'], ascending=[False, False])\n",
        "print(df_sorted_multi)\n",
        "\n",
        "# Sort by index\n",
        "df_sorted_index = df.sort_index()\n",
        "print(df_sorted_index)"
      ],
      "metadata": {
        "colab": {
          "base_uri": "https://localhost:8080/"
        },
        "id": "tHDuzil4BHSC",
        "outputId": "ebfb47a1-d830-4512-cec9-cebc3279c4ad"
      },
      "execution_count": 40,
      "outputs": [
        {
          "output_type": "stream",
          "name": "stdout",
          "text": [
            "      Name  Age  Salary\n",
            "1    Alice   25   50000\n",
            "2      Bob   30   60000\n",
            "0  Charlie   35   70000\n",
            "      Name  Age  Salary\n",
            "0  Charlie   35   70000\n",
            "2      Bob   30   60000\n",
            "1    Alice   25   50000\n",
            "      Name  Age  Salary\n",
            "0  Charlie   35   70000\n",
            "1    Alice   25   50000\n",
            "2      Bob   30   60000\n"
          ]
        }
      ]
    },
    {
      "cell_type": "code",
      "source": [
        "df = pd.DataFrame({\n",
        "    'Department': ['IT', 'HR', 'IT', 'Finance', 'HR', 'IT'],\n",
        "    'Salary': [50000, 45000, 70000, 60000, 55000, 80000],\n",
        "    'Age': [25, 30, 35, 28, 32, 40]\n",
        "})\n",
        "\n",
        "# Group by department and calculate mean\n",
        "grouped = df.groupby('Department')\n",
        "print(grouped.mean())\n",
        "\n",
        "# Multiple aggregations\n",
        "print(grouped.agg({\n",
        "    'Salary': ['mean', 'sum', 'count'],\n",
        "    'Age': ['min', 'max']\n",
        "}))\n",
        "\n",
        "# Group by multiple columns\n",
        "df['Experience'] = ['Junior', 'Senior', 'Senior', 'Mid', 'Senior', 'Senior']\n",
        "multi_group = df.groupby(['Department', 'Experience'])\n",
        "print(multi_group.mean())"
      ],
      "metadata": {
        "colab": {
          "base_uri": "https://localhost:8080/"
        },
        "id": "Eri4Or3jBwlm",
        "outputId": "372e949c-60fb-4c71-c0a0-3284ad24cf26"
      },
      "execution_count": 41,
      "outputs": [
        {
          "output_type": "stream",
          "name": "stdout",
          "text": [
            "                  Salary        Age\n",
            "Department                         \n",
            "Finance     60000.000000  28.000000\n",
            "HR          50000.000000  31.000000\n",
            "IT          66666.666667  33.333333\n",
            "                  Salary               Age    \n",
            "                    mean     sum count min max\n",
            "Department                                    \n",
            "Finance     60000.000000   60000     1  28  28\n",
            "HR          50000.000000  100000     2  30  32\n",
            "IT          66666.666667  200000     3  25  40\n",
            "                        Salary   Age\n",
            "Department Experience               \n",
            "Finance    Mid         60000.0  28.0\n",
            "HR         Senior      50000.0  31.0\n",
            "IT         Junior      50000.0  25.0\n",
            "           Senior      75000.0  37.5\n"
          ]
        }
      ]
    },
    {
      "cell_type": "code",
      "source": [
        "# Sample DataFrames\n",
        "df1 = pd.DataFrame({\n",
        "    'employee_id': [1, 2, 3, 4],\n",
        "    'name': ['Alice', 'Bob', 'Charlie', 'Diana'],\n",
        "    'department_id': [101, 102, 101, 103]\n",
        "})\n",
        "\n",
        "df2 = pd.DataFrame({\n",
        "    'department_id': [101, 102, 103, 104],\n",
        "    'department_name': ['IT', 'HR', 'Finance', 'Marketing']\n",
        "})\n",
        "\n",
        "# Inner join (default)\n",
        "merged_inner = pd.merge(df1, df2, on='department_id')\n",
        "print(merged_inner)\n",
        "\n",
        "# Left join\n",
        "merged_left = pd.merge(df1, df2, on='department_id', how='left')\n",
        "print(merged_left)\n",
        "\n",
        "# Right join\n",
        "merged_right = pd.merge(df1, df2, on='department_id', how='right')\n",
        "print(merged_right)\n",
        "\n",
        "# Outer join\n",
        "merged_outer = pd.merge(df1, df2, on='department_id', how='outer')\n",
        "print(merged_outer)"
      ],
      "metadata": {
        "colab": {
          "base_uri": "https://localhost:8080/"
        },
        "id": "u7NbERhwGUGd",
        "outputId": "fc59c58d-4a3c-4488-8404-28ecba91428c"
      },
      "execution_count": 44,
      "outputs": [
        {
          "output_type": "stream",
          "name": "stdout",
          "text": [
            "   employee_id     name  department_id department_name\n",
            "0            1    Alice            101              IT\n",
            "1            2      Bob            102              HR\n",
            "2            3  Charlie            101              IT\n",
            "3            4    Diana            103         Finance\n",
            "   employee_id     name  department_id department_name\n",
            "0            1    Alice            101              IT\n",
            "1            2      Bob            102              HR\n",
            "2            3  Charlie            101              IT\n",
            "3            4    Diana            103         Finance\n",
            "   employee_id     name  department_id department_name\n",
            "0          1.0    Alice            101              IT\n",
            "1          3.0  Charlie            101              IT\n",
            "2          2.0      Bob            102              HR\n",
            "3          4.0    Diana            103         Finance\n",
            "4          NaN      NaN            104       Marketing\n",
            "   employee_id     name  department_id department_name\n",
            "0          1.0    Alice            101              IT\n",
            "1          3.0  Charlie            101              IT\n",
            "2          2.0      Bob            102              HR\n",
            "3          4.0    Diana            103         Finance\n",
            "4          NaN      NaN            104       Marketing\n"
          ]
        }
      ]
    },
    {
      "cell_type": "code",
      "source": [
        "df_sales = pd.DataFrame({\n",
        "    'Region': ['North', 'South', 'North', 'South', 'North', 'South'],\n",
        "    'Product': ['A', 'A', 'B', 'B', 'A', 'B'],\n",
        "    'Sales': [100, 150, 200, 250, 120, 180]\n",
        "})\n",
        "\n",
        "# Create pivot table\n",
        "pivot = df_sales.pivot_table(\n",
        "    values='Sales',\n",
        "    index='Region',\n",
        "    columns='Product',\n",
        "    aggfunc='sum'\n",
        ")\n",
        "print(pivot)"
      ],
      "metadata": {
        "colab": {
          "base_uri": "https://localhost:8080/"
        },
        "id": "OX6TDReiJY-e",
        "outputId": "2163ed71-b8f9-416e-e559-410228e0aecc"
      },
      "execution_count": 45,
      "outputs": [
        {
          "output_type": "stream",
          "name": "stdout",
          "text": [
            "Product    A    B\n",
            "Region           \n",
            "North    220  200\n",
            "South    150  430\n"
          ]
        }
      ]
    },
    {
      "cell_type": "markdown",
      "source": [
        "| Function         | Purpose                                                                    |\n",
        "| ---------------- | -------------------------------------------------------------------------- |\n",
        "| `applymap(func)` | Apply a function **element-wise** on the entire DataFrame (deprecated now) |\n",
        "| `apply(func)`    | Apply a function **column-wise** (or row-wise with `axis=1`)               |\n",
        "| `agg(func_dict)` | Apply **different functions to different columns**                         |\n"
      ],
      "metadata": {
        "id": "djcCeDHdNOB9"
      }
    },
    {
      "cell_type": "code",
      "source": [
        "df = pd.DataFrame({'A': [1, 2, 3], 'B': [4, 5, 6]})\n",
        "\n",
        "# Apply function to each element\n",
        "df_squared = df.applymap(lambda x: x**2)  # Deprecated in newer versions\n",
        "df_squared = df.apply(lambda x: x**2)\n",
        "\n",
        "# Apply different functions to different columns\n",
        "df_transformed = df.agg({\n",
        "    'A': lambda x: x * 2,\n",
        "    'B': lambda x: x + 10\n",
        "})"
      ],
      "metadata": {
        "id": "TXUs9haFMp6t"
      },
      "execution_count": null,
      "outputs": []
    },
    {
      "cell_type": "code",
      "source": [
        "# Create DataFrame with datetime index\n",
        "dates = pd.date_range('2023-01-01', periods=6, freq='D')\n",
        "df_time = pd.DataFrame({\n",
        "    'Sales': [100, 120, 110, 130, 140, 150],\n",
        "    'Expenses': [80, 90, 85, 95, 100, 105]\n",
        "}, index=dates)\n",
        "\n",
        "# Resample to weekly frequency\n",
        "weekly = df_time.resample('W').sum()\n",
        "\n",
        "# Rolling window operations\n",
        "df_time['Rolling_Mean'] = df_time['Sales'].rolling(window=3).mean()"
      ],
      "metadata": {
        "id": "5l7fm5I8Ns28"
      },
      "execution_count": null,
      "outputs": []
    },
    {
      "cell_type": "code",
      "source": [
        "# Real-world example: Sales Analysis\n",
        "import pandas as pd\n",
        "import numpy as np\n",
        "\n",
        "# Create sample sales data\n",
        "np.random.seed(42)\n",
        "dates = pd.date_range('2023-01-01', periods=100, freq='D')\n",
        "products = np.random.choice(['Laptop', 'Phone', 'Tablet'], 100)\n",
        "regions = np.random.choice(['North', 'South', 'East', 'West'], 100)\n",
        "sales = np.random.randint(1000, 5000, 100)\n",
        "profit_margin = np.random.uniform(0.1, 0.3, 100)\n",
        "\n",
        "df = pd.DataFrame({\n",
        "    'Date': dates,\n",
        "    'Product': products,\n",
        "    'Region': regions,\n",
        "    'Sales': sales,\n",
        "    'Profit_Margin': profit_margin\n",
        "})\n",
        "\n",
        "# Set Date as index\n",
        "df.set_index('Date', inplace=True)\n",
        "\n",
        "# Add calculated columns\n",
        "df['Profit'] = df['Sales'] * df['Profit_Margin']\n",
        "\n",
        "# Summary statistics\n",
        "print(\"Overall Summary:\")\n",
        "print(df.describe())\n",
        "\n",
        "# Group by product and region\n",
        "summary = df.groupby(['Product', 'Region']).agg({\n",
        "    'Sales': ['sum', 'mean', 'count'],\n",
        "    'Profit': 'sum'\n",
        "}).round(2)\n",
        "\n",
        "print(\"\\nSales by Product and Region:\")\n",
        "print(summary)\n",
        "\n",
        "# Find top performing products\n",
        "top_products = df.groupby('Product')['Sales'].sum().sort_values(ascending=False)\n",
        "print(\"\\nTop Products by Sales:\")\n",
        "print(top_products)"
      ],
      "metadata": {
        "colab": {
          "base_uri": "https://localhost:8080/"
        },
        "id": "IavUlwdWU72F",
        "outputId": "3cfb71e4-46ce-4fd5-ac2a-15790faefe91"
      },
      "execution_count": 46,
      "outputs": [
        {
          "output_type": "stream",
          "name": "stdout",
          "text": [
            "Overall Summary:\n",
            "             Sales  Profit_Margin       Profit\n",
            "count   100.000000     100.000000   100.000000\n",
            "mean   3092.100000       0.207520   650.862658\n",
            "std    1148.738126       0.058624   329.404733\n",
            "min    1001.000000       0.101012   115.668465\n",
            "25%    2231.000000       0.155376   390.551522\n",
            "50%    2942.500000       0.214697   552.476850\n",
            "75%    4278.000000       0.259690   920.467376\n",
            "max    4908.000000       0.298011  1358.789861\n",
            "\n",
            "Sales by Product and Region:\n",
            "                Sales                  Profit\n",
            "                  sum     mean count      sum\n",
            "Product Region                               \n",
            "Laptop  East    30554  3394.89     9  7328.11\n",
            "        North   18904  3150.67     6  3456.90\n",
            "        South   30236  3359.56     9  6773.42\n",
            "        West    30888  3432.00     9  6589.11\n",
            "Phone   East    34211  2631.62    13  6687.93\n",
            "        North   19630  2453.75     8  4381.45\n",
            "        South   16954  2422.00     7  3335.63\n",
            "        West    21945  2743.12     8  3978.08\n",
            "Tablet  East    44823  3735.25    12  8838.42\n",
            "        North   22056  2757.00     8  4872.43\n",
            "        South   10072  3357.33     3  2489.02\n",
            "        West    28937  3617.12     8  6355.77\n",
            "\n",
            "Top Products by Sales:\n",
            "Product\n",
            "Laptop    110582\n",
            "Tablet    105888\n",
            "Phone      92740\n",
            "Name: Sales, dtype: int64\n"
          ]
        }
      ]
    }
  ]
}