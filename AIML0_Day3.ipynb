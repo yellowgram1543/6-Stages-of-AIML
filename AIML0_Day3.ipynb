{
  "nbformat": 4,
  "nbformat_minor": 0,
  "metadata": {
    "colab": {
      "provenance": [],
      "authorship_tag": "ABX9TyPFbaqxgYqm/hYq9pyjSTAK",
      "include_colab_link": true
    },
    "kernelspec": {
      "name": "python3",
      "display_name": "Python 3"
    },
    "language_info": {
      "name": "python"
    }
  },
  "cells": [
    {
      "cell_type": "markdown",
      "metadata": {
        "id": "view-in-github",
        "colab_type": "text"
      },
      "source": [
        "<a href=\"https://colab.research.google.com/github/yellowgram1543/6-Stages-of-AIML/blob/main/AIML0_Day3.ipynb\" target=\"_parent\"><img src=\"https://colab.research.google.com/assets/colab-badge.svg\" alt=\"Open In Colab\"/></a>"
      ]
    },
    {
      "cell_type": "code",
      "execution_count": 1,
      "metadata": {
        "id": "_9NzTP-Qnv_R"
      },
      "outputs": [],
      "source": [
        "import numpy as np\n",
        "import pandas as pd"
      ]
    },
    {
      "cell_type": "markdown",
      "source": [
        "## **Series**"
      ],
      "metadata": {
        "id": "HMfCjjEZprto"
      }
    },
    {
      "cell_type": "markdown",
      "source": [
        "A **Series** is one of the two primary data structures in pandas (the other being DataFrame). It's a **one-dimensional labeled array** capable of holding data of any type (integers, strings, floating point numbers, Python objects, etc.). Think of it as a single column of data with an associated index.\n",
        "\n",
        "- One-dimensional: Contains a single column of data\n",
        "- Homogeneous data type: All elements typically have the same data type (though technically can hold mixed types)\n",
        "- Labeled index: Each element has an associated label (index)\n",
        "- Size-immutable: You cannot change the size of a Series after creation\n",
        "- Values are mutable: You can modify the values within the Series"
      ],
      "metadata": {
        "id": "bSfTGUH-oPwk"
      }
    },
    {
      "cell_type": "code",
      "source": [
        "import pandas as pd\n",
        "import numpy as np\n",
        "\n",
        "# 1. From a Python list\n",
        "s1 = pd.Series([1, 3, 5, np.nan, 6, 8])\n",
        "print(s1, \"\\n\")\n",
        "\n",
        "# 2. With custom index\n",
        "s2 = pd.Series([10, 20, 30, 40], index=['a', 'b', 'c', 'd'])\n",
        "print(s2, \"\\n\")\n",
        "\n",
        "# 3. From a dictionary\n",
        "data_dict = {'apple': 45, 'banana': 30, 'orange': 55}\n",
        "s3 = pd.Series(data_dict)\n",
        "print(s3, \"\\n\")\n",
        "\n",
        "# 4. From a scalar value (creates Series with repeated value)\n",
        "s4 = pd.Series(5, index=['x', 'y', 'z'])\n",
        "print(s4, \"\\n\")\n",
        "\n",
        "# 5. From NumPy array\n",
        "arr = np.array([1, 2, 3, 4])\n",
        "s5 = pd.Series(arr)\n",
        "print(s5)"
      ],
      "metadata": {
        "colab": {
          "base_uri": "https://localhost:8080/"
        },
        "id": "D3UFiVF_oObe",
        "outputId": "b2d65c2b-a520-447c-a912-4d7211181643"
      },
      "execution_count": 4,
      "outputs": [
        {
          "output_type": "stream",
          "name": "stdout",
          "text": [
            "0    1.0\n",
            "1    3.0\n",
            "2    5.0\n",
            "3    NaN\n",
            "4    6.0\n",
            "5    8.0\n",
            "dtype: float64 \n",
            "\n",
            "a    10\n",
            "b    20\n",
            "c    30\n",
            "d    40\n",
            "dtype: int64 \n",
            "\n",
            "apple     45\n",
            "banana    30\n",
            "orange    55\n",
            "dtype: int64 \n",
            "\n",
            "x    5\n",
            "y    5\n",
            "z    5\n",
            "dtype: int64 \n",
            "\n",
            "0    1\n",
            "1    2\n",
            "2    3\n",
            "3    4\n",
            "dtype: int64\n"
          ]
        }
      ]
    },
    {
      "cell_type": "markdown",
      "source": [
        "**Series Attributes**"
      ],
      "metadata": {
        "id": "fbm851-PpfsQ"
      }
    },
    {
      "cell_type": "code",
      "source": [
        "s = pd.Series([10, 20, 30, 40], index=['a', 'b', 'c', 'd'])\n",
        "\n",
        "# Access the underlying data as a NumPy array\n",
        "print(s.values, \"\\n\")\n",
        "\n",
        "# Access the index\n",
        "print(s.index, \"\\n\")\n",
        "\n",
        "# Get the data type\n",
        "print(s.dtype, \"\\n\")\n",
        "\n",
        "# Get the shape\n",
        "print(s.shape, \"\\n\")\n",
        "\n",
        "# Get the size (number of elements)\n",
        "print(s.size, \"\\n\")\n",
        "\n",
        "# Check if Series is empty\n",
        "print(s.empty)"
      ],
      "metadata": {
        "colab": {
          "base_uri": "https://localhost:8080/"
        },
        "id": "mqvqDnRgpxzp",
        "outputId": "a31a28f5-7cec-4aa5-96cc-aa8032612f2b"
      },
      "execution_count": 6,
      "outputs": [
        {
          "output_type": "stream",
          "name": "stdout",
          "text": [
            "[10 20 30 40] \n",
            "\n",
            "Index(['a', 'b', 'c', 'd'], dtype='object') \n",
            "\n",
            "int64 \n",
            "\n",
            "(4,) \n",
            "\n",
            "4 \n",
            "\n",
            "False\n"
          ]
        }
      ]
    },
    {
      "cell_type": "markdown",
      "source": [
        "**Indexing**"
      ],
      "metadata": {
        "id": "vHC3YwXOqoru"
      }
    },
    {
      "cell_type": "code",
      "source": [
        "s = pd.Series([10, 20, 30, 40], index=['a', 'b', 'c', 'd'])\n",
        "\n",
        "# Single label\n",
        "print(s['a'])        # 10\n",
        "\n",
        "# Multiple labels\n",
        "print(s[['a', 'c']])\n",
        "\n",
        "# Using .loc for explicit label-based access\n",
        "print(s.loc['b'], \"\\n\")    # 20\n",
        "print(s.loc[['b', 'd']], \"\\n\")\n",
        "\n",
        "print(s.iloc[0], \"\\n\")     # 10 (first element)\n",
        "print(s.iloc[1:3], \"\\n\")   # Elements at positions 1 and 2\n",
        "\n",
        "mask = s > 25\n",
        "print(mask)"
      ],
      "metadata": {
        "colab": {
          "base_uri": "https://localhost:8080/"
        },
        "id": "1cUCbX6uqs_X",
        "outputId": "8294f19b-2d9e-4f20-ea6a-1559711bb535"
      },
      "execution_count": 10,
      "outputs": [
        {
          "output_type": "stream",
          "name": "stdout",
          "text": [
            "10\n",
            "a    10\n",
            "c    30\n",
            "dtype: int64\n",
            "20 \n",
            "\n",
            "b    20\n",
            "d    40\n",
            "dtype: int64 \n",
            "\n",
            "10 \n",
            "\n",
            "b    20\n",
            "c    30\n",
            "dtype: int64\n"
          ]
        }
      ]
    },
    {
      "cell_type": "markdown",
      "source": [
        "**Series Operation**"
      ],
      "metadata": {
        "id": "bXy_T72NzK71"
      }
    },
    {
      "cell_type": "code",
      "source": [
        "s1 = pd.Series([1, 2, 3, 4], index=['a', 'b', 'c', 'd'])\n",
        "s2 = pd.Series([10, 20, 30, 40], index=['a', 'b', 'c', 'd'])\n",
        "\n",
        "# Element-wise operations\n",
        "print(s1 + s2)\n",
        "print(s2 / s1)"
      ],
      "metadata": {
        "id": "xDQTOOadzOHP"
      },
      "execution_count": null,
      "outputs": []
    },
    {
      "cell_type": "code",
      "source": [
        "s = pd.Series([1, np.nan, 3, np.nan, 5])\n",
        "\n",
        "# Check for missing values\n",
        "print(s.isnull())\n",
        "\n",
        "# Drop missing values\n",
        "print(s.dropna())\n",
        "\n",
        "# Fill missing values\n",
        "print(s.fillna(0))"
      ],
      "metadata": {
        "id": "ccVvlMxxzTZa"
      },
      "execution_count": null,
      "outputs": []
    },
    {
      "cell_type": "markdown",
      "source": [
        "**Statstical Methods**"
      ],
      "metadata": {
        "id": "eWoGhixa0Pvs"
      }
    },
    {
      "cell_type": "code",
      "source": [
        "s = pd.Series([1, 2, 3, 4, 5, 6, 7, 8, 9, 10])\n",
        "\n",
        "print(s.sum())      # 55\n",
        "print(s.mean())     # 5.5\n",
        "print(s.median())   # 5.5\n",
        "print(s.std())      # 3.0276503540974917\n",
        "print(s.min())      # 1\n",
        "print(s.max())      # 10\n",
        "print(s.count())    # 10 (counts non-null values)"
      ],
      "metadata": {
        "id": "jAFacWF10Wfa"
      },
      "execution_count": null,
      "outputs": []
    },
    {
      "cell_type": "markdown",
      "source": [
        "**Sorting**"
      ],
      "metadata": {
        "id": "nIh7lKAI0WFk"
      }
    },
    {
      "cell_type": "code",
      "source": [
        "s = pd.Series([3, 1, 4, 1, 5], index=['e', 'a', 'c', 'b', 'd'])\n",
        "\n",
        "# Sort by values\n",
        "print(s.sort_values())\n",
        "\n",
        "# Sort by index\n",
        "print(s.sort_index())"
      ],
      "metadata": {
        "id": "F6O9welV0fvi"
      },
      "execution_count": null,
      "outputs": []
    },
    {
      "cell_type": "markdown",
      "source": [
        "**String Operations**"
      ],
      "metadata": {
        "id": "GnnHFRRh1BGy"
      }
    },
    {
      "cell_type": "code",
      "source": [
        "s = pd.Series(['apple', 'banana', 'cherry'])\n",
        "\n",
        "print(s.str.upper())\n",
        "print(s.str.len())"
      ],
      "metadata": {
        "id": "H28A_2Hg1Eet"
      },
      "execution_count": null,
      "outputs": []
    },
    {
      "cell_type": "markdown",
      "source": [
        "**Alignment Feature**\n",
        "\n",
        "One of pandas' most powerful features is automatic alignment based on index labels"
      ],
      "metadata": {
        "id": "EQQoENQe1Kqw"
      }
    },
    {
      "cell_type": "code",
      "source": [
        "s1 = pd.Series([1, 2, 3], index=['a', 'b', 'c'])\n",
        "s2 = pd.Series([4, 5, 6], index=['b', 'c', 'd'])\n",
        "\n",
        "# When performing operations, pandas aligns by index\n",
        "result = s1 + s2\n",
        "print(result, \"\\n\")\n",
        "\n",
        "# To handle missing values in alignment\n",
        "result_filled = s1.add(s2, fill_value=0)\n",
        "print(result_filled)\n",
        "# a    1.0  (1+0)\n",
        "# b    6.0  (1+5)\n",
        "# c    8.0  (2+6)\n",
        "# d    6.0  (0+6)"
      ],
      "metadata": {
        "colab": {
          "base_uri": "https://localhost:8080/"
        },
        "id": "98wb2WQe1PxO",
        "outputId": "510de378-aa16-4eb9-b5e4-6e74a3dc984a"
      },
      "execution_count": 11,
      "outputs": [
        {
          "output_type": "stream",
          "name": "stdout",
          "text": [
            "a    NaN\n",
            "b    6.0\n",
            "c    8.0\n",
            "d    NaN\n",
            "dtype: float64 \n",
            "\n",
            "a    1.0\n",
            "b    6.0\n",
            "c    8.0\n",
            "d    6.0\n",
            "dtype: float64\n"
          ]
        }
      ]
    }
  ]
}